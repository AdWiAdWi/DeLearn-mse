{
 "cells": [
  {
   "cell_type": "markdown",
   "metadata": {
    "id": "ZUf2Lt2sgXSs"
   },
   "source": [
    "# Seq2seq: Machine translation with pytorch and torchtext"
   ]
  },
  {
   "cell_type": "markdown",
   "metadata": {},
   "source": [
    "# Exercise 3 - Group 4\n",
    "- Matthias Egli\n",
    "- Florian Bär\n",
    "- Manuel Vogel\n",
    "- Adrian Willi"
   ]
  },
  {
   "cell_type": "code",
   "execution_count": 63,
   "metadata": {
    "colab": {
     "base_uri": "https://localhost:8080/"
    },
    "id": "lby8Q1PZgjVr",
    "outputId": "256b7577-c74e-4f03-d109-71a523ab3e10"
   },
   "outputs": [
    {
     "name": "stdout",
     "output_type": "stream",
     "text": [
      "Requirement already satisfied: torchinfo in /usr/local/lib/python3.7/dist-packages (1.6.5)\n"
     ]
    }
   ],
   "source": [
    "!pip install torchinfo"
   ]
  },
  {
   "cell_type": "code",
   "execution_count": 64,
   "metadata": {
    "colab": {
     "base_uri": "https://localhost:8080/"
    },
    "id": "tgCjQQPfg5jh",
    "outputId": "821c4137-7883-4e24-eb8f-7ddf2501eeaf"
   },
   "outputs": [
    {
     "name": "stdout",
     "output_type": "stream",
     "text": [
      "Requirement already satisfied: torchtext==0.10.0 in /usr/local/lib/python3.7/dist-packages (0.10.0)\n",
      "Requirement already satisfied: numpy in /usr/local/lib/python3.7/dist-packages (from torchtext==0.10.0) (1.21.6)\n",
      "Requirement already satisfied: torch==1.9.0 in /usr/local/lib/python3.7/dist-packages (from torchtext==0.10.0) (1.9.0)\n",
      "Requirement already satisfied: tqdm in /usr/local/lib/python3.7/dist-packages (from torchtext==0.10.0) (4.64.0)\n",
      "Requirement already satisfied: requests in /usr/local/lib/python3.7/dist-packages (from torchtext==0.10.0) (2.23.0)\n",
      "Requirement already satisfied: typing-extensions in /usr/local/lib/python3.7/dist-packages (from torch==1.9.0->torchtext==0.10.0) (4.2.0)\n",
      "Requirement already satisfied: certifi>=2017.4.17 in /usr/local/lib/python3.7/dist-packages (from requests->torchtext==0.10.0) (2021.10.8)\n",
      "Requirement already satisfied: urllib3!=1.25.0,!=1.25.1,<1.26,>=1.21.1 in /usr/local/lib/python3.7/dist-packages (from requests->torchtext==0.10.0) (1.24.3)\n",
      "Requirement already satisfied: idna<3,>=2.5 in /usr/local/lib/python3.7/dist-packages (from requests->torchtext==0.10.0) (2.10)\n",
      "Requirement already satisfied: chardet<4,>=3.0.2 in /usr/local/lib/python3.7/dist-packages (from requests->torchtext==0.10.0) (3.0.4)\n"
     ]
    }
   ],
   "source": [
    "!pip install -U torchtext==0.10.0"
   ]
  },
  {
   "cell_type": "code",
   "execution_count": 65,
   "metadata": {
    "id": "EUQU5TeAgXS0"
   },
   "outputs": [],
   "source": [
    "##############################################\n",
    "#  COMPLETE CODE BELOW WHERE YOU SEE # ...   #\n",
    "##############################################\n",
    "\n",
    "\n",
    "import torch # torch==1.8.0\n",
    "import torch.nn.functional as F\n",
    "from torch import nn\n",
    "from torchinfo import summary\n",
    "from torch.utils.data import DataLoader, TensorDataset \n",
    "from tqdm.notebook import tqdm\n",
    "import torch.optim as optim\n",
    "\n",
    "from torchtext.legacy.datasets import Multi30k # torchtext==0.8\n",
    "from torchtext.legacy.data import Field, BucketIterator\n",
    "\n",
    "import spacy\n",
    "import numpy as np\n",
    "import math\n",
    "import random\n",
    "import matplotlib.pyplot as plt\n",
    "import time"
   ]
  },
  {
   "cell_type": "code",
   "execution_count": 66,
   "metadata": {
    "colab": {
     "base_uri": "https://localhost:8080/"
    },
    "id": "AICm8t1OgXS9",
    "outputId": "aeb31014-4a99-4986-b577-71330e4e8ba0"
   },
   "outputs": [
    {
     "data": {
      "text/plain": [
       "device(type='cuda')"
      ]
     },
     "execution_count": 66,
     "metadata": {},
     "output_type": "execute_result"
    }
   ],
   "source": [
    "device = torch.device('cuda' if torch.cuda.is_available() else 'cpu')\n",
    "device"
   ]
  },
  {
   "cell_type": "code",
   "execution_count": 67,
   "metadata": {
    "id": "VwBGTyE9I75O"
   },
   "outputs": [],
   "source": [
    "device = torch.device('cuda:0')"
   ]
  },
  {
   "cell_type": "code",
   "execution_count": 68,
   "metadata": {
    "colab": {
     "base_uri": "https://localhost:8080/"
    },
    "id": "mw5gY1vHKgCN",
    "outputId": "eef2ad36-f8cc-426a-d7ca-0c2913f83397"
   },
   "outputs": [
    {
     "name": "stdout",
     "output_type": "stream",
     "text": [
      "cuda:0\n"
     ]
    }
   ],
   "source": [
    "print(device)"
   ]
  },
  {
   "cell_type": "markdown",
   "metadata": {
    "id": "vjVjVqXtgXS_"
   },
   "source": [
    "This notebook trains  seq2seq models for German to English translation, using PyTorch and torchtext. Yet, this kind of models can be applied on any problem that requires going from one sequence to another, e.g., text summarization and visual question answering (VQA).\n",
    "\n",
    "The encoder-decoder architecture represents one of the most common used baseline for seq2seq models. This architecture commonly use a RNN to encode the input sentence into a single vector, namely <em>context vector</em> (the final hidden state of the encoder). This vector is then decode by a second RNN, which will be learned to generate the output sentence (one word at a time).\n",
    "\n",
    "The models that we are implementing here are from the [Sequence to Sequence Learning with Neural Networks](https://arxiv.org/pdf/1409.3215.pdf) paper."
   ]
  },
  {
   "cell_type": "markdown",
   "metadata": {
    "id": "AoL-zHtngXTC"
   },
   "source": [
    "## Preparing Data\n",
    "`pytorchtext` will be used to help us do all the reuired data preprocessing. We'll also use `spacy` to assist in the tokenization of the data.\\\n",
    "A tokenizer is used to turn a string containing a sentence into a list of individual tokens, e.g., \"guten morgen !\" --> [\"guten\", \"morgen\", \"!\"].\n",
    "\n",
    "spaCy has model for each language (\"de_core_news_sm\" for German and \"en_core_web_sm\" for English) which need to be loaded so we can access the tokenizer of each model.\n",
    "\n",
    "<strong>Note:</strong> the models must first be downloaded using the following on the command line:"
   ]
  },
  {
   "cell_type": "code",
   "execution_count": 69,
   "metadata": {
    "colab": {
     "base_uri": "https://localhost:8080/"
    },
    "id": "WbE6twjlgXTE",
    "outputId": "855ef42c-5ae2-4c8a-8165-836c2915870f"
   },
   "outputs": [
    {
     "name": "stdout",
     "output_type": "stream",
     "text": [
      "Collecting en_core_web_sm==2.2.5\n",
      "  Downloading https://github.com/explosion/spacy-models/releases/download/en_core_web_sm-2.2.5/en_core_web_sm-2.2.5.tar.gz (12.0 MB)\n",
      "\u001b[K     |████████████████████████████████| 12.0 MB 5.3 MB/s \n",
      "\u001b[?25hRequirement already satisfied: spacy>=2.2.2 in /usr/local/lib/python3.7/dist-packages (from en_core_web_sm==2.2.5) (2.2.4)\n",
      "Requirement already satisfied: tqdm<5.0.0,>=4.38.0 in /usr/local/lib/python3.7/dist-packages (from spacy>=2.2.2->en_core_web_sm==2.2.5) (4.64.0)\n",
      "Requirement already satisfied: plac<1.2.0,>=0.9.6 in /usr/local/lib/python3.7/dist-packages (from spacy>=2.2.2->en_core_web_sm==2.2.5) (1.1.3)\n",
      "Requirement already satisfied: cymem<2.1.0,>=2.0.2 in /usr/local/lib/python3.7/dist-packages (from spacy>=2.2.2->en_core_web_sm==2.2.5) (2.0.6)\n",
      "Requirement already satisfied: setuptools in /usr/local/lib/python3.7/dist-packages (from spacy>=2.2.2->en_core_web_sm==2.2.5) (57.4.0)\n",
      "Requirement already satisfied: requests<3.0.0,>=2.13.0 in /usr/local/lib/python3.7/dist-packages (from spacy>=2.2.2->en_core_web_sm==2.2.5) (2.23.0)\n",
      "Requirement already satisfied: numpy>=1.15.0 in /usr/local/lib/python3.7/dist-packages (from spacy>=2.2.2->en_core_web_sm==2.2.5) (1.21.6)\n",
      "Requirement already satisfied: blis<0.5.0,>=0.4.0 in /usr/local/lib/python3.7/dist-packages (from spacy>=2.2.2->en_core_web_sm==2.2.5) (0.4.1)\n",
      "Requirement already satisfied: preshed<3.1.0,>=3.0.2 in /usr/local/lib/python3.7/dist-packages (from spacy>=2.2.2->en_core_web_sm==2.2.5) (3.0.6)\n",
      "Requirement already satisfied: wasabi<1.1.0,>=0.4.0 in /usr/local/lib/python3.7/dist-packages (from spacy>=2.2.2->en_core_web_sm==2.2.5) (0.9.1)\n",
      "Requirement already satisfied: catalogue<1.1.0,>=0.0.7 in /usr/local/lib/python3.7/dist-packages (from spacy>=2.2.2->en_core_web_sm==2.2.5) (1.0.0)\n",
      "Requirement already satisfied: srsly<1.1.0,>=1.0.2 in /usr/local/lib/python3.7/dist-packages (from spacy>=2.2.2->en_core_web_sm==2.2.5) (1.0.5)\n",
      "Requirement already satisfied: murmurhash<1.1.0,>=0.28.0 in /usr/local/lib/python3.7/dist-packages (from spacy>=2.2.2->en_core_web_sm==2.2.5) (1.0.7)\n",
      "Requirement already satisfied: thinc==7.4.0 in /usr/local/lib/python3.7/dist-packages (from spacy>=2.2.2->en_core_web_sm==2.2.5) (7.4.0)\n",
      "Requirement already satisfied: importlib-metadata>=0.20 in /usr/local/lib/python3.7/dist-packages (from catalogue<1.1.0,>=0.0.7->spacy>=2.2.2->en_core_web_sm==2.2.5) (4.11.3)\n",
      "Requirement already satisfied: zipp>=0.5 in /usr/local/lib/python3.7/dist-packages (from importlib-metadata>=0.20->catalogue<1.1.0,>=0.0.7->spacy>=2.2.2->en_core_web_sm==2.2.5) (3.8.0)\n",
      "Requirement already satisfied: typing-extensions>=3.6.4 in /usr/local/lib/python3.7/dist-packages (from importlib-metadata>=0.20->catalogue<1.1.0,>=0.0.7->spacy>=2.2.2->en_core_web_sm==2.2.5) (4.2.0)\n",
      "Requirement already satisfied: urllib3!=1.25.0,!=1.25.1,<1.26,>=1.21.1 in /usr/local/lib/python3.7/dist-packages (from requests<3.0.0,>=2.13.0->spacy>=2.2.2->en_core_web_sm==2.2.5) (1.24.3)\n",
      "Requirement already satisfied: idna<3,>=2.5 in /usr/local/lib/python3.7/dist-packages (from requests<3.0.0,>=2.13.0->spacy>=2.2.2->en_core_web_sm==2.2.5) (2.10)\n",
      "Requirement already satisfied: certifi>=2017.4.17 in /usr/local/lib/python3.7/dist-packages (from requests<3.0.0,>=2.13.0->spacy>=2.2.2->en_core_web_sm==2.2.5) (2021.10.8)\n",
      "Requirement already satisfied: chardet<4,>=3.0.2 in /usr/local/lib/python3.7/dist-packages (from requests<3.0.0,>=2.13.0->spacy>=2.2.2->en_core_web_sm==2.2.5) (3.0.4)\n",
      "\u001b[38;5;2m✔ Download and installation successful\u001b[0m\n",
      "You can now load the model via spacy.load('en_core_web_sm')\n",
      "Collecting de_core_news_sm==2.2.5\n",
      "  Downloading https://github.com/explosion/spacy-models/releases/download/de_core_news_sm-2.2.5/de_core_news_sm-2.2.5.tar.gz (14.9 MB)\n",
      "\u001b[K     |████████████████████████████████| 14.9 MB 5.4 MB/s \n",
      "\u001b[?25hRequirement already satisfied: spacy>=2.2.2 in /usr/local/lib/python3.7/dist-packages (from de_core_news_sm==2.2.5) (2.2.4)\n",
      "Requirement already satisfied: cymem<2.1.0,>=2.0.2 in /usr/local/lib/python3.7/dist-packages (from spacy>=2.2.2->de_core_news_sm==2.2.5) (2.0.6)\n",
      "Requirement already satisfied: requests<3.0.0,>=2.13.0 in /usr/local/lib/python3.7/dist-packages (from spacy>=2.2.2->de_core_news_sm==2.2.5) (2.23.0)\n",
      "Requirement already satisfied: murmurhash<1.1.0,>=0.28.0 in /usr/local/lib/python3.7/dist-packages (from spacy>=2.2.2->de_core_news_sm==2.2.5) (1.0.7)\n",
      "Requirement already satisfied: catalogue<1.1.0,>=0.0.7 in /usr/local/lib/python3.7/dist-packages (from spacy>=2.2.2->de_core_news_sm==2.2.5) (1.0.0)\n",
      "Requirement already satisfied: setuptools in /usr/local/lib/python3.7/dist-packages (from spacy>=2.2.2->de_core_news_sm==2.2.5) (57.4.0)\n",
      "Requirement already satisfied: thinc==7.4.0 in /usr/local/lib/python3.7/dist-packages (from spacy>=2.2.2->de_core_news_sm==2.2.5) (7.4.0)\n",
      "Requirement already satisfied: numpy>=1.15.0 in /usr/local/lib/python3.7/dist-packages (from spacy>=2.2.2->de_core_news_sm==2.2.5) (1.21.6)\n",
      "Requirement already satisfied: plac<1.2.0,>=0.9.6 in /usr/local/lib/python3.7/dist-packages (from spacy>=2.2.2->de_core_news_sm==2.2.5) (1.1.3)\n",
      "Requirement already satisfied: wasabi<1.1.0,>=0.4.0 in /usr/local/lib/python3.7/dist-packages (from spacy>=2.2.2->de_core_news_sm==2.2.5) (0.9.1)\n",
      "Requirement already satisfied: blis<0.5.0,>=0.4.0 in /usr/local/lib/python3.7/dist-packages (from spacy>=2.2.2->de_core_news_sm==2.2.5) (0.4.1)\n",
      "Requirement already satisfied: tqdm<5.0.0,>=4.38.0 in /usr/local/lib/python3.7/dist-packages (from spacy>=2.2.2->de_core_news_sm==2.2.5) (4.64.0)\n",
      "Requirement already satisfied: preshed<3.1.0,>=3.0.2 in /usr/local/lib/python3.7/dist-packages (from spacy>=2.2.2->de_core_news_sm==2.2.5) (3.0.6)\n",
      "Requirement already satisfied: srsly<1.1.0,>=1.0.2 in /usr/local/lib/python3.7/dist-packages (from spacy>=2.2.2->de_core_news_sm==2.2.5) (1.0.5)\n",
      "Requirement already satisfied: importlib-metadata>=0.20 in /usr/local/lib/python3.7/dist-packages (from catalogue<1.1.0,>=0.0.7->spacy>=2.2.2->de_core_news_sm==2.2.5) (4.11.3)\n",
      "Requirement already satisfied: typing-extensions>=3.6.4 in /usr/local/lib/python3.7/dist-packages (from importlib-metadata>=0.20->catalogue<1.1.0,>=0.0.7->spacy>=2.2.2->de_core_news_sm==2.2.5) (4.2.0)\n",
      "Requirement already satisfied: zipp>=0.5 in /usr/local/lib/python3.7/dist-packages (from importlib-metadata>=0.20->catalogue<1.1.0,>=0.0.7->spacy>=2.2.2->de_core_news_sm==2.2.5) (3.8.0)\n",
      "Requirement already satisfied: idna<3,>=2.5 in /usr/local/lib/python3.7/dist-packages (from requests<3.0.0,>=2.13.0->spacy>=2.2.2->de_core_news_sm==2.2.5) (2.10)\n",
      "Requirement already satisfied: urllib3!=1.25.0,!=1.25.1,<1.26,>=1.21.1 in /usr/local/lib/python3.7/dist-packages (from requests<3.0.0,>=2.13.0->spacy>=2.2.2->de_core_news_sm==2.2.5) (1.24.3)\n",
      "Requirement already satisfied: certifi>=2017.4.17 in /usr/local/lib/python3.7/dist-packages (from requests<3.0.0,>=2.13.0->spacy>=2.2.2->de_core_news_sm==2.2.5) (2021.10.8)\n",
      "Requirement already satisfied: chardet<4,>=3.0.2 in /usr/local/lib/python3.7/dist-packages (from requests<3.0.0,>=2.13.0->spacy>=2.2.2->de_core_news_sm==2.2.5) (3.0.4)\n",
      "\u001b[38;5;2m✔ Download and installation successful\u001b[0m\n",
      "You can now load the model via spacy.load('de_core_news_sm')\n"
     ]
    }
   ],
   "source": [
    "!python -m spacy download en_core_web_sm\n",
    "!python -m spacy download de_core_news_sm"
   ]
  },
  {
   "cell_type": "markdown",
   "metadata": {
    "id": "mglP2zPAgXTG"
   },
   "source": [
    "We can now load the models via spacy.load('de_core_news_sm')\n"
   ]
  },
  {
   "cell_type": "code",
   "execution_count": 70,
   "metadata": {
    "id": "sbxjpth7gXTH"
   },
   "outputs": [],
   "source": [
    "spacy_de = spacy.load('de_core_news_sm')\n",
    "spacy_en = spacy.load('en_core_web_sm')"
   ]
  },
  {
   "cell_type": "code",
   "execution_count": 71,
   "metadata": {
    "id": "mXWGdlmDgXTI"
   },
   "outputs": [],
   "source": [
    "def tokenize_de(text):\n",
    "    \n",
    "    \"\"\"\n",
    "    Tokenizes German text from a string into a list of strings (tokens) and reverses it\n",
    "    \"\"\"\n",
    "    # i.e., the authors of the reference paper find it beneficial to reverse the\n",
    "    #order of the input which they believe \"introduces many short term dependencies\n",
    "    #in the data that make the optimization problem much easier\".\n",
    "    \n",
    "    return [tok.text for tok in spacy_de.tokenizer(text)][::-1]\n",
    "\n",
    "def tokenize_en(text):\n",
    "    \"\"\"\n",
    "    Tokenizes English text from a string into a list of strings (tokens)\n",
    "    \"\"\"\n",
    "    # ... tokenize the English sentence here\n",
    "    return [tok.text for tok in spacy_en.tokenizer(text)]\n",
    "    "
   ]
  },
  {
   "cell_type": "markdown",
   "metadata": {
    "id": "SIkAAD0DgXTK"
   },
   "source": [
    "torchtext's `Field` handles how data should be processed:"
   ]
  },
  {
   "cell_type": "code",
   "execution_count": 72,
   "metadata": {
    "id": "OEVlvY7xgXTL"
   },
   "outputs": [],
   "source": [
    "SRC = Field(tokenize = tokenize_de, #the tokenize argument to the correct tokenization function for each,\n",
    "            init_token = '<sos>',   #The field also appends the \"start of sequence\" '<sos>'\n",
    "            eos_token = '<eos>',   #and \"end of sequence\" '<eos>'\n",
    "            lower = True)\n",
    "\n",
    "\n",
    "# ... define the target Field here\n",
    "TRG = Field(tokenize = tokenize_en, init_token='<sos>', eos_token = '<eos>', lower = True)\n"
   ]
  },
  {
   "cell_type": "markdown",
   "metadata": {
    "id": "pNLHGqfsgXTM"
   },
   "source": [
    "Now let's download the train, val and test data.\n",
    "The used dataset in this work is the [Multi30k](https://github.com/multi30k/dataset). This dataset contains ~30k parallel English, German and French 12-word sentences."
   ]
  },
  {
   "cell_type": "code",
   "execution_count": 73,
   "metadata": {
    "id": "MrUZwmDUgXTN"
   },
   "outputs": [],
   "source": [
    "train_data, valid_data, test_data = Multi30k.splits(exts = ('.de', '.en'), \n",
    "                                                    fields = (SRC, TRG))"
   ]
  },
  {
   "cell_type": "code",
   "execution_count": 74,
   "metadata": {
    "colab": {
     "base_uri": "https://localhost:8080/"
    },
    "id": "45fkIFJ7gXTO",
    "outputId": "0934b6a5-42c8-4ee2-c32f-77590c2fa85e"
   },
   "outputs": [
    {
     "name": "stdout",
     "output_type": "stream",
     "text": [
      "Number of training examples: 29000\n",
      "Number of validation examples: 1014\n",
      "Number of testing examples: 1000\n"
     ]
    }
   ],
   "source": [
    "print(f\"Number of training examples: {len(train_data.examples)}\")\n",
    "print(f\"Number of validation examples: {len(valid_data.examples)}\")\n",
    "print(f\"Number of testing examples: {len(test_data.examples)}\")"
   ]
  },
  {
   "cell_type": "code",
   "execution_count": 75,
   "metadata": {
    "colab": {
     "base_uri": "https://localhost:8080/"
    },
    "id": "LaE5pzphgXTP",
    "outputId": "fc85d188-9156-4944-e156-95e399e7f55d"
   },
   "outputs": [
    {
     "name": "stdout",
     "output_type": "stream",
     "text": [
      "{'src': ['.', 'büsche', 'vieler', 'nähe', 'der', 'in', 'freien', 'im', 'sind', 'männer', 'weiße', 'junge', 'zwei'], 'trg': ['two', 'young', ',', 'white', 'males', 'are', 'outside', 'near', 'many', 'bushes', '.']}\n"
     ]
    }
   ],
   "source": [
    "# ...  print an example and make sure that the source sentence is reversed\n",
    "print(vars(train_data.examples[0]))"
   ]
  },
  {
   "cell_type": "markdown",
   "metadata": {
    "id": "JEDCYg6ygXTQ"
   },
   "source": [
    "Next, we'll build the <em>vocabulary</em> for the source and target languages. The <em>vocabulary</em> is used to associate each unique token with an index."
   ]
  },
  {
   "cell_type": "code",
   "execution_count": 76,
   "metadata": {
    "id": "zHnXpMAEgXTR"
   },
   "outputs": [],
   "source": [
    "SRC.build_vocab(train_data, min_freq = 2)\n",
    "\n",
    "#min_freq argument only allows tokens that appear at least 2 times to be in our vocab\n",
    "\n",
    "\n",
    "# ... build the target vocab here\n",
    "TRG.build_vocab(train_data, min_freq=2)"
   ]
  },
  {
   "cell_type": "code",
   "execution_count": 77,
   "metadata": {
    "colab": {
     "base_uri": "https://localhost:8080/"
    },
    "id": "JJqbzWUOgXTS",
    "outputId": "9e6bffb0-b912-4ecc-b33d-7e48ac19613c"
   },
   "outputs": [
    {
     "name": "stdout",
     "output_type": "stream",
     "text": [
      "Unique tokens in source (de) vocabulary: 7855\n",
      "Unique tokens in target (en) vocabulary: 5893\n"
     ]
    }
   ],
   "source": [
    "print(f\"Unique tokens in source (de) vocabulary: {len(SRC.vocab)}\")\n",
    "print(f\"Unique tokens in target (en) vocabulary: {len(TRG.vocab)}\")"
   ]
  },
  {
   "cell_type": "markdown",
   "metadata": {
    "id": "VMc6qSJlgXTT"
   },
   "source": [
    "The final step of preparing the data is to create the iterators. These can be iterated on to return a batch of data which will have a `src` attribute and a `trg` attribute.\n",
    "\n",
    "When we get a batch of examples using an iterator we need to make sure that all of the source sentences are padded to the same length, the same with the target sentences. Luckily, torchText iterators handle this for us!"
   ]
  },
  {
   "cell_type": "code",
   "execution_count": 78,
   "metadata": {
    "id": "UzVRDuwZgXTV"
   },
   "outputs": [],
   "source": [
    "#BucketIterator instead of the standard Iterator as it creates batches in such a way\n",
    "#that it minimizes the amount of padding in both the source and target sentences.\n",
    "\n",
    "BATCH_SIZE = 128\n",
    "\n",
    "train_iterator, valid_iterator, test_iterator = BucketIterator.splits(\n",
    "    (train_data, valid_data, test_data), \n",
    "    batch_size = BATCH_SIZE, \n",
    "    device = device)"
   ]
  },
  {
   "cell_type": "markdown",
   "metadata": {
    "id": "UuX45ImSgXTW"
   },
   "source": [
    "## Building the Seq2Seq Model\n",
    "\n",
    "We build the model in 3 parts: The encoder, the decoder and a seq2seq model that\\\n",
    "encapsulates the encoder and decoder and will provide a way to interface with each.\n",
    "\n",
    "\n",
    "### Encoder\n",
    "\n",
    "\n",
    "The Encoder is a 2-layer LSTM (the ref. paper uses a 4-layer LSTM but for the sake of simplicity, i.e., training time, we'll only use 2 layers).\\\n",
    "So our encoder looks like this:\n",
    "\n",
    "![encoder.png](data:image/png;base64,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)\n",
    "<img src=\"assets/encoder.png\" align=\"left\"/>"
   ]
  },
  {
   "cell_type": "code",
   "execution_count": 79,
   "metadata": {
    "id": "6fHi_LrlgXTX"
   },
   "outputs": [],
   "source": [
    "class Encoder(nn.Module):\n",
    "    def __init__(self, input_dim, emb_dim, hid_dim, n_layers, dropout):\n",
    "        super().__init__()\n",
    "        \n",
    "        self.hid_dim = hid_dim\n",
    "        self.n_layers = n_layers\n",
    "        \n",
    "        self.embedding = nn.Embedding(input_dim, emb_dim)\n",
    "        \n",
    "        self.rnn = nn.LSTM(emb_dim, hid_dim, n_layers, dropout = dropout) #  PS: This time batch_first = False (by default)\n",
    "                                                                          # because the torchtext data are in that\n",
    "                                                                          # order (seq, batch, feature).\n",
    "        \n",
    "        self.dropout = nn.Dropout(dropout)\n",
    "        \n",
    "    def forward(self, src):\n",
    "        \n",
    "        #src = [src len, batch size]\n",
    "        embedded = self.dropout(self.embedding(src))    \n",
    "        #embedded = [src len, batch size, emb dim]\n",
    "        \n",
    "        outputs, (hidden, cell) = self.rnn(embedded)\n",
    "        \n",
    "        #outputs = [src len, batch size, hid dim * n directions]\n",
    "        #hidden = [n layers * n directions, batch size, hid dim]\n",
    "        #cell = [n layers * n directions, batch size, hid dim]\n",
    "        \n",
    "        #outputs are always from the top hidden layer\n",
    "        \n",
    "        return hidden, cell"
   ]
  },
  {
   "cell_type": "markdown",
   "metadata": {
    "id": "OqD5B-KrgXTY"
   },
   "source": [
    "### Decoder\n",
    "\n",
    "Next, we'll build our decoder, which will also be a 2-layer LSTM.\n",
    "\n",
    "![decoder.png](data:image/png;base64,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)\n",
    "<img src=\"assets/decoder.png\" align=\"left\"/>"
   ]
  },
  {
   "cell_type": "code",
   "execution_count": 80,
   "metadata": {
    "id": "Ke2xTq-9gXTa"
   },
   "outputs": [],
   "source": [
    "class Decoder(nn.Module):\n",
    "    def __init__(self, output_dim, emb_dim, hid_dim, n_layers, dropout):\n",
    "        super().__init__()\n",
    "        \n",
    "        \n",
    "        # ... complete the implementation of the decoder model here\n",
    "        self.hid_dim = hid_dim\n",
    "        self.n_layers = n_layers\n",
    "        self.emb_dim = emb_dim\n",
    "        self.output_dim = output_dim\n",
    "        \n",
    "        self.dropout = nn.Dropout(dropout)\n",
    "\n",
    "        self.embedding = nn.Embedding(output_dim, emb_dim)\n",
    "\n",
    "        self.rnn = nn.LSTM(emb_dim, hid_dim, n_layers, dropout = dropout)\n",
    "        \n",
    "        self.fc_out = nn.Linear(hid_dim, output_dim)\n",
    "        \n",
    "        \n",
    "        \n",
    "        \n",
    "        \n",
    "    def forward(self, input, hidden, cell):\n",
    "        \n",
    "        #input = [batch size]\n",
    "        #hidden = [n layers * n directions, batch size, hid dim]\n",
    "        #cell = [n layers * n directions, batch size, hid dim]\n",
    "        \n",
    "        #n directions in the decoder will both always be 1, therefore:\n",
    "        #hidden = [n layers, batch size, hid dim]\n",
    "        #context = [n layers, batch size, hid dim]\n",
    "        \n",
    "        input = input.unsqueeze(0)\n",
    "        #input = [1, batch size]\n",
    "        \n",
    "        embedded = self.dropout(self.embedding(input))\n",
    "        #embedded = [1, batch size, emb dim]\n",
    "                \n",
    "        output, (hidden, cell) = self.rnn(embedded, (hidden, cell))\n",
    "        \n",
    "        #output = [seq len, batch size, hid dim * n directions]\n",
    "        #hidden = [n layers * n directions, batch size, hid dim]\n",
    "        #cell = [n layers * n directions, batch size, hid dim]\n",
    "        \n",
    "        #seq len and n directions will always be 1 in the decoder, therefore:\n",
    "        #output = [1, batch size, hid dim]\n",
    "        #hidden = [n layers, batch size, hid dim]\n",
    "        #cell = [n layers, batch size, hid dim]\n",
    "        \n",
    "        prediction = self.fc_out(output.squeeze(0))\n",
    "        \n",
    "        #prediction = [batch size, output dim]\n",
    "        \n",
    "        return prediction, hidden, cell"
   ]
  },
  {
   "cell_type": "markdown",
   "metadata": {
    "id": "51WLE5Q1gXTc"
   },
   "source": [
    "### Seq2Seq\n",
    "\n",
    "For the final part of the implemenetation, we'll build the seq2seq model. This will handle:\n",
    "\n",
    "* receiving the input/source sentence\n",
    "* using the encoder to produce the context vectors\n",
    "* using the decoder to produce the predicted output/target sentence\n",
    "\n",
    "Our full model will look like this:\n",
    "\n",
    "![seq2seq.png](data:image/png;base64,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)\n",
    "<img src=\"assets/seq2seq.png\" align=\"left\"/>"
   ]
  },
  {
   "cell_type": "code",
   "execution_count": 81,
   "metadata": {
    "id": "UoXUSraBgXTd"
   },
   "outputs": [],
   "source": [
    "class Seq2Seq(nn.Module):\n",
    "    def __init__(self, encoder, decoder):\n",
    "        super().__init__()\n",
    "        \n",
    "        self.encoder = encoder\n",
    "        self.decoder = decoder\n",
    "        \n",
    "        assert encoder.hid_dim == decoder.hid_dim # \"Hidden dimensions of encoder and decoder must be equal!\"\n",
    "        assert encoder.n_layers == decoder.n_layers # \"Encoder and decoder must have equal number of layers!\"\n",
    "        \n",
    "    def forward(self, src, trg, teacher_forcing_ratio = 0.5):\n",
    "        \n",
    "        #src = [src len, batch size]\n",
    "        #trg = [trg len, batch size]\n",
    "        #teacher_forcing_ratio is probability to use teacher forcing\n",
    "        #e.g. if teacher_forcing_ratio is 0.75 we use ground-truth inputs 75% of the time\n",
    "\n",
    "        trg_len, batch_size = trg.size()\n",
    "        trg_vocab_size = self.decoder.output_dim\n",
    "        \n",
    "        #tensor to store decoder outputs\n",
    "        outputs = torch.zeros(trg_len, batch_size, trg_vocab_size).to(device)\n",
    "        \n",
    "        #last hidden state of the encoder is used as the initial hidden state of the decoder\n",
    "        hidden, cell = self.encoder(src)\n",
    "        \n",
    "        #first input to the decoder is the <sos> tokens\n",
    "        input = trg[0,:]\n",
    "        \n",
    "        for t in range(1, trg_len):\n",
    "            \n",
    "            #insert input token embedding, previous hidden and previous cell states\n",
    "            #receive output tensor (predictions) and new hidden and cell states\n",
    "            output, hidden, cell = self.decoder(input, hidden, cell)\n",
    "            \n",
    "            #place predictions in a tensor holding predictions for each token\n",
    "            outputs[t] = output\n",
    "            \n",
    "            #decide if we are going to use teacher forcing or not\n",
    "            teacher_force = random.random() < teacher_forcing_ratio\n",
    "            \n",
    "            #get the highest predicted token from our predictions\n",
    "            top1 = output.argmax(1) \n",
    "            \n",
    "            #if teacher forcing, use actual next token as next input\n",
    "            #if not, use predicted token\n",
    "            input = trg[t] if teacher_force else top1\n",
    "        \n",
    "        return outputs"
   ]
  },
  {
   "cell_type": "markdown",
   "metadata": {
    "id": "siQoVuAsgXTf"
   },
   "source": [
    "## Training the Seq2Seq Model\n",
    "\n",
    "Now let's train our implemented model. \n",
    "\n",
    "First, we'll initialize our model. As mentioned before, the input and output dimensions are defined by the size of the vocabulary. The embedding\\\n",
    "dimesions and dropout for the encoder and decoder can be different, but the number of layers and the size of the hidden/cell states must be the same. \n",
    "\n",
    "We then define the encoder, decoder and then our Seq2Seq model."
   ]
  },
  {
   "cell_type": "code",
   "execution_count": 82,
   "metadata": {
    "id": "MyGiCWeDgXTi"
   },
   "outputs": [],
   "source": [
    "INPUT_DIM = len(SRC.vocab)\n",
    "OUTPUT_DIM = len(TRG.vocab)\n",
    "ENC_EMB_DIM = 256\n",
    "DEC_EMB_DIM = 256\n",
    "HID_DIM = 512\n",
    "N_LAYERS = 2\n",
    "ENC_DROPOUT = 0.5\n",
    "DEC_DROPOUT = 0.5\n",
    "\n",
    "enc = Encoder(INPUT_DIM, ENC_EMB_DIM, HID_DIM, N_LAYERS, ENC_DROPOUT)\n",
    "dec = Decoder(OUTPUT_DIM, DEC_EMB_DIM, HID_DIM, N_LAYERS, DEC_DROPOUT)\n",
    "\n",
    "model = Seq2Seq(enc, dec).to(device)"
   ]
  },
  {
   "cell_type": "markdown",
   "metadata": {
    "id": "yvxSZpfXgXTj"
   },
   "source": [
    "Next up is initializing the weights of our model. The authots of the ref. paper have initialized all weights from a uniform distribution between -0.08 and +0.08.\n",
    "\n",
    "We initialize weights in PyTorch by creating a function which we `apply` to our model. When using `apply`, the `init_weights` function will be called on every module and sub-module within our model. For each module we loop through all of the parameters and sample them from a uniform distribution with `nn.init.uniform_`."
   ]
  },
  {
   "cell_type": "code",
   "execution_count": 83,
   "metadata": {
    "colab": {
     "base_uri": "https://localhost:8080/"
    },
    "id": "9aAlCiCvgXTm",
    "outputId": "eba3b064-d1df-471c-fa9c-e083df698dda"
   },
   "outputs": [
    {
     "data": {
      "text/plain": [
       "Seq2Seq(\n",
       "  (encoder): Encoder(\n",
       "    (embedding): Embedding(7855, 256)\n",
       "    (rnn): LSTM(256, 512, num_layers=2, dropout=0.5)\n",
       "    (dropout): Dropout(p=0.5, inplace=False)\n",
       "  )\n",
       "  (decoder): Decoder(\n",
       "    (dropout): Dropout(p=0.5, inplace=False)\n",
       "    (embedding): Embedding(5893, 256)\n",
       "    (rnn): LSTM(256, 512, num_layers=2, dropout=0.5)\n",
       "    (fc_out): Linear(in_features=512, out_features=5893, bias=True)\n",
       "  )\n",
       ")"
      ]
     },
     "execution_count": 83,
     "metadata": {},
     "output_type": "execute_result"
    }
   ],
   "source": [
    "def init_weights(m):\n",
    "    for name, param in m.named_parameters():\n",
    "        nn.init.uniform_(param.data, -0.08, 0.08)\n",
    "        \n",
    "model.apply(init_weights)"
   ]
  },
  {
   "cell_type": "markdown",
   "metadata": {
    "id": "C6LSz1wGgXTr"
   },
   "source": [
    "Next we define our optimizer and loss function. Our loss function calculates the average loss per token, however by passing the index of the `<pad>` token as the `ignore_index` argument we ignore the loss whenever the target token is a padding token."
   ]
  },
  {
   "cell_type": "code",
   "execution_count": 84,
   "metadata": {
    "id": "4zyh2DA3gXTs"
   },
   "outputs": [],
   "source": [
    "optimizer = optim.Adam(model.parameters())\n",
    "\n",
    "TRG_PAD_IDX = TRG.vocab.stoi[TRG.pad_token]\n",
    "criterion = nn.CrossEntropyLoss(ignore_index = TRG_PAD_IDX)"
   ]
  },
  {
   "cell_type": "markdown",
   "metadata": {
    "id": "J8qQnt5ugXTt"
   },
   "source": [
    "Next, we'll define our training loop."
   ]
  },
  {
   "cell_type": "code",
   "execution_count": 85,
   "metadata": {
    "id": "uLwXF41LgXTu"
   },
   "outputs": [],
   "source": [
    "def train(model, iterator, optimizer, criterion, clip):\n",
    "    \n",
    "    model.train()\n",
    "    \n",
    "    epoch_loss = 0\n",
    "    \n",
    "    for i, batch in enumerate(tqdm(iterator)):\n",
    "        \n",
    "        src = batch.src.to(device)\n",
    "        trg = batch.trg.to(device)\n",
    "        \n",
    "        optimizer.zero_grad()\n",
    "        \n",
    "        output = model(src, trg)\n",
    "        \n",
    "        #trg = [trg len, batch size]\n",
    "        #output = [trg len, batch size, output dim]\n",
    "        \n",
    "        output_dim = output.shape[-1]\n",
    "        \n",
    "        output = output[1:].view(-1, output_dim)\n",
    "        trg = trg[1:].flatten()\n",
    "        \n",
    "        #trg = [(trg len - 1) * batch size]\n",
    "        #output = [(trg len - 1) * batch size, output dim]\n",
    "        \n",
    "        loss = criterion(output, trg)\n",
    "        \n",
    "        loss.backward()\n",
    "        \n",
    "        torch.nn.utils.clip_grad_norm_(model.parameters(), clip)\n",
    "        \n",
    "        optimizer.step()\n",
    "        \n",
    "        epoch_loss += loss.item()\n",
    "        \n",
    "    return epoch_loss / len(iterator)"
   ]
  },
  {
   "cell_type": "markdown",
   "metadata": {
    "id": "dmiibIJGgXTw"
   },
   "source": [
    "Our evaluation loop is similar to our training loop, however as we aren't updating any parameters we don't need to pass an optimizer or a clip value.\\\n",
    "We must remember to set the model to evaluation mode with model.eval(). This will turn off dropout (and batch normalization, if used).\\\n",
    "We use the new `with torch.no_grad()` context manager to ensure no gradients are calculated within the block. This reduces memory consumption and speeds things up."
   ]
  },
  {
   "cell_type": "code",
   "execution_count": 86,
   "metadata": {
    "id": "4LlcWVEPgXTy"
   },
   "outputs": [],
   "source": [
    "def evaluate(model, iterator, criterion):\n",
    "    \n",
    "    model.eval()\n",
    "    \n",
    "    epoch_loss = 0\n",
    "    \n",
    "    with torch.no_grad():\n",
    "    \n",
    "        for i, batch in enumerate(iterator):\n",
    "\n",
    "            src = batch.src.to(device)\n",
    "            trg = batch.trg.to(device)\n",
    "\n",
    "            output = model(src, trg, 0) #turn off teacher forcing\n",
    "\n",
    "            #trg = [trg len, batch size]\n",
    "            #output = [trg len, batch size, output dim]\n",
    "\n",
    "            output_dim = output.shape[-1]\n",
    "            \n",
    "            output = output[1:].view(-1, output_dim)\n",
    "            trg = trg[1:].flatten()\n",
    "\n",
    "            #trg = [(trg len - 1) * batch size]\n",
    "            #output = [(trg len - 1) * batch size, output dim]\n",
    "\n",
    "            loss = criterion(output, trg)\n",
    "            \n",
    "            epoch_loss += loss.item()\n",
    "        \n",
    "    return epoch_loss / len(iterator)"
   ]
  },
  {
   "cell_type": "markdown",
   "metadata": {
    "id": "JXcq9gnWgXT0"
   },
   "source": [
    "We can finally start training our model!\n",
    "\n",
    "At each epoch, we'll be checking if our model has achieved the best validation loss so far. If it has, we'll update our best validation loss and save the parameters of our model (called `state_dict` in PyTorch). Then, when we come to test our model, we'll use the saved parameters used to achieve the best validation loss. \n",
    "\n",
    "We'll be printing out both the loss and the perplexity at each epoch. It is easier to see a change in perplexity than a change in loss as the numbers are much bigger."
   ]
  },
  {
   "cell_type": "code",
   "execution_count": 87,
   "metadata": {
    "colab": {
     "base_uri": "https://localhost:8080/",
     "height": 696,
     "referenced_widgets": [
      "57cf592f41684947ac7030136dfca00f",
      "1d1ba08bda984fee87e6e302f151d2ec",
      "32c77d57eb4146e3a82a064a9544f269",
      "acd9def64d154414a624cb44d0cd8912",
      "6fe4579bc5cb411db34bcd909801b0ab",
      "35750514e86648ff99c833e3dcfee93c",
      "21aa9e7e1bda43188bb24b69454e041c",
      "a5f99044b16b4ceaac0357a7afa5d410",
      "98205158803b4054bb553e5f46119a9a",
      "d9c117eaa3e146b9a5b07496f1bcd9f6",
      "87af9a7a125748029dfe593c96cf465f",
      "ad937f7ab3cd452e8fe1b007996eb34c",
      "4ceccd052d164ca6ab29904b30a1d8c8",
      "69b303bd5d7347339cd3c93ba4ff6645",
      "542aedc743e24123a0249faf0a362d0d",
      "272fa8f6b49545d79112be86e48cc0c4",
      "05a2714a1b274d4cb33c91b37f35e2ff",
      "0c080f93f2ce4790bc7b7d54dc881420",
      "5764ec20a1eb4e55b334ce0b83786bd2",
      "1a6a841586a54c10b2bcd82b7655ea46",
      "a98723347bb34a458dec2100d7510423",
      "1a876323eac74f6785e4726170ed3e22",
      "de4cdb9938744d62a94e4569c75dfc22",
      "622c59decf5544cdb40a28f71c7d6f2c",
      "1b9451157d30415f9271ca940fc1b2c8",
      "c75124d2502546088b7e922a087d9282",
      "3d747d1c1a3e4470a805637218849530",
      "1005d8b7838e45a19682668f0116dec1",
      "e24ff3462452453ba594fec663951390",
      "f59d43a8f1a748488eb253ca9905b1e9",
      "4e1538c2c97f4ac4840a78ef475eabcc",
      "6146a60355594d44bf6937bdaa443a36",
      "5ceb45bd119b4d3484e2eb7d8868f05d",
      "fb565b2d0bbe473593eda6126354105a",
      "e3363ed3f778412490e010a7e47ef055",
      "8af25da8e33c4bc99fec39edad5187e5",
      "6e957c71ede44b899f051201b8a9055d",
      "2c8c4a301e794986826832396d092a15",
      "0e4eebf6c3444fd0872a232762061f75",
      "4ad73db8a08f4b86af6f2b1a7e27be40",
      "606489d2765c4869b0771d78af7ed227",
      "e867369a68134f33b62aa07333f6f41c",
      "615c3da42e284cbebf0f4129e63426c6",
      "589c82bfb87f4c92a048193b70e957d4",
      "8488760daa47415ca509357a6424afdb",
      "1d9e34c3f31a49b4b4dfc44c5eb72a6d",
      "69f2592630f34d41b3508227ab986c45",
      "1a7e522d7c78494db49cfcff5f4e5edb",
      "fd8d51ab693f46eba5b49dcbeedb3eb8",
      "dcfeea26ca344082a8477512fd2086f1",
      "b747536a69114cde8ffd72ef24d53fd7",
      "0e73ba503b88499c86bf49a9b8a22164",
      "865fa5b25f2641179f18ac265b0d3451",
      "a784ba3f2f844d6ea2111a3629b2933a",
      "0d4eaab760c2408ebc7c09d2368497c0",
      "9eeb3ddcbfab43f08ae3418f340cf6dc",
      "1d727c0011f34f2a84a81d80432a293d",
      "da2a8751ae4d419e89363658b74cd725",
      "f4b52a2813e644aba8e69d0875891a73",
      "d4c953e526fe4ca4b5a474114d95e65f",
      "987e02deda5741f29d0e3271c34c5c13",
      "f65e949515ae4d56bc79bf25e25c1620",
      "44c4631aeb434404a199170df6c2f055",
      "25fc168d516048adb3d3243ded188709",
      "70623dc4e9cf40bdb027fa24a03bd644",
      "b08701e8041c497eaae9dc1bbda313aa",
      "5cd01f22fd124457a4d8e43fb9abf187",
      "a6e0d43e491a44fcaf5dc44173b077c2",
      "3676bbb4b4b64965ba7cd1f883b53447",
      "debc473c582746e0a12b1cae2ad43577",
      "180c22e6ea584e5d9fffefc1309b17ea",
      "b2243a2b1dcf4b1b8e9be8b240c3436b",
      "ead98ca9fcee4472b4705319cab24d28",
      "2f01a85e6f684e5fb5ff3d91d6cabcc0",
      "1914b94c1f8742e388766413f7949824",
      "f6866d7791f24c82a66cf39f3755e228",
      "9e4d996a3bb748bfb0c00894efbe2df9",
      "c5aaaa6b886d471cb847e20d70f61403",
      "a7e6fb8c715340548e75e908c085e257",
      "acc95f5ffad24c1bbeceebfa6f1853d2",
      "2774b3c9a1bf4cd683ca0dd29a74ae8a",
      "baa75e8fbe474589af15d983d1438128",
      "b5c0e02fcb164d03a71bd6b73d3e2986",
      "5583b0f4b58d427b9bff937efb9f1633",
      "87c7fdb3310441d59d13fe8d397aef6b",
      "7da74b3d1440473ca8ea78a38f0c2e8e",
      "3fa320ed5e574b52ac1d7ff337685623",
      "6e3296d7c40444ec82345ebae4044c78",
      "fbc5678de09743f69b3b9832cf4b3048",
      "399c7e1f846644788068596faf774008",
      "2cd6032423d84f8da80038611a3cb3e1",
      "ca403e1ee22840ddac6dcf36e00f9302",
      "31e5f42356a1468a9712149290593c87",
      "cf11684bd11a45258166fb93059b6afa",
      "fa1169be9a9942308e3c55e1009e2c27",
      "9a593b72166c4a898ca4b7621b0779fc",
      "e2efc9bd7ae7402b9e9f0c96658951fb",
      "a2c0d741a3014301addb69c250130e9c",
      "05ffc51bcf4244f4964e5fa31e2422fa",
      "c2438b9f2c724eae9e22e42da98197af",
      "061ea117d5574419af7332d6ba4369b1",
      "af24b05a80e847a39a3635669d358934",
      "96fcf2d810ac4cfb80ea921064c6e9a9",
      "7c6fc5337a58430085e1c43f9be8a525",
      "ac9246727ae74a8a9eb56da1c80a06c9",
      "9dda637deb834009882378df9a5c071c",
      "1f08689d3b8b4a4089ffc6a0ce3f3941",
      "c99982ddfda1403eab9def93315493bb",
      "1d883163317140619f277423f6fe14a2",
      "f8ca9dd19d47430194664536210d8f89"
     ]
    },
    "id": "MKtwXUtYgXT0",
    "outputId": "cdc9361e-6d29-4ede-9808-816831ba09c4"
   },
   "outputs": [
    {
     "data": {
      "application/vnd.jupyter.widget-view+json": {
       "model_id": "57cf592f41684947ac7030136dfca00f",
       "version_major": 2,
       "version_minor": 0
      },
      "text/plain": [
       "  0%|          | 0/227 [00:00<?, ?it/s]"
      ]
     },
     "metadata": {},
     "output_type": "display_data"
    },
    {
     "name": "stdout",
     "output_type": "stream",
     "text": [
      "\tTrain Loss: 5.063 | Train PPL: 158.002\n",
      "\t Val. Loss: 4.943 |  Val. PPL: 140.180\n"
     ]
    },
    {
     "data": {
      "application/vnd.jupyter.widget-view+json": {
       "model_id": "ad937f7ab3cd452e8fe1b007996eb34c",
       "version_major": 2,
       "version_minor": 0
      },
      "text/plain": [
       "  0%|          | 0/227 [00:00<?, ?it/s]"
      ]
     },
     "metadata": {},
     "output_type": "display_data"
    },
    {
     "name": "stdout",
     "output_type": "stream",
     "text": [
      "\tTrain Loss: 4.473 | Train PPL:  87.635\n",
      "\t Val. Loss: 4.753 |  Val. PPL: 115.956\n"
     ]
    },
    {
     "data": {
      "application/vnd.jupyter.widget-view+json": {
       "model_id": "de4cdb9938744d62a94e4569c75dfc22",
       "version_major": 2,
       "version_minor": 0
      },
      "text/plain": [
       "  0%|          | 0/227 [00:00<?, ?it/s]"
      ]
     },
     "metadata": {},
     "output_type": "display_data"
    },
    {
     "name": "stdout",
     "output_type": "stream",
     "text": [
      "\tTrain Loss: 4.196 | Train PPL:  66.425\n",
      "\t Val. Loss: 4.548 |  Val. PPL:  94.400\n"
     ]
    },
    {
     "data": {
      "application/vnd.jupyter.widget-view+json": {
       "model_id": "fb565b2d0bbe473593eda6126354105a",
       "version_major": 2,
       "version_minor": 0
      },
      "text/plain": [
       "  0%|          | 0/227 [00:00<?, ?it/s]"
      ]
     },
     "metadata": {},
     "output_type": "display_data"
    },
    {
     "name": "stdout",
     "output_type": "stream",
     "text": [
      "\tTrain Loss: 4.000 | Train PPL:  54.621\n",
      "\t Val. Loss: 4.517 |  Val. PPL:  91.520\n"
     ]
    },
    {
     "data": {
      "application/vnd.jupyter.widget-view+json": {
       "model_id": "8488760daa47415ca509357a6424afdb",
       "version_major": 2,
       "version_minor": 0
      },
      "text/plain": [
       "  0%|          | 0/227 [00:00<?, ?it/s]"
      ]
     },
     "metadata": {},
     "output_type": "display_data"
    },
    {
     "name": "stdout",
     "output_type": "stream",
     "text": [
      "\tTrain Loss: 3.857 | Train PPL:  47.315\n",
      "\t Val. Loss: 4.425 |  Val. PPL:  83.516\n"
     ]
    },
    {
     "data": {
      "application/vnd.jupyter.widget-view+json": {
       "model_id": "9eeb3ddcbfab43f08ae3418f340cf6dc",
       "version_major": 2,
       "version_minor": 0
      },
      "text/plain": [
       "  0%|          | 0/227 [00:00<?, ?it/s]"
      ]
     },
     "metadata": {},
     "output_type": "display_data"
    },
    {
     "name": "stdout",
     "output_type": "stream",
     "text": [
      "\tTrain Loss: 3.727 | Train PPL:  41.540\n",
      "\t Val. Loss: 4.357 |  Val. PPL:  78.041\n"
     ]
    },
    {
     "data": {
      "application/vnd.jupyter.widget-view+json": {
       "model_id": "5cd01f22fd124457a4d8e43fb9abf187",
       "version_major": 2,
       "version_minor": 0
      },
      "text/plain": [
       "  0%|          | 0/227 [00:00<?, ?it/s]"
      ]
     },
     "metadata": {},
     "output_type": "display_data"
    },
    {
     "name": "stdout",
     "output_type": "stream",
     "text": [
      "\tTrain Loss: 3.636 | Train PPL:  37.953\n",
      "\t Val. Loss: 4.267 |  Val. PPL:  71.278\n"
     ]
    },
    {
     "data": {
      "application/vnd.jupyter.widget-view+json": {
       "model_id": "c5aaaa6b886d471cb847e20d70f61403",
       "version_major": 2,
       "version_minor": 0
      },
      "text/plain": [
       "  0%|          | 0/227 [00:00<?, ?it/s]"
      ]
     },
     "metadata": {},
     "output_type": "display_data"
    },
    {
     "name": "stdout",
     "output_type": "stream",
     "text": [
      "\tTrain Loss: 3.534 | Train PPL:  34.275\n",
      "\t Val. Loss: 4.268 |  Val. PPL:  71.388\n"
     ]
    },
    {
     "data": {
      "application/vnd.jupyter.widget-view+json": {
       "model_id": "fbc5678de09743f69b3b9832cf4b3048",
       "version_major": 2,
       "version_minor": 0
      },
      "text/plain": [
       "  0%|          | 0/227 [00:00<?, ?it/s]"
      ]
     },
     "metadata": {},
     "output_type": "display_data"
    },
    {
     "name": "stdout",
     "output_type": "stream",
     "text": [
      "\tTrain Loss: 3.430 | Train PPL:  30.885\n",
      "\t Val. Loss: 4.208 |  Val. PPL:  67.237\n"
     ]
    },
    {
     "data": {
      "application/vnd.jupyter.widget-view+json": {
       "model_id": "c2438b9f2c724eae9e22e42da98197af",
       "version_major": 2,
       "version_minor": 0
      },
      "text/plain": [
       "  0%|          | 0/227 [00:00<?, ?it/s]"
      ]
     },
     "metadata": {},
     "output_type": "display_data"
    },
    {
     "name": "stdout",
     "output_type": "stream",
     "text": [
      "\tTrain Loss: 3.345 | Train PPL:  28.366\n",
      "\t Val. Loss: 4.142 |  Val. PPL:  62.930\n"
     ]
    }
   ],
   "source": [
    "N_EPOCHS = 10\n",
    "CLIP = 1\n",
    "\n",
    "best_valid_loss = float('inf')\n",
    "\n",
    "for epoch in range(N_EPOCHS):\n",
    "      \n",
    "    train_loss = train(model, train_iterator, optimizer, criterion, CLIP)\n",
    "    valid_loss = evaluate(model, valid_iterator, criterion)\n",
    "        \n",
    "    if valid_loss < best_valid_loss:\n",
    "        best_valid_loss = valid_loss\n",
    "        torch.save(model.state_dict(), 'seq2seq-model.pt')\n",
    "        \n",
    "    # ... print the epoch number and the time it takes here, e.g., Epoch: 08 | Time: 0m 27s\n",
    "    \n",
    "    print(f'\\tTrain Loss: {train_loss:.3f} | Train PPL: {math.exp(train_loss):7.3f}')\n",
    "    print(f'\\t Val. Loss: {valid_loss:.3f} |  Val. PPL: {math.exp(valid_loss):7.3f}')"
   ]
  },
  {
   "cell_type": "markdown",
   "metadata": {
    "id": "4awSBhtPgXT3"
   },
   "source": [
    "We'll load the parameters (`state_dict`) that gave our model the best validation loss and run it the model on the test set."
   ]
  },
  {
   "cell_type": "code",
   "execution_count": 119,
   "metadata": {
    "colab": {
     "base_uri": "https://localhost:8080/"
    },
    "id": "N9YPje69gXT4",
    "outputId": "e16aa693-2384-4685-feb7-fd1c12fa68f4"
   },
   "outputs": [
    {
     "name": "stdout",
     "output_type": "stream",
     "text": [
      "| Test Loss: 4.123 | Test PPL:  61.727 |\n"
     ]
    }
   ],
   "source": [
    "model.load_state_dict(torch.load('seq2seq-model.pt'))\n",
    "\n",
    "test_loss = evaluate(model, test_iterator, criterion)\n",
    "\n",
    "print(f'| Test Loss: {test_loss:.3f} | Test PPL: {math.exp(test_loss):7.3f} |')"
   ]
  },
  {
   "cell_type": "code",
   "execution_count": 94,
   "metadata": {
    "id": "CGuHtQ0ggXT4"
   },
   "outputs": [],
   "source": [
    "# ... plot the training and test loss here (optional)\n"
   ]
  },
  {
   "cell_type": "code",
   "execution_count": 120,
   "metadata": {
    "id": "k-I7NsTKarUn"
   },
   "outputs": [],
   "source": [
    "def translate_sentence(model, sentence, german, english, device, max_length=50):\n",
    "\n",
    "    tokens = tokenize_de(sentence)[::-1]\n",
    "    tokens.insert(0, german.init_token)\n",
    "    tokens.append(german.eos_token)\n",
    "    print(tokens)\n",
    "\n",
    "\n",
    "    text_to_indices = [german.vocab.stoi[token] for token in tokens]\n",
    "    sentence_tensor = torch.LongTensor(text_to_indices).unsqueeze(1).to(device)\n",
    "\n",
    "    # Build encoder hidden, cell state\n",
    "    with torch.no_grad():\n",
    "        hidden, cell = model.encoder(sentence_tensor)\n",
    "\n",
    "    outputs = [english.vocab.stoi[\"<sos>\"]]\n",
    "\n",
    "    for _ in range(max_length):\n",
    "        previous_word = torch.LongTensor([outputs[-1]]).to(device)\n",
    "\n",
    "        with torch.no_grad():\n",
    "            output, hidden, cell = model.decoder(previous_word, hidden, cell)\n",
    "            best_guess = output.argmax(1).item()\n",
    "\n",
    "        outputs.append(best_guess)\n",
    "\n",
    "        # Model predicts it's the end of the sentence\n",
    "        if output.argmax(1).item() == english.vocab.stoi[\"<eos>\"]:\n",
    "            break\n",
    "\n",
    "    translated_sentence = [english.vocab.itos[idx] for idx in outputs]\n",
    "    return translated_sentence[1:]"
   ]
  },
  {
   "cell_type": "code",
   "execution_count": 139,
   "metadata": {
    "colab": {
     "base_uri": "https://localhost:8080/"
    },
    "id": "M0nb2_nZa-hM",
    "outputId": "33aae573-66f3-4044-ea6d-4d7fa72d9838"
   },
   "outputs": [
    {
     "name": "stdout",
     "output_type": "stream",
     "text": [
      "['<sos>', 'Ein', 'blaues', 'Hemd', '<eos>']\n",
      "['a', 'blue', 'dress', '.', '<eos>']\n"
     ]
    }
   ],
   "source": [
    "# ... print a GE->EN output example here\n",
    "\n",
    "model.eval()\n",
    "translated_sentence = translate_sentence(model, \"Ein blaues Hemd\", SRC, TRG, device, max_length=50)\n",
    "print(translated_sentence)"
   ]
  },
  {
   "cell_type": "markdown",
   "metadata": {},
   "source": [
    "This short sentence is translated not that bad, but the other expirements were rather disapponting."
   ]
  }
 ],
 "metadata": {
  "accelerator": "GPU",
  "colab": {
   "name": "Exercise 3 - Simple Seq2Seq Machine Translation.ipynb",
   "provenance": []
  },
  "kernelspec": {
   "display_name": "Python 3 (ipykernel)",
   "language": "python",
   "name": "python3"
  },
  "language_info": {
   "codemirror_mode": {
    "name": "ipython",
    "version": 3
   },
   "file_extension": ".py",
   "mimetype": "text/x-python",
   "name": "python",
   "nbconvert_exporter": "python",
   "pygments_lexer": "ipython3",
   "version": "3.9.7"
  },
  "widgets": {
   "application/vnd.jupyter.widget-state+json": {
    "05a2714a1b274d4cb33c91b37f35e2ff": {
     "model_module": "@jupyter-widgets/base",
     "model_module_version": "1.2.0",
     "model_name": "LayoutModel",
     "state": {
      "_model_module": "@jupyter-widgets/base",
      "_model_module_version": "1.2.0",
      "_model_name": "LayoutModel",
      "_view_count": null,
      "_view_module": "@jupyter-widgets/base",
      "_view_module_version": "1.2.0",
      "_view_name": "LayoutView",
      "align_content": null,
      "align_items": null,
      "align_self": null,
      "border": null,
      "bottom": null,
      "display": null,
      "flex": null,
      "flex_flow": null,
      "grid_area": null,
      "grid_auto_columns": null,
      "grid_auto_flow": null,
      "grid_auto_rows": null,
      "grid_column": null,
      "grid_gap": null,
      "grid_row": null,
      "grid_template_areas": null,
      "grid_template_columns": null,
      "grid_template_rows": null,
      "height": null,
      "justify_content": null,
      "justify_items": null,
      "left": null,
      "margin": null,
      "max_height": null,
      "max_width": null,
      "min_height": null,
      "min_width": null,
      "object_fit": null,
      "object_position": null,
      "order": null,
      "overflow": null,
      "overflow_x": null,
      "overflow_y": null,
      "padding": null,
      "right": null,
      "top": null,
      "visibility": null,
      "width": null
     }
    },
    "05ffc51bcf4244f4964e5fa31e2422fa": {
     "model_module": "@jupyter-widgets/controls",
     "model_module_version": "1.5.0",
     "model_name": "DescriptionStyleModel",
     "state": {
      "_model_module": "@jupyter-widgets/controls",
      "_model_module_version": "1.5.0",
      "_model_name": "DescriptionStyleModel",
      "_view_count": null,
      "_view_module": "@jupyter-widgets/base",
      "_view_module_version": "1.2.0",
      "_view_name": "StyleView",
      "description_width": ""
     }
    },
    "061ea117d5574419af7332d6ba4369b1": {
     "model_module": "@jupyter-widgets/controls",
     "model_module_version": "1.5.0",
     "model_name": "HTMLModel",
     "state": {
      "_dom_classes": [],
      "_model_module": "@jupyter-widgets/controls",
      "_model_module_version": "1.5.0",
      "_model_name": "HTMLModel",
      "_view_count": null,
      "_view_module": "@jupyter-widgets/controls",
      "_view_module_version": "1.5.0",
      "_view_name": "HTMLView",
      "description": "",
      "description_tooltip": null,
      "layout": "IPY_MODEL_ac9246727ae74a8a9eb56da1c80a06c9",
      "placeholder": "​",
      "style": "IPY_MODEL_9dda637deb834009882378df9a5c071c",
      "value": "100%"
     }
    },
    "0c080f93f2ce4790bc7b7d54dc881420": {
     "model_module": "@jupyter-widgets/controls",
     "model_module_version": "1.5.0",
     "model_name": "DescriptionStyleModel",
     "state": {
      "_model_module": "@jupyter-widgets/controls",
      "_model_module_version": "1.5.0",
      "_model_name": "DescriptionStyleModel",
      "_view_count": null,
      "_view_module": "@jupyter-widgets/base",
      "_view_module_version": "1.2.0",
      "_view_name": "StyleView",
      "description_width": ""
     }
    },
    "0d4eaab760c2408ebc7c09d2368497c0": {
     "model_module": "@jupyter-widgets/controls",
     "model_module_version": "1.5.0",
     "model_name": "DescriptionStyleModel",
     "state": {
      "_model_module": "@jupyter-widgets/controls",
      "_model_module_version": "1.5.0",
      "_model_name": "DescriptionStyleModel",
      "_view_count": null,
      "_view_module": "@jupyter-widgets/base",
      "_view_module_version": "1.2.0",
      "_view_name": "StyleView",
      "description_width": ""
     }
    },
    "0e4eebf6c3444fd0872a232762061f75": {
     "model_module": "@jupyter-widgets/base",
     "model_module_version": "1.2.0",
     "model_name": "LayoutModel",
     "state": {
      "_model_module": "@jupyter-widgets/base",
      "_model_module_version": "1.2.0",
      "_model_name": "LayoutModel",
      "_view_count": null,
      "_view_module": "@jupyter-widgets/base",
      "_view_module_version": "1.2.0",
      "_view_name": "LayoutView",
      "align_content": null,
      "align_items": null,
      "align_self": null,
      "border": null,
      "bottom": null,
      "display": null,
      "flex": null,
      "flex_flow": null,
      "grid_area": null,
      "grid_auto_columns": null,
      "grid_auto_flow": null,
      "grid_auto_rows": null,
      "grid_column": null,
      "grid_gap": null,
      "grid_row": null,
      "grid_template_areas": null,
      "grid_template_columns": null,
      "grid_template_rows": null,
      "height": null,
      "justify_content": null,
      "justify_items": null,
      "left": null,
      "margin": null,
      "max_height": null,
      "max_width": null,
      "min_height": null,
      "min_width": null,
      "object_fit": null,
      "object_position": null,
      "order": null,
      "overflow": null,
      "overflow_x": null,
      "overflow_y": null,
      "padding": null,
      "right": null,
      "top": null,
      "visibility": null,
      "width": null
     }
    },
    "0e73ba503b88499c86bf49a9b8a22164": {
     "model_module": "@jupyter-widgets/base",
     "model_module_version": "1.2.0",
     "model_name": "LayoutModel",
     "state": {
      "_model_module": "@jupyter-widgets/base",
      "_model_module_version": "1.2.0",
      "_model_name": "LayoutModel",
      "_view_count": null,
      "_view_module": "@jupyter-widgets/base",
      "_view_module_version": "1.2.0",
      "_view_name": "LayoutView",
      "align_content": null,
      "align_items": null,
      "align_self": null,
      "border": null,
      "bottom": null,
      "display": null,
      "flex": null,
      "flex_flow": null,
      "grid_area": null,
      "grid_auto_columns": null,
      "grid_auto_flow": null,
      "grid_auto_rows": null,
      "grid_column": null,
      "grid_gap": null,
      "grid_row": null,
      "grid_template_areas": null,
      "grid_template_columns": null,
      "grid_template_rows": null,
      "height": null,
      "justify_content": null,
      "justify_items": null,
      "left": null,
      "margin": null,
      "max_height": null,
      "max_width": null,
      "min_height": null,
      "min_width": null,
      "object_fit": null,
      "object_position": null,
      "order": null,
      "overflow": null,
      "overflow_x": null,
      "overflow_y": null,
      "padding": null,
      "right": null,
      "top": null,
      "visibility": null,
      "width": null
     }
    },
    "1005d8b7838e45a19682668f0116dec1": {
     "model_module": "@jupyter-widgets/base",
     "model_module_version": "1.2.0",
     "model_name": "LayoutModel",
     "state": {
      "_model_module": "@jupyter-widgets/base",
      "_model_module_version": "1.2.0",
      "_model_name": "LayoutModel",
      "_view_count": null,
      "_view_module": "@jupyter-widgets/base",
      "_view_module_version": "1.2.0",
      "_view_name": "LayoutView",
      "align_content": null,
      "align_items": null,
      "align_self": null,
      "border": null,
      "bottom": null,
      "display": null,
      "flex": null,
      "flex_flow": null,
      "grid_area": null,
      "grid_auto_columns": null,
      "grid_auto_flow": null,
      "grid_auto_rows": null,
      "grid_column": null,
      "grid_gap": null,
      "grid_row": null,
      "grid_template_areas": null,
      "grid_template_columns": null,
      "grid_template_rows": null,
      "height": null,
      "justify_content": null,
      "justify_items": null,
      "left": null,
      "margin": null,
      "max_height": null,
      "max_width": null,
      "min_height": null,
      "min_width": null,
      "object_fit": null,
      "object_position": null,
      "order": null,
      "overflow": null,
      "overflow_x": null,
      "overflow_y": null,
      "padding": null,
      "right": null,
      "top": null,
      "visibility": null,
      "width": null
     }
    },
    "180c22e6ea584e5d9fffefc1309b17ea": {
     "model_module": "@jupyter-widgets/base",
     "model_module_version": "1.2.0",
     "model_name": "LayoutModel",
     "state": {
      "_model_module": "@jupyter-widgets/base",
      "_model_module_version": "1.2.0",
      "_model_name": "LayoutModel",
      "_view_count": null,
      "_view_module": "@jupyter-widgets/base",
      "_view_module_version": "1.2.0",
      "_view_name": "LayoutView",
      "align_content": null,
      "align_items": null,
      "align_self": null,
      "border": null,
      "bottom": null,
      "display": null,
      "flex": null,
      "flex_flow": null,
      "grid_area": null,
      "grid_auto_columns": null,
      "grid_auto_flow": null,
      "grid_auto_rows": null,
      "grid_column": null,
      "grid_gap": null,
      "grid_row": null,
      "grid_template_areas": null,
      "grid_template_columns": null,
      "grid_template_rows": null,
      "height": null,
      "justify_content": null,
      "justify_items": null,
      "left": null,
      "margin": null,
      "max_height": null,
      "max_width": null,
      "min_height": null,
      "min_width": null,
      "object_fit": null,
      "object_position": null,
      "order": null,
      "overflow": null,
      "overflow_x": null,
      "overflow_y": null,
      "padding": null,
      "right": null,
      "top": null,
      "visibility": null,
      "width": null
     }
    },
    "1914b94c1f8742e388766413f7949824": {
     "model_module": "@jupyter-widgets/controls",
     "model_module_version": "1.5.0",
     "model_name": "ProgressStyleModel",
     "state": {
      "_model_module": "@jupyter-widgets/controls",
      "_model_module_version": "1.5.0",
      "_model_name": "ProgressStyleModel",
      "_view_count": null,
      "_view_module": "@jupyter-widgets/base",
      "_view_module_version": "1.2.0",
      "_view_name": "StyleView",
      "bar_color": null,
      "description_width": ""
     }
    },
    "1a6a841586a54c10b2bcd82b7655ea46": {
     "model_module": "@jupyter-widgets/controls",
     "model_module_version": "1.5.0",
     "model_name": "ProgressStyleModel",
     "state": {
      "_model_module": "@jupyter-widgets/controls",
      "_model_module_version": "1.5.0",
      "_model_name": "ProgressStyleModel",
      "_view_count": null,
      "_view_module": "@jupyter-widgets/base",
      "_view_module_version": "1.2.0",
      "_view_name": "StyleView",
      "bar_color": null,
      "description_width": ""
     }
    },
    "1a7e522d7c78494db49cfcff5f4e5edb": {
     "model_module": "@jupyter-widgets/controls",
     "model_module_version": "1.5.0",
     "model_name": "HTMLModel",
     "state": {
      "_dom_classes": [],
      "_model_module": "@jupyter-widgets/controls",
      "_model_module_version": "1.5.0",
      "_model_name": "HTMLModel",
      "_view_count": null,
      "_view_module": "@jupyter-widgets/controls",
      "_view_module_version": "1.5.0",
      "_view_name": "HTMLView",
      "description": "",
      "description_tooltip": null,
      "layout": "IPY_MODEL_a784ba3f2f844d6ea2111a3629b2933a",
      "placeholder": "​",
      "style": "IPY_MODEL_0d4eaab760c2408ebc7c09d2368497c0",
      "value": " 227/227 [01:37&lt;00:00,  2.44it/s]"
     }
    },
    "1a876323eac74f6785e4726170ed3e22": {
     "model_module": "@jupyter-widgets/controls",
     "model_module_version": "1.5.0",
     "model_name": "DescriptionStyleModel",
     "state": {
      "_model_module": "@jupyter-widgets/controls",
      "_model_module_version": "1.5.0",
      "_model_name": "DescriptionStyleModel",
      "_view_count": null,
      "_view_module": "@jupyter-widgets/base",
      "_view_module_version": "1.2.0",
      "_view_name": "StyleView",
      "description_width": ""
     }
    },
    "1b9451157d30415f9271ca940fc1b2c8": {
     "model_module": "@jupyter-widgets/controls",
     "model_module_version": "1.5.0",
     "model_name": "FloatProgressModel",
     "state": {
      "_dom_classes": [],
      "_model_module": "@jupyter-widgets/controls",
      "_model_module_version": "1.5.0",
      "_model_name": "FloatProgressModel",
      "_view_count": null,
      "_view_module": "@jupyter-widgets/controls",
      "_view_module_version": "1.5.0",
      "_view_name": "ProgressView",
      "bar_style": "success",
      "description": "",
      "description_tooltip": null,
      "layout": "IPY_MODEL_f59d43a8f1a748488eb253ca9905b1e9",
      "max": 227,
      "min": 0,
      "orientation": "horizontal",
      "style": "IPY_MODEL_4e1538c2c97f4ac4840a78ef475eabcc",
      "value": 227
     }
    },
    "1d1ba08bda984fee87e6e302f151d2ec": {
     "model_module": "@jupyter-widgets/controls",
     "model_module_version": "1.5.0",
     "model_name": "HTMLModel",
     "state": {
      "_dom_classes": [],
      "_model_module": "@jupyter-widgets/controls",
      "_model_module_version": "1.5.0",
      "_model_name": "HTMLModel",
      "_view_count": null,
      "_view_module": "@jupyter-widgets/controls",
      "_view_module_version": "1.5.0",
      "_view_name": "HTMLView",
      "description": "",
      "description_tooltip": null,
      "layout": "IPY_MODEL_35750514e86648ff99c833e3dcfee93c",
      "placeholder": "​",
      "style": "IPY_MODEL_21aa9e7e1bda43188bb24b69454e041c",
      "value": "100%"
     }
    },
    "1d727c0011f34f2a84a81d80432a293d": {
     "model_module": "@jupyter-widgets/controls",
     "model_module_version": "1.5.0",
     "model_name": "HTMLModel",
     "state": {
      "_dom_classes": [],
      "_model_module": "@jupyter-widgets/controls",
      "_model_module_version": "1.5.0",
      "_model_name": "HTMLModel",
      "_view_count": null,
      "_view_module": "@jupyter-widgets/controls",
      "_view_module_version": "1.5.0",
      "_view_name": "HTMLView",
      "description": "",
      "description_tooltip": null,
      "layout": "IPY_MODEL_987e02deda5741f29d0e3271c34c5c13",
      "placeholder": "​",
      "style": "IPY_MODEL_f65e949515ae4d56bc79bf25e25c1620",
      "value": "100%"
     }
    },
    "1d883163317140619f277423f6fe14a2": {
     "model_module": "@jupyter-widgets/base",
     "model_module_version": "1.2.0",
     "model_name": "LayoutModel",
     "state": {
      "_model_module": "@jupyter-widgets/base",
      "_model_module_version": "1.2.0",
      "_model_name": "LayoutModel",
      "_view_count": null,
      "_view_module": "@jupyter-widgets/base",
      "_view_module_version": "1.2.0",
      "_view_name": "LayoutView",
      "align_content": null,
      "align_items": null,
      "align_self": null,
      "border": null,
      "bottom": null,
      "display": null,
      "flex": null,
      "flex_flow": null,
      "grid_area": null,
      "grid_auto_columns": null,
      "grid_auto_flow": null,
      "grid_auto_rows": null,
      "grid_column": null,
      "grid_gap": null,
      "grid_row": null,
      "grid_template_areas": null,
      "grid_template_columns": null,
      "grid_template_rows": null,
      "height": null,
      "justify_content": null,
      "justify_items": null,
      "left": null,
      "margin": null,
      "max_height": null,
      "max_width": null,
      "min_height": null,
      "min_width": null,
      "object_fit": null,
      "object_position": null,
      "order": null,
      "overflow": null,
      "overflow_x": null,
      "overflow_y": null,
      "padding": null,
      "right": null,
      "top": null,
      "visibility": null,
      "width": null
     }
    },
    "1d9e34c3f31a49b4b4dfc44c5eb72a6d": {
     "model_module": "@jupyter-widgets/controls",
     "model_module_version": "1.5.0",
     "model_name": "HTMLModel",
     "state": {
      "_dom_classes": [],
      "_model_module": "@jupyter-widgets/controls",
      "_model_module_version": "1.5.0",
      "_model_name": "HTMLModel",
      "_view_count": null,
      "_view_module": "@jupyter-widgets/controls",
      "_view_module_version": "1.5.0",
      "_view_name": "HTMLView",
      "description": "",
      "description_tooltip": null,
      "layout": "IPY_MODEL_dcfeea26ca344082a8477512fd2086f1",
      "placeholder": "​",
      "style": "IPY_MODEL_b747536a69114cde8ffd72ef24d53fd7",
      "value": "100%"
     }
    },
    "1f08689d3b8b4a4089ffc6a0ce3f3941": {
     "model_module": "@jupyter-widgets/base",
     "model_module_version": "1.2.0",
     "model_name": "LayoutModel",
     "state": {
      "_model_module": "@jupyter-widgets/base",
      "_model_module_version": "1.2.0",
      "_model_name": "LayoutModel",
      "_view_count": null,
      "_view_module": "@jupyter-widgets/base",
      "_view_module_version": "1.2.0",
      "_view_name": "LayoutView",
      "align_content": null,
      "align_items": null,
      "align_self": null,
      "border": null,
      "bottom": null,
      "display": null,
      "flex": null,
      "flex_flow": null,
      "grid_area": null,
      "grid_auto_columns": null,
      "grid_auto_flow": null,
      "grid_auto_rows": null,
      "grid_column": null,
      "grid_gap": null,
      "grid_row": null,
      "grid_template_areas": null,
      "grid_template_columns": null,
      "grid_template_rows": null,
      "height": null,
      "justify_content": null,
      "justify_items": null,
      "left": null,
      "margin": null,
      "max_height": null,
      "max_width": null,
      "min_height": null,
      "min_width": null,
      "object_fit": null,
      "object_position": null,
      "order": null,
      "overflow": null,
      "overflow_x": null,
      "overflow_y": null,
      "padding": null,
      "right": null,
      "top": null,
      "visibility": null,
      "width": null
     }
    },
    "21aa9e7e1bda43188bb24b69454e041c": {
     "model_module": "@jupyter-widgets/controls",
     "model_module_version": "1.5.0",
     "model_name": "DescriptionStyleModel",
     "state": {
      "_model_module": "@jupyter-widgets/controls",
      "_model_module_version": "1.5.0",
      "_model_name": "DescriptionStyleModel",
      "_view_count": null,
      "_view_module": "@jupyter-widgets/base",
      "_view_module_version": "1.2.0",
      "_view_name": "StyleView",
      "description_width": ""
     }
    },
    "25fc168d516048adb3d3243ded188709": {
     "model_module": "@jupyter-widgets/controls",
     "model_module_version": "1.5.0",
     "model_name": "ProgressStyleModel",
     "state": {
      "_model_module": "@jupyter-widgets/controls",
      "_model_module_version": "1.5.0",
      "_model_name": "ProgressStyleModel",
      "_view_count": null,
      "_view_module": "@jupyter-widgets/base",
      "_view_module_version": "1.2.0",
      "_view_name": "StyleView",
      "bar_color": null,
      "description_width": ""
     }
    },
    "272fa8f6b49545d79112be86e48cc0c4": {
     "model_module": "@jupyter-widgets/base",
     "model_module_version": "1.2.0",
     "model_name": "LayoutModel",
     "state": {
      "_model_module": "@jupyter-widgets/base",
      "_model_module_version": "1.2.0",
      "_model_name": "LayoutModel",
      "_view_count": null,
      "_view_module": "@jupyter-widgets/base",
      "_view_module_version": "1.2.0",
      "_view_name": "LayoutView",
      "align_content": null,
      "align_items": null,
      "align_self": null,
      "border": null,
      "bottom": null,
      "display": null,
      "flex": null,
      "flex_flow": null,
      "grid_area": null,
      "grid_auto_columns": null,
      "grid_auto_flow": null,
      "grid_auto_rows": null,
      "grid_column": null,
      "grid_gap": null,
      "grid_row": null,
      "grid_template_areas": null,
      "grid_template_columns": null,
      "grid_template_rows": null,
      "height": null,
      "justify_content": null,
      "justify_items": null,
      "left": null,
      "margin": null,
      "max_height": null,
      "max_width": null,
      "min_height": null,
      "min_width": null,
      "object_fit": null,
      "object_position": null,
      "order": null,
      "overflow": null,
      "overflow_x": null,
      "overflow_y": null,
      "padding": null,
      "right": null,
      "top": null,
      "visibility": null,
      "width": null
     }
    },
    "2774b3c9a1bf4cd683ca0dd29a74ae8a": {
     "model_module": "@jupyter-widgets/controls",
     "model_module_version": "1.5.0",
     "model_name": "HTMLModel",
     "state": {
      "_dom_classes": [],
      "_model_module": "@jupyter-widgets/controls",
      "_model_module_version": "1.5.0",
      "_model_name": "HTMLModel",
      "_view_count": null,
      "_view_module": "@jupyter-widgets/controls",
      "_view_module_version": "1.5.0",
      "_view_name": "HTMLView",
      "description": "",
      "description_tooltip": null,
      "layout": "IPY_MODEL_3fa320ed5e574b52ac1d7ff337685623",
      "placeholder": "​",
      "style": "IPY_MODEL_6e3296d7c40444ec82345ebae4044c78",
      "value": " 227/227 [01:37&lt;00:00,  2.46it/s]"
     }
    },
    "2c8c4a301e794986826832396d092a15": {
     "model_module": "@jupyter-widgets/base",
     "model_module_version": "1.2.0",
     "model_name": "LayoutModel",
     "state": {
      "_model_module": "@jupyter-widgets/base",
      "_model_module_version": "1.2.0",
      "_model_name": "LayoutModel",
      "_view_count": null,
      "_view_module": "@jupyter-widgets/base",
      "_view_module_version": "1.2.0",
      "_view_name": "LayoutView",
      "align_content": null,
      "align_items": null,
      "align_self": null,
      "border": null,
      "bottom": null,
      "display": null,
      "flex": null,
      "flex_flow": null,
      "grid_area": null,
      "grid_auto_columns": null,
      "grid_auto_flow": null,
      "grid_auto_rows": null,
      "grid_column": null,
      "grid_gap": null,
      "grid_row": null,
      "grid_template_areas": null,
      "grid_template_columns": null,
      "grid_template_rows": null,
      "height": null,
      "justify_content": null,
      "justify_items": null,
      "left": null,
      "margin": null,
      "max_height": null,
      "max_width": null,
      "min_height": null,
      "min_width": null,
      "object_fit": null,
      "object_position": null,
      "order": null,
      "overflow": null,
      "overflow_x": null,
      "overflow_y": null,
      "padding": null,
      "right": null,
      "top": null,
      "visibility": null,
      "width": null
     }
    },
    "2cd6032423d84f8da80038611a3cb3e1": {
     "model_module": "@jupyter-widgets/controls",
     "model_module_version": "1.5.0",
     "model_name": "FloatProgressModel",
     "state": {
      "_dom_classes": [],
      "_model_module": "@jupyter-widgets/controls",
      "_model_module_version": "1.5.0",
      "_model_name": "FloatProgressModel",
      "_view_count": null,
      "_view_module": "@jupyter-widgets/controls",
      "_view_module_version": "1.5.0",
      "_view_name": "ProgressView",
      "bar_style": "success",
      "description": "",
      "description_tooltip": null,
      "layout": "IPY_MODEL_9a593b72166c4a898ca4b7621b0779fc",
      "max": 227,
      "min": 0,
      "orientation": "horizontal",
      "style": "IPY_MODEL_e2efc9bd7ae7402b9e9f0c96658951fb",
      "value": 227
     }
    },
    "2f01a85e6f684e5fb5ff3d91d6cabcc0": {
     "model_module": "@jupyter-widgets/base",
     "model_module_version": "1.2.0",
     "model_name": "LayoutModel",
     "state": {
      "_model_module": "@jupyter-widgets/base",
      "_model_module_version": "1.2.0",
      "_model_name": "LayoutModel",
      "_view_count": null,
      "_view_module": "@jupyter-widgets/base",
      "_view_module_version": "1.2.0",
      "_view_name": "LayoutView",
      "align_content": null,
      "align_items": null,
      "align_self": null,
      "border": null,
      "bottom": null,
      "display": null,
      "flex": null,
      "flex_flow": null,
      "grid_area": null,
      "grid_auto_columns": null,
      "grid_auto_flow": null,
      "grid_auto_rows": null,
      "grid_column": null,
      "grid_gap": null,
      "grid_row": null,
      "grid_template_areas": null,
      "grid_template_columns": null,
      "grid_template_rows": null,
      "height": null,
      "justify_content": null,
      "justify_items": null,
      "left": null,
      "margin": null,
      "max_height": null,
      "max_width": null,
      "min_height": null,
      "min_width": null,
      "object_fit": null,
      "object_position": null,
      "order": null,
      "overflow": null,
      "overflow_x": null,
      "overflow_y": null,
      "padding": null,
      "right": null,
      "top": null,
      "visibility": null,
      "width": null
     }
    },
    "31e5f42356a1468a9712149290593c87": {
     "model_module": "@jupyter-widgets/base",
     "model_module_version": "1.2.0",
     "model_name": "LayoutModel",
     "state": {
      "_model_module": "@jupyter-widgets/base",
      "_model_module_version": "1.2.0",
      "_model_name": "LayoutModel",
      "_view_count": null,
      "_view_module": "@jupyter-widgets/base",
      "_view_module_version": "1.2.0",
      "_view_name": "LayoutView",
      "align_content": null,
      "align_items": null,
      "align_self": null,
      "border": null,
      "bottom": null,
      "display": null,
      "flex": null,
      "flex_flow": null,
      "grid_area": null,
      "grid_auto_columns": null,
      "grid_auto_flow": null,
      "grid_auto_rows": null,
      "grid_column": null,
      "grid_gap": null,
      "grid_row": null,
      "grid_template_areas": null,
      "grid_template_columns": null,
      "grid_template_rows": null,
      "height": null,
      "justify_content": null,
      "justify_items": null,
      "left": null,
      "margin": null,
      "max_height": null,
      "max_width": null,
      "min_height": null,
      "min_width": null,
      "object_fit": null,
      "object_position": null,
      "order": null,
      "overflow": null,
      "overflow_x": null,
      "overflow_y": null,
      "padding": null,
      "right": null,
      "top": null,
      "visibility": null,
      "width": null
     }
    },
    "32c77d57eb4146e3a82a064a9544f269": {
     "model_module": "@jupyter-widgets/controls",
     "model_module_version": "1.5.0",
     "model_name": "FloatProgressModel",
     "state": {
      "_dom_classes": [],
      "_model_module": "@jupyter-widgets/controls",
      "_model_module_version": "1.5.0",
      "_model_name": "FloatProgressModel",
      "_view_count": null,
      "_view_module": "@jupyter-widgets/controls",
      "_view_module_version": "1.5.0",
      "_view_name": "ProgressView",
      "bar_style": "success",
      "description": "",
      "description_tooltip": null,
      "layout": "IPY_MODEL_a5f99044b16b4ceaac0357a7afa5d410",
      "max": 227,
      "min": 0,
      "orientation": "horizontal",
      "style": "IPY_MODEL_98205158803b4054bb553e5f46119a9a",
      "value": 227
     }
    },
    "35750514e86648ff99c833e3dcfee93c": {
     "model_module": "@jupyter-widgets/base",
     "model_module_version": "1.2.0",
     "model_name": "LayoutModel",
     "state": {
      "_model_module": "@jupyter-widgets/base",
      "_model_module_version": "1.2.0",
      "_model_name": "LayoutModel",
      "_view_count": null,
      "_view_module": "@jupyter-widgets/base",
      "_view_module_version": "1.2.0",
      "_view_name": "LayoutView",
      "align_content": null,
      "align_items": null,
      "align_self": null,
      "border": null,
      "bottom": null,
      "display": null,
      "flex": null,
      "flex_flow": null,
      "grid_area": null,
      "grid_auto_columns": null,
      "grid_auto_flow": null,
      "grid_auto_rows": null,
      "grid_column": null,
      "grid_gap": null,
      "grid_row": null,
      "grid_template_areas": null,
      "grid_template_columns": null,
      "grid_template_rows": null,
      "height": null,
      "justify_content": null,
      "justify_items": null,
      "left": null,
      "margin": null,
      "max_height": null,
      "max_width": null,
      "min_height": null,
      "min_width": null,
      "object_fit": null,
      "object_position": null,
      "order": null,
      "overflow": null,
      "overflow_x": null,
      "overflow_y": null,
      "padding": null,
      "right": null,
      "top": null,
      "visibility": null,
      "width": null
     }
    },
    "3676bbb4b4b64965ba7cd1f883b53447": {
     "model_module": "@jupyter-widgets/controls",
     "model_module_version": "1.5.0",
     "model_name": "FloatProgressModel",
     "state": {
      "_dom_classes": [],
      "_model_module": "@jupyter-widgets/controls",
      "_model_module_version": "1.5.0",
      "_model_name": "FloatProgressModel",
      "_view_count": null,
      "_view_module": "@jupyter-widgets/controls",
      "_view_module_version": "1.5.0",
      "_view_name": "ProgressView",
      "bar_style": "success",
      "description": "",
      "description_tooltip": null,
      "layout": "IPY_MODEL_2f01a85e6f684e5fb5ff3d91d6cabcc0",
      "max": 227,
      "min": 0,
      "orientation": "horizontal",
      "style": "IPY_MODEL_1914b94c1f8742e388766413f7949824",
      "value": 227
     }
    },
    "399c7e1f846644788068596faf774008": {
     "model_module": "@jupyter-widgets/controls",
     "model_module_version": "1.5.0",
     "model_name": "HTMLModel",
     "state": {
      "_dom_classes": [],
      "_model_module": "@jupyter-widgets/controls",
      "_model_module_version": "1.5.0",
      "_model_name": "HTMLModel",
      "_view_count": null,
      "_view_module": "@jupyter-widgets/controls",
      "_view_module_version": "1.5.0",
      "_view_name": "HTMLView",
      "description": "",
      "description_tooltip": null,
      "layout": "IPY_MODEL_cf11684bd11a45258166fb93059b6afa",
      "placeholder": "​",
      "style": "IPY_MODEL_fa1169be9a9942308e3c55e1009e2c27",
      "value": "100%"
     }
    },
    "3d747d1c1a3e4470a805637218849530": {
     "model_module": "@jupyter-widgets/base",
     "model_module_version": "1.2.0",
     "model_name": "LayoutModel",
     "state": {
      "_model_module": "@jupyter-widgets/base",
      "_model_module_version": "1.2.0",
      "_model_name": "LayoutModel",
      "_view_count": null,
      "_view_module": "@jupyter-widgets/base",
      "_view_module_version": "1.2.0",
      "_view_name": "LayoutView",
      "align_content": null,
      "align_items": null,
      "align_self": null,
      "border": null,
      "bottom": null,
      "display": null,
      "flex": null,
      "flex_flow": null,
      "grid_area": null,
      "grid_auto_columns": null,
      "grid_auto_flow": null,
      "grid_auto_rows": null,
      "grid_column": null,
      "grid_gap": null,
      "grid_row": null,
      "grid_template_areas": null,
      "grid_template_columns": null,
      "grid_template_rows": null,
      "height": null,
      "justify_content": null,
      "justify_items": null,
      "left": null,
      "margin": null,
      "max_height": null,
      "max_width": null,
      "min_height": null,
      "min_width": null,
      "object_fit": null,
      "object_position": null,
      "order": null,
      "overflow": null,
      "overflow_x": null,
      "overflow_y": null,
      "padding": null,
      "right": null,
      "top": null,
      "visibility": null,
      "width": null
     }
    },
    "3fa320ed5e574b52ac1d7ff337685623": {
     "model_module": "@jupyter-widgets/base",
     "model_module_version": "1.2.0",
     "model_name": "LayoutModel",
     "state": {
      "_model_module": "@jupyter-widgets/base",
      "_model_module_version": "1.2.0",
      "_model_name": "LayoutModel",
      "_view_count": null,
      "_view_module": "@jupyter-widgets/base",
      "_view_module_version": "1.2.0",
      "_view_name": "LayoutView",
      "align_content": null,
      "align_items": null,
      "align_self": null,
      "border": null,
      "bottom": null,
      "display": null,
      "flex": null,
      "flex_flow": null,
      "grid_area": null,
      "grid_auto_columns": null,
      "grid_auto_flow": null,
      "grid_auto_rows": null,
      "grid_column": null,
      "grid_gap": null,
      "grid_row": null,
      "grid_template_areas": null,
      "grid_template_columns": null,
      "grid_template_rows": null,
      "height": null,
      "justify_content": null,
      "justify_items": null,
      "left": null,
      "margin": null,
      "max_height": null,
      "max_width": null,
      "min_height": null,
      "min_width": null,
      "object_fit": null,
      "object_position": null,
      "order": null,
      "overflow": null,
      "overflow_x": null,
      "overflow_y": null,
      "padding": null,
      "right": null,
      "top": null,
      "visibility": null,
      "width": null
     }
    },
    "44c4631aeb434404a199170df6c2f055": {
     "model_module": "@jupyter-widgets/base",
     "model_module_version": "1.2.0",
     "model_name": "LayoutModel",
     "state": {
      "_model_module": "@jupyter-widgets/base",
      "_model_module_version": "1.2.0",
      "_model_name": "LayoutModel",
      "_view_count": null,
      "_view_module": "@jupyter-widgets/base",
      "_view_module_version": "1.2.0",
      "_view_name": "LayoutView",
      "align_content": null,
      "align_items": null,
      "align_self": null,
      "border": null,
      "bottom": null,
      "display": null,
      "flex": null,
      "flex_flow": null,
      "grid_area": null,
      "grid_auto_columns": null,
      "grid_auto_flow": null,
      "grid_auto_rows": null,
      "grid_column": null,
      "grid_gap": null,
      "grid_row": null,
      "grid_template_areas": null,
      "grid_template_columns": null,
      "grid_template_rows": null,
      "height": null,
      "justify_content": null,
      "justify_items": null,
      "left": null,
      "margin": null,
      "max_height": null,
      "max_width": null,
      "min_height": null,
      "min_width": null,
      "object_fit": null,
      "object_position": null,
      "order": null,
      "overflow": null,
      "overflow_x": null,
      "overflow_y": null,
      "padding": null,
      "right": null,
      "top": null,
      "visibility": null,
      "width": null
     }
    },
    "4ad73db8a08f4b86af6f2b1a7e27be40": {
     "model_module": "@jupyter-widgets/controls",
     "model_module_version": "1.5.0",
     "model_name": "DescriptionStyleModel",
     "state": {
      "_model_module": "@jupyter-widgets/controls",
      "_model_module_version": "1.5.0",
      "_model_name": "DescriptionStyleModel",
      "_view_count": null,
      "_view_module": "@jupyter-widgets/base",
      "_view_module_version": "1.2.0",
      "_view_name": "StyleView",
      "description_width": ""
     }
    },
    "4ceccd052d164ca6ab29904b30a1d8c8": {
     "model_module": "@jupyter-widgets/controls",
     "model_module_version": "1.5.0",
     "model_name": "HTMLModel",
     "state": {
      "_dom_classes": [],
      "_model_module": "@jupyter-widgets/controls",
      "_model_module_version": "1.5.0",
      "_model_name": "HTMLModel",
      "_view_count": null,
      "_view_module": "@jupyter-widgets/controls",
      "_view_module_version": "1.5.0",
      "_view_name": "HTMLView",
      "description": "",
      "description_tooltip": null,
      "layout": "IPY_MODEL_05a2714a1b274d4cb33c91b37f35e2ff",
      "placeholder": "​",
      "style": "IPY_MODEL_0c080f93f2ce4790bc7b7d54dc881420",
      "value": "100%"
     }
    },
    "4e1538c2c97f4ac4840a78ef475eabcc": {
     "model_module": "@jupyter-widgets/controls",
     "model_module_version": "1.5.0",
     "model_name": "ProgressStyleModel",
     "state": {
      "_model_module": "@jupyter-widgets/controls",
      "_model_module_version": "1.5.0",
      "_model_name": "ProgressStyleModel",
      "_view_count": null,
      "_view_module": "@jupyter-widgets/base",
      "_view_module_version": "1.2.0",
      "_view_name": "StyleView",
      "bar_color": null,
      "description_width": ""
     }
    },
    "542aedc743e24123a0249faf0a362d0d": {
     "model_module": "@jupyter-widgets/controls",
     "model_module_version": "1.5.0",
     "model_name": "HTMLModel",
     "state": {
      "_dom_classes": [],
      "_model_module": "@jupyter-widgets/controls",
      "_model_module_version": "1.5.0",
      "_model_name": "HTMLModel",
      "_view_count": null,
      "_view_module": "@jupyter-widgets/controls",
      "_view_module_version": "1.5.0",
      "_view_name": "HTMLView",
      "description": "",
      "description_tooltip": null,
      "layout": "IPY_MODEL_a98723347bb34a458dec2100d7510423",
      "placeholder": "​",
      "style": "IPY_MODEL_1a876323eac74f6785e4726170ed3e22",
      "value": " 227/227 [01:37&lt;00:00,  2.42it/s]"
     }
    },
    "5583b0f4b58d427b9bff937efb9f1633": {
     "model_module": "@jupyter-widgets/controls",
     "model_module_version": "1.5.0",
     "model_name": "DescriptionStyleModel",
     "state": {
      "_model_module": "@jupyter-widgets/controls",
      "_model_module_version": "1.5.0",
      "_model_name": "DescriptionStyleModel",
      "_view_count": null,
      "_view_module": "@jupyter-widgets/base",
      "_view_module_version": "1.2.0",
      "_view_name": "StyleView",
      "description_width": ""
     }
    },
    "5764ec20a1eb4e55b334ce0b83786bd2": {
     "model_module": "@jupyter-widgets/base",
     "model_module_version": "1.2.0",
     "model_name": "LayoutModel",
     "state": {
      "_model_module": "@jupyter-widgets/base",
      "_model_module_version": "1.2.0",
      "_model_name": "LayoutModel",
      "_view_count": null,
      "_view_module": "@jupyter-widgets/base",
      "_view_module_version": "1.2.0",
      "_view_name": "LayoutView",
      "align_content": null,
      "align_items": null,
      "align_self": null,
      "border": null,
      "bottom": null,
      "display": null,
      "flex": null,
      "flex_flow": null,
      "grid_area": null,
      "grid_auto_columns": null,
      "grid_auto_flow": null,
      "grid_auto_rows": null,
      "grid_column": null,
      "grid_gap": null,
      "grid_row": null,
      "grid_template_areas": null,
      "grid_template_columns": null,
      "grid_template_rows": null,
      "height": null,
      "justify_content": null,
      "justify_items": null,
      "left": null,
      "margin": null,
      "max_height": null,
      "max_width": null,
      "min_height": null,
      "min_width": null,
      "object_fit": null,
      "object_position": null,
      "order": null,
      "overflow": null,
      "overflow_x": null,
      "overflow_y": null,
      "padding": null,
      "right": null,
      "top": null,
      "visibility": null,
      "width": null
     }
    },
    "57cf592f41684947ac7030136dfca00f": {
     "model_module": "@jupyter-widgets/controls",
     "model_module_version": "1.5.0",
     "model_name": "HBoxModel",
     "state": {
      "_dom_classes": [],
      "_model_module": "@jupyter-widgets/controls",
      "_model_module_version": "1.5.0",
      "_model_name": "HBoxModel",
      "_view_count": null,
      "_view_module": "@jupyter-widgets/controls",
      "_view_module_version": "1.5.0",
      "_view_name": "HBoxView",
      "box_style": "",
      "children": [
       "IPY_MODEL_1d1ba08bda984fee87e6e302f151d2ec",
       "IPY_MODEL_32c77d57eb4146e3a82a064a9544f269",
       "IPY_MODEL_acd9def64d154414a624cb44d0cd8912"
      ],
      "layout": "IPY_MODEL_6fe4579bc5cb411db34bcd909801b0ab"
     }
    },
    "589c82bfb87f4c92a048193b70e957d4": {
     "model_module": "@jupyter-widgets/controls",
     "model_module_version": "1.5.0",
     "model_name": "DescriptionStyleModel",
     "state": {
      "_model_module": "@jupyter-widgets/controls",
      "_model_module_version": "1.5.0",
      "_model_name": "DescriptionStyleModel",
      "_view_count": null,
      "_view_module": "@jupyter-widgets/base",
      "_view_module_version": "1.2.0",
      "_view_name": "StyleView",
      "description_width": ""
     }
    },
    "5cd01f22fd124457a4d8e43fb9abf187": {
     "model_module": "@jupyter-widgets/controls",
     "model_module_version": "1.5.0",
     "model_name": "HBoxModel",
     "state": {
      "_dom_classes": [],
      "_model_module": "@jupyter-widgets/controls",
      "_model_module_version": "1.5.0",
      "_model_name": "HBoxModel",
      "_view_count": null,
      "_view_module": "@jupyter-widgets/controls",
      "_view_module_version": "1.5.0",
      "_view_name": "HBoxView",
      "box_style": "",
      "children": [
       "IPY_MODEL_a6e0d43e491a44fcaf5dc44173b077c2",
       "IPY_MODEL_3676bbb4b4b64965ba7cd1f883b53447",
       "IPY_MODEL_debc473c582746e0a12b1cae2ad43577"
      ],
      "layout": "IPY_MODEL_180c22e6ea584e5d9fffefc1309b17ea"
     }
    },
    "5ceb45bd119b4d3484e2eb7d8868f05d": {
     "model_module": "@jupyter-widgets/controls",
     "model_module_version": "1.5.0",
     "model_name": "DescriptionStyleModel",
     "state": {
      "_model_module": "@jupyter-widgets/controls",
      "_model_module_version": "1.5.0",
      "_model_name": "DescriptionStyleModel",
      "_view_count": null,
      "_view_module": "@jupyter-widgets/base",
      "_view_module_version": "1.2.0",
      "_view_name": "StyleView",
      "description_width": ""
     }
    },
    "606489d2765c4869b0771d78af7ed227": {
     "model_module": "@jupyter-widgets/base",
     "model_module_version": "1.2.0",
     "model_name": "LayoutModel",
     "state": {
      "_model_module": "@jupyter-widgets/base",
      "_model_module_version": "1.2.0",
      "_model_name": "LayoutModel",
      "_view_count": null,
      "_view_module": "@jupyter-widgets/base",
      "_view_module_version": "1.2.0",
      "_view_name": "LayoutView",
      "align_content": null,
      "align_items": null,
      "align_self": null,
      "border": null,
      "bottom": null,
      "display": null,
      "flex": null,
      "flex_flow": null,
      "grid_area": null,
      "grid_auto_columns": null,
      "grid_auto_flow": null,
      "grid_auto_rows": null,
      "grid_column": null,
      "grid_gap": null,
      "grid_row": null,
      "grid_template_areas": null,
      "grid_template_columns": null,
      "grid_template_rows": null,
      "height": null,
      "justify_content": null,
      "justify_items": null,
      "left": null,
      "margin": null,
      "max_height": null,
      "max_width": null,
      "min_height": null,
      "min_width": null,
      "object_fit": null,
      "object_position": null,
      "order": null,
      "overflow": null,
      "overflow_x": null,
      "overflow_y": null,
      "padding": null,
      "right": null,
      "top": null,
      "visibility": null,
      "width": null
     }
    },
    "6146a60355594d44bf6937bdaa443a36": {
     "model_module": "@jupyter-widgets/base",
     "model_module_version": "1.2.0",
     "model_name": "LayoutModel",
     "state": {
      "_model_module": "@jupyter-widgets/base",
      "_model_module_version": "1.2.0",
      "_model_name": "LayoutModel",
      "_view_count": null,
      "_view_module": "@jupyter-widgets/base",
      "_view_module_version": "1.2.0",
      "_view_name": "LayoutView",
      "align_content": null,
      "align_items": null,
      "align_self": null,
      "border": null,
      "bottom": null,
      "display": null,
      "flex": null,
      "flex_flow": null,
      "grid_area": null,
      "grid_auto_columns": null,
      "grid_auto_flow": null,
      "grid_auto_rows": null,
      "grid_column": null,
      "grid_gap": null,
      "grid_row": null,
      "grid_template_areas": null,
      "grid_template_columns": null,
      "grid_template_rows": null,
      "height": null,
      "justify_content": null,
      "justify_items": null,
      "left": null,
      "margin": null,
      "max_height": null,
      "max_width": null,
      "min_height": null,
      "min_width": null,
      "object_fit": null,
      "object_position": null,
      "order": null,
      "overflow": null,
      "overflow_x": null,
      "overflow_y": null,
      "padding": null,
      "right": null,
      "top": null,
      "visibility": null,
      "width": null
     }
    },
    "615c3da42e284cbebf0f4129e63426c6": {
     "model_module": "@jupyter-widgets/base",
     "model_module_version": "1.2.0",
     "model_name": "LayoutModel",
     "state": {
      "_model_module": "@jupyter-widgets/base",
      "_model_module_version": "1.2.0",
      "_model_name": "LayoutModel",
      "_view_count": null,
      "_view_module": "@jupyter-widgets/base",
      "_view_module_version": "1.2.0",
      "_view_name": "LayoutView",
      "align_content": null,
      "align_items": null,
      "align_self": null,
      "border": null,
      "bottom": null,
      "display": null,
      "flex": null,
      "flex_flow": null,
      "grid_area": null,
      "grid_auto_columns": null,
      "grid_auto_flow": null,
      "grid_auto_rows": null,
      "grid_column": null,
      "grid_gap": null,
      "grid_row": null,
      "grid_template_areas": null,
      "grid_template_columns": null,
      "grid_template_rows": null,
      "height": null,
      "justify_content": null,
      "justify_items": null,
      "left": null,
      "margin": null,
      "max_height": null,
      "max_width": null,
      "min_height": null,
      "min_width": null,
      "object_fit": null,
      "object_position": null,
      "order": null,
      "overflow": null,
      "overflow_x": null,
      "overflow_y": null,
      "padding": null,
      "right": null,
      "top": null,
      "visibility": null,
      "width": null
     }
    },
    "622c59decf5544cdb40a28f71c7d6f2c": {
     "model_module": "@jupyter-widgets/controls",
     "model_module_version": "1.5.0",
     "model_name": "HTMLModel",
     "state": {
      "_dom_classes": [],
      "_model_module": "@jupyter-widgets/controls",
      "_model_module_version": "1.5.0",
      "_model_name": "HTMLModel",
      "_view_count": null,
      "_view_module": "@jupyter-widgets/controls",
      "_view_module_version": "1.5.0",
      "_view_name": "HTMLView",
      "description": "",
      "description_tooltip": null,
      "layout": "IPY_MODEL_1005d8b7838e45a19682668f0116dec1",
      "placeholder": "​",
      "style": "IPY_MODEL_e24ff3462452453ba594fec663951390",
      "value": "100%"
     }
    },
    "69b303bd5d7347339cd3c93ba4ff6645": {
     "model_module": "@jupyter-widgets/controls",
     "model_module_version": "1.5.0",
     "model_name": "FloatProgressModel",
     "state": {
      "_dom_classes": [],
      "_model_module": "@jupyter-widgets/controls",
      "_model_module_version": "1.5.0",
      "_model_name": "FloatProgressModel",
      "_view_count": null,
      "_view_module": "@jupyter-widgets/controls",
      "_view_module_version": "1.5.0",
      "_view_name": "ProgressView",
      "bar_style": "success",
      "description": "",
      "description_tooltip": null,
      "layout": "IPY_MODEL_5764ec20a1eb4e55b334ce0b83786bd2",
      "max": 227,
      "min": 0,
      "orientation": "horizontal",
      "style": "IPY_MODEL_1a6a841586a54c10b2bcd82b7655ea46",
      "value": 227
     }
    },
    "69f2592630f34d41b3508227ab986c45": {
     "model_module": "@jupyter-widgets/controls",
     "model_module_version": "1.5.0",
     "model_name": "FloatProgressModel",
     "state": {
      "_dom_classes": [],
      "_model_module": "@jupyter-widgets/controls",
      "_model_module_version": "1.5.0",
      "_model_name": "FloatProgressModel",
      "_view_count": null,
      "_view_module": "@jupyter-widgets/controls",
      "_view_module_version": "1.5.0",
      "_view_name": "ProgressView",
      "bar_style": "success",
      "description": "",
      "description_tooltip": null,
      "layout": "IPY_MODEL_0e73ba503b88499c86bf49a9b8a22164",
      "max": 227,
      "min": 0,
      "orientation": "horizontal",
      "style": "IPY_MODEL_865fa5b25f2641179f18ac265b0d3451",
      "value": 227
     }
    },
    "6e3296d7c40444ec82345ebae4044c78": {
     "model_module": "@jupyter-widgets/controls",
     "model_module_version": "1.5.0",
     "model_name": "DescriptionStyleModel",
     "state": {
      "_model_module": "@jupyter-widgets/controls",
      "_model_module_version": "1.5.0",
      "_model_name": "DescriptionStyleModel",
      "_view_count": null,
      "_view_module": "@jupyter-widgets/base",
      "_view_module_version": "1.2.0",
      "_view_name": "StyleView",
      "description_width": ""
     }
    },
    "6e957c71ede44b899f051201b8a9055d": {
     "model_module": "@jupyter-widgets/controls",
     "model_module_version": "1.5.0",
     "model_name": "HTMLModel",
     "state": {
      "_dom_classes": [],
      "_model_module": "@jupyter-widgets/controls",
      "_model_module_version": "1.5.0",
      "_model_name": "HTMLModel",
      "_view_count": null,
      "_view_module": "@jupyter-widgets/controls",
      "_view_module_version": "1.5.0",
      "_view_name": "HTMLView",
      "description": "",
      "description_tooltip": null,
      "layout": "IPY_MODEL_615c3da42e284cbebf0f4129e63426c6",
      "placeholder": "​",
      "style": "IPY_MODEL_589c82bfb87f4c92a048193b70e957d4",
      "value": " 227/227 [01:37&lt;00:00,  2.42it/s]"
     }
    },
    "6fe4579bc5cb411db34bcd909801b0ab": {
     "model_module": "@jupyter-widgets/base",
     "model_module_version": "1.2.0",
     "model_name": "LayoutModel",
     "state": {
      "_model_module": "@jupyter-widgets/base",
      "_model_module_version": "1.2.0",
      "_model_name": "LayoutModel",
      "_view_count": null,
      "_view_module": "@jupyter-widgets/base",
      "_view_module_version": "1.2.0",
      "_view_name": "LayoutView",
      "align_content": null,
      "align_items": null,
      "align_self": null,
      "border": null,
      "bottom": null,
      "display": null,
      "flex": null,
      "flex_flow": null,
      "grid_area": null,
      "grid_auto_columns": null,
      "grid_auto_flow": null,
      "grid_auto_rows": null,
      "grid_column": null,
      "grid_gap": null,
      "grid_row": null,
      "grid_template_areas": null,
      "grid_template_columns": null,
      "grid_template_rows": null,
      "height": null,
      "justify_content": null,
      "justify_items": null,
      "left": null,
      "margin": null,
      "max_height": null,
      "max_width": null,
      "min_height": null,
      "min_width": null,
      "object_fit": null,
      "object_position": null,
      "order": null,
      "overflow": null,
      "overflow_x": null,
      "overflow_y": null,
      "padding": null,
      "right": null,
      "top": null,
      "visibility": null,
      "width": null
     }
    },
    "70623dc4e9cf40bdb027fa24a03bd644": {
     "model_module": "@jupyter-widgets/base",
     "model_module_version": "1.2.0",
     "model_name": "LayoutModel",
     "state": {
      "_model_module": "@jupyter-widgets/base",
      "_model_module_version": "1.2.0",
      "_model_name": "LayoutModel",
      "_view_count": null,
      "_view_module": "@jupyter-widgets/base",
      "_view_module_version": "1.2.0",
      "_view_name": "LayoutView",
      "align_content": null,
      "align_items": null,
      "align_self": null,
      "border": null,
      "bottom": null,
      "display": null,
      "flex": null,
      "flex_flow": null,
      "grid_area": null,
      "grid_auto_columns": null,
      "grid_auto_flow": null,
      "grid_auto_rows": null,
      "grid_column": null,
      "grid_gap": null,
      "grid_row": null,
      "grid_template_areas": null,
      "grid_template_columns": null,
      "grid_template_rows": null,
      "height": null,
      "justify_content": null,
      "justify_items": null,
      "left": null,
      "margin": null,
      "max_height": null,
      "max_width": null,
      "min_height": null,
      "min_width": null,
      "object_fit": null,
      "object_position": null,
      "order": null,
      "overflow": null,
      "overflow_x": null,
      "overflow_y": null,
      "padding": null,
      "right": null,
      "top": null,
      "visibility": null,
      "width": null
     }
    },
    "7c6fc5337a58430085e1c43f9be8a525": {
     "model_module": "@jupyter-widgets/base",
     "model_module_version": "1.2.0",
     "model_name": "LayoutModel",
     "state": {
      "_model_module": "@jupyter-widgets/base",
      "_model_module_version": "1.2.0",
      "_model_name": "LayoutModel",
      "_view_count": null,
      "_view_module": "@jupyter-widgets/base",
      "_view_module_version": "1.2.0",
      "_view_name": "LayoutView",
      "align_content": null,
      "align_items": null,
      "align_self": null,
      "border": null,
      "bottom": null,
      "display": null,
      "flex": null,
      "flex_flow": null,
      "grid_area": null,
      "grid_auto_columns": null,
      "grid_auto_flow": null,
      "grid_auto_rows": null,
      "grid_column": null,
      "grid_gap": null,
      "grid_row": null,
      "grid_template_areas": null,
      "grid_template_columns": null,
      "grid_template_rows": null,
      "height": null,
      "justify_content": null,
      "justify_items": null,
      "left": null,
      "margin": null,
      "max_height": null,
      "max_width": null,
      "min_height": null,
      "min_width": null,
      "object_fit": null,
      "object_position": null,
      "order": null,
      "overflow": null,
      "overflow_x": null,
      "overflow_y": null,
      "padding": null,
      "right": null,
      "top": null,
      "visibility": null,
      "width": null
     }
    },
    "7da74b3d1440473ca8ea78a38f0c2e8e": {
     "model_module": "@jupyter-widgets/controls",
     "model_module_version": "1.5.0",
     "model_name": "ProgressStyleModel",
     "state": {
      "_model_module": "@jupyter-widgets/controls",
      "_model_module_version": "1.5.0",
      "_model_name": "ProgressStyleModel",
      "_view_count": null,
      "_view_module": "@jupyter-widgets/base",
      "_view_module_version": "1.2.0",
      "_view_name": "StyleView",
      "bar_color": null,
      "description_width": ""
     }
    },
    "8488760daa47415ca509357a6424afdb": {
     "model_module": "@jupyter-widgets/controls",
     "model_module_version": "1.5.0",
     "model_name": "HBoxModel",
     "state": {
      "_dom_classes": [],
      "_model_module": "@jupyter-widgets/controls",
      "_model_module_version": "1.5.0",
      "_model_name": "HBoxModel",
      "_view_count": null,
      "_view_module": "@jupyter-widgets/controls",
      "_view_module_version": "1.5.0",
      "_view_name": "HBoxView",
      "box_style": "",
      "children": [
       "IPY_MODEL_1d9e34c3f31a49b4b4dfc44c5eb72a6d",
       "IPY_MODEL_69f2592630f34d41b3508227ab986c45",
       "IPY_MODEL_1a7e522d7c78494db49cfcff5f4e5edb"
      ],
      "layout": "IPY_MODEL_fd8d51ab693f46eba5b49dcbeedb3eb8"
     }
    },
    "865fa5b25f2641179f18ac265b0d3451": {
     "model_module": "@jupyter-widgets/controls",
     "model_module_version": "1.5.0",
     "model_name": "ProgressStyleModel",
     "state": {
      "_model_module": "@jupyter-widgets/controls",
      "_model_module_version": "1.5.0",
      "_model_name": "ProgressStyleModel",
      "_view_count": null,
      "_view_module": "@jupyter-widgets/base",
      "_view_module_version": "1.2.0",
      "_view_name": "StyleView",
      "bar_color": null,
      "description_width": ""
     }
    },
    "87af9a7a125748029dfe593c96cf465f": {
     "model_module": "@jupyter-widgets/controls",
     "model_module_version": "1.5.0",
     "model_name": "DescriptionStyleModel",
     "state": {
      "_model_module": "@jupyter-widgets/controls",
      "_model_module_version": "1.5.0",
      "_model_name": "DescriptionStyleModel",
      "_view_count": null,
      "_view_module": "@jupyter-widgets/base",
      "_view_module_version": "1.2.0",
      "_view_name": "StyleView",
      "description_width": ""
     }
    },
    "87c7fdb3310441d59d13fe8d397aef6b": {
     "model_module": "@jupyter-widgets/base",
     "model_module_version": "1.2.0",
     "model_name": "LayoutModel",
     "state": {
      "_model_module": "@jupyter-widgets/base",
      "_model_module_version": "1.2.0",
      "_model_name": "LayoutModel",
      "_view_count": null,
      "_view_module": "@jupyter-widgets/base",
      "_view_module_version": "1.2.0",
      "_view_name": "LayoutView",
      "align_content": null,
      "align_items": null,
      "align_self": null,
      "border": null,
      "bottom": null,
      "display": null,
      "flex": null,
      "flex_flow": null,
      "grid_area": null,
      "grid_auto_columns": null,
      "grid_auto_flow": null,
      "grid_auto_rows": null,
      "grid_column": null,
      "grid_gap": null,
      "grid_row": null,
      "grid_template_areas": null,
      "grid_template_columns": null,
      "grid_template_rows": null,
      "height": null,
      "justify_content": null,
      "justify_items": null,
      "left": null,
      "margin": null,
      "max_height": null,
      "max_width": null,
      "min_height": null,
      "min_width": null,
      "object_fit": null,
      "object_position": null,
      "order": null,
      "overflow": null,
      "overflow_x": null,
      "overflow_y": null,
      "padding": null,
      "right": null,
      "top": null,
      "visibility": null,
      "width": null
     }
    },
    "8af25da8e33c4bc99fec39edad5187e5": {
     "model_module": "@jupyter-widgets/controls",
     "model_module_version": "1.5.0",
     "model_name": "FloatProgressModel",
     "state": {
      "_dom_classes": [],
      "_model_module": "@jupyter-widgets/controls",
      "_model_module_version": "1.5.0",
      "_model_name": "FloatProgressModel",
      "_view_count": null,
      "_view_module": "@jupyter-widgets/controls",
      "_view_module_version": "1.5.0",
      "_view_name": "ProgressView",
      "bar_style": "success",
      "description": "",
      "description_tooltip": null,
      "layout": "IPY_MODEL_606489d2765c4869b0771d78af7ed227",
      "max": 227,
      "min": 0,
      "orientation": "horizontal",
      "style": "IPY_MODEL_e867369a68134f33b62aa07333f6f41c",
      "value": 227
     }
    },
    "96fcf2d810ac4cfb80ea921064c6e9a9": {
     "model_module": "@jupyter-widgets/controls",
     "model_module_version": "1.5.0",
     "model_name": "HTMLModel",
     "state": {
      "_dom_classes": [],
      "_model_module": "@jupyter-widgets/controls",
      "_model_module_version": "1.5.0",
      "_model_name": "HTMLModel",
      "_view_count": null,
      "_view_module": "@jupyter-widgets/controls",
      "_view_module_version": "1.5.0",
      "_view_name": "HTMLView",
      "description": "",
      "description_tooltip": null,
      "layout": "IPY_MODEL_1d883163317140619f277423f6fe14a2",
      "placeholder": "​",
      "style": "IPY_MODEL_f8ca9dd19d47430194664536210d8f89",
      "value": " 227/227 [01:38&lt;00:00,  2.06it/s]"
     }
    },
    "98205158803b4054bb553e5f46119a9a": {
     "model_module": "@jupyter-widgets/controls",
     "model_module_version": "1.5.0",
     "model_name": "ProgressStyleModel",
     "state": {
      "_model_module": "@jupyter-widgets/controls",
      "_model_module_version": "1.5.0",
      "_model_name": "ProgressStyleModel",
      "_view_count": null,
      "_view_module": "@jupyter-widgets/base",
      "_view_module_version": "1.2.0",
      "_view_name": "StyleView",
      "bar_color": null,
      "description_width": ""
     }
    },
    "987e02deda5741f29d0e3271c34c5c13": {
     "model_module": "@jupyter-widgets/base",
     "model_module_version": "1.2.0",
     "model_name": "LayoutModel",
     "state": {
      "_model_module": "@jupyter-widgets/base",
      "_model_module_version": "1.2.0",
      "_model_name": "LayoutModel",
      "_view_count": null,
      "_view_module": "@jupyter-widgets/base",
      "_view_module_version": "1.2.0",
      "_view_name": "LayoutView",
      "align_content": null,
      "align_items": null,
      "align_self": null,
      "border": null,
      "bottom": null,
      "display": null,
      "flex": null,
      "flex_flow": null,
      "grid_area": null,
      "grid_auto_columns": null,
      "grid_auto_flow": null,
      "grid_auto_rows": null,
      "grid_column": null,
      "grid_gap": null,
      "grid_row": null,
      "grid_template_areas": null,
      "grid_template_columns": null,
      "grid_template_rows": null,
      "height": null,
      "justify_content": null,
      "justify_items": null,
      "left": null,
      "margin": null,
      "max_height": null,
      "max_width": null,
      "min_height": null,
      "min_width": null,
      "object_fit": null,
      "object_position": null,
      "order": null,
      "overflow": null,
      "overflow_x": null,
      "overflow_y": null,
      "padding": null,
      "right": null,
      "top": null,
      "visibility": null,
      "width": null
     }
    },
    "9a593b72166c4a898ca4b7621b0779fc": {
     "model_module": "@jupyter-widgets/base",
     "model_module_version": "1.2.0",
     "model_name": "LayoutModel",
     "state": {
      "_model_module": "@jupyter-widgets/base",
      "_model_module_version": "1.2.0",
      "_model_name": "LayoutModel",
      "_view_count": null,
      "_view_module": "@jupyter-widgets/base",
      "_view_module_version": "1.2.0",
      "_view_name": "LayoutView",
      "align_content": null,
      "align_items": null,
      "align_self": null,
      "border": null,
      "bottom": null,
      "display": null,
      "flex": null,
      "flex_flow": null,
      "grid_area": null,
      "grid_auto_columns": null,
      "grid_auto_flow": null,
      "grid_auto_rows": null,
      "grid_column": null,
      "grid_gap": null,
      "grid_row": null,
      "grid_template_areas": null,
      "grid_template_columns": null,
      "grid_template_rows": null,
      "height": null,
      "justify_content": null,
      "justify_items": null,
      "left": null,
      "margin": null,
      "max_height": null,
      "max_width": null,
      "min_height": null,
      "min_width": null,
      "object_fit": null,
      "object_position": null,
      "order": null,
      "overflow": null,
      "overflow_x": null,
      "overflow_y": null,
      "padding": null,
      "right": null,
      "top": null,
      "visibility": null,
      "width": null
     }
    },
    "9dda637deb834009882378df9a5c071c": {
     "model_module": "@jupyter-widgets/controls",
     "model_module_version": "1.5.0",
     "model_name": "DescriptionStyleModel",
     "state": {
      "_model_module": "@jupyter-widgets/controls",
      "_model_module_version": "1.5.0",
      "_model_name": "DescriptionStyleModel",
      "_view_count": null,
      "_view_module": "@jupyter-widgets/base",
      "_view_module_version": "1.2.0",
      "_view_name": "StyleView",
      "description_width": ""
     }
    },
    "9e4d996a3bb748bfb0c00894efbe2df9": {
     "model_module": "@jupyter-widgets/controls",
     "model_module_version": "1.5.0",
     "model_name": "DescriptionStyleModel",
     "state": {
      "_model_module": "@jupyter-widgets/controls",
      "_model_module_version": "1.5.0",
      "_model_name": "DescriptionStyleModel",
      "_view_count": null,
      "_view_module": "@jupyter-widgets/base",
      "_view_module_version": "1.2.0",
      "_view_name": "StyleView",
      "description_width": ""
     }
    },
    "9eeb3ddcbfab43f08ae3418f340cf6dc": {
     "model_module": "@jupyter-widgets/controls",
     "model_module_version": "1.5.0",
     "model_name": "HBoxModel",
     "state": {
      "_dom_classes": [],
      "_model_module": "@jupyter-widgets/controls",
      "_model_module_version": "1.5.0",
      "_model_name": "HBoxModel",
      "_view_count": null,
      "_view_module": "@jupyter-widgets/controls",
      "_view_module_version": "1.5.0",
      "_view_name": "HBoxView",
      "box_style": "",
      "children": [
       "IPY_MODEL_1d727c0011f34f2a84a81d80432a293d",
       "IPY_MODEL_da2a8751ae4d419e89363658b74cd725",
       "IPY_MODEL_f4b52a2813e644aba8e69d0875891a73"
      ],
      "layout": "IPY_MODEL_d4c953e526fe4ca4b5a474114d95e65f"
     }
    },
    "a2c0d741a3014301addb69c250130e9c": {
     "model_module": "@jupyter-widgets/base",
     "model_module_version": "1.2.0",
     "model_name": "LayoutModel",
     "state": {
      "_model_module": "@jupyter-widgets/base",
      "_model_module_version": "1.2.0",
      "_model_name": "LayoutModel",
      "_view_count": null,
      "_view_module": "@jupyter-widgets/base",
      "_view_module_version": "1.2.0",
      "_view_name": "LayoutView",
      "align_content": null,
      "align_items": null,
      "align_self": null,
      "border": null,
      "bottom": null,
      "display": null,
      "flex": null,
      "flex_flow": null,
      "grid_area": null,
      "grid_auto_columns": null,
      "grid_auto_flow": null,
      "grid_auto_rows": null,
      "grid_column": null,
      "grid_gap": null,
      "grid_row": null,
      "grid_template_areas": null,
      "grid_template_columns": null,
      "grid_template_rows": null,
      "height": null,
      "justify_content": null,
      "justify_items": null,
      "left": null,
      "margin": null,
      "max_height": null,
      "max_width": null,
      "min_height": null,
      "min_width": null,
      "object_fit": null,
      "object_position": null,
      "order": null,
      "overflow": null,
      "overflow_x": null,
      "overflow_y": null,
      "padding": null,
      "right": null,
      "top": null,
      "visibility": null,
      "width": null
     }
    },
    "a5f99044b16b4ceaac0357a7afa5d410": {
     "model_module": "@jupyter-widgets/base",
     "model_module_version": "1.2.0",
     "model_name": "LayoutModel",
     "state": {
      "_model_module": "@jupyter-widgets/base",
      "_model_module_version": "1.2.0",
      "_model_name": "LayoutModel",
      "_view_count": null,
      "_view_module": "@jupyter-widgets/base",
      "_view_module_version": "1.2.0",
      "_view_name": "LayoutView",
      "align_content": null,
      "align_items": null,
      "align_self": null,
      "border": null,
      "bottom": null,
      "display": null,
      "flex": null,
      "flex_flow": null,
      "grid_area": null,
      "grid_auto_columns": null,
      "grid_auto_flow": null,
      "grid_auto_rows": null,
      "grid_column": null,
      "grid_gap": null,
      "grid_row": null,
      "grid_template_areas": null,
      "grid_template_columns": null,
      "grid_template_rows": null,
      "height": null,
      "justify_content": null,
      "justify_items": null,
      "left": null,
      "margin": null,
      "max_height": null,
      "max_width": null,
      "min_height": null,
      "min_width": null,
      "object_fit": null,
      "object_position": null,
      "order": null,
      "overflow": null,
      "overflow_x": null,
      "overflow_y": null,
      "padding": null,
      "right": null,
      "top": null,
      "visibility": null,
      "width": null
     }
    },
    "a6e0d43e491a44fcaf5dc44173b077c2": {
     "model_module": "@jupyter-widgets/controls",
     "model_module_version": "1.5.0",
     "model_name": "HTMLModel",
     "state": {
      "_dom_classes": [],
      "_model_module": "@jupyter-widgets/controls",
      "_model_module_version": "1.5.0",
      "_model_name": "HTMLModel",
      "_view_count": null,
      "_view_module": "@jupyter-widgets/controls",
      "_view_module_version": "1.5.0",
      "_view_name": "HTMLView",
      "description": "",
      "description_tooltip": null,
      "layout": "IPY_MODEL_b2243a2b1dcf4b1b8e9be8b240c3436b",
      "placeholder": "​",
      "style": "IPY_MODEL_ead98ca9fcee4472b4705319cab24d28",
      "value": "100%"
     }
    },
    "a784ba3f2f844d6ea2111a3629b2933a": {
     "model_module": "@jupyter-widgets/base",
     "model_module_version": "1.2.0",
     "model_name": "LayoutModel",
     "state": {
      "_model_module": "@jupyter-widgets/base",
      "_model_module_version": "1.2.0",
      "_model_name": "LayoutModel",
      "_view_count": null,
      "_view_module": "@jupyter-widgets/base",
      "_view_module_version": "1.2.0",
      "_view_name": "LayoutView",
      "align_content": null,
      "align_items": null,
      "align_self": null,
      "border": null,
      "bottom": null,
      "display": null,
      "flex": null,
      "flex_flow": null,
      "grid_area": null,
      "grid_auto_columns": null,
      "grid_auto_flow": null,
      "grid_auto_rows": null,
      "grid_column": null,
      "grid_gap": null,
      "grid_row": null,
      "grid_template_areas": null,
      "grid_template_columns": null,
      "grid_template_rows": null,
      "height": null,
      "justify_content": null,
      "justify_items": null,
      "left": null,
      "margin": null,
      "max_height": null,
      "max_width": null,
      "min_height": null,
      "min_width": null,
      "object_fit": null,
      "object_position": null,
      "order": null,
      "overflow": null,
      "overflow_x": null,
      "overflow_y": null,
      "padding": null,
      "right": null,
      "top": null,
      "visibility": null,
      "width": null
     }
    },
    "a7e6fb8c715340548e75e908c085e257": {
     "model_module": "@jupyter-widgets/controls",
     "model_module_version": "1.5.0",
     "model_name": "HTMLModel",
     "state": {
      "_dom_classes": [],
      "_model_module": "@jupyter-widgets/controls",
      "_model_module_version": "1.5.0",
      "_model_name": "HTMLModel",
      "_view_count": null,
      "_view_module": "@jupyter-widgets/controls",
      "_view_module_version": "1.5.0",
      "_view_name": "HTMLView",
      "description": "",
      "description_tooltip": null,
      "layout": "IPY_MODEL_b5c0e02fcb164d03a71bd6b73d3e2986",
      "placeholder": "​",
      "style": "IPY_MODEL_5583b0f4b58d427b9bff937efb9f1633",
      "value": "100%"
     }
    },
    "a98723347bb34a458dec2100d7510423": {
     "model_module": "@jupyter-widgets/base",
     "model_module_version": "1.2.0",
     "model_name": "LayoutModel",
     "state": {
      "_model_module": "@jupyter-widgets/base",
      "_model_module_version": "1.2.0",
      "_model_name": "LayoutModel",
      "_view_count": null,
      "_view_module": "@jupyter-widgets/base",
      "_view_module_version": "1.2.0",
      "_view_name": "LayoutView",
      "align_content": null,
      "align_items": null,
      "align_self": null,
      "border": null,
      "bottom": null,
      "display": null,
      "flex": null,
      "flex_flow": null,
      "grid_area": null,
      "grid_auto_columns": null,
      "grid_auto_flow": null,
      "grid_auto_rows": null,
      "grid_column": null,
      "grid_gap": null,
      "grid_row": null,
      "grid_template_areas": null,
      "grid_template_columns": null,
      "grid_template_rows": null,
      "height": null,
      "justify_content": null,
      "justify_items": null,
      "left": null,
      "margin": null,
      "max_height": null,
      "max_width": null,
      "min_height": null,
      "min_width": null,
      "object_fit": null,
      "object_position": null,
      "order": null,
      "overflow": null,
      "overflow_x": null,
      "overflow_y": null,
      "padding": null,
      "right": null,
      "top": null,
      "visibility": null,
      "width": null
     }
    },
    "ac9246727ae74a8a9eb56da1c80a06c9": {
     "model_module": "@jupyter-widgets/base",
     "model_module_version": "1.2.0",
     "model_name": "LayoutModel",
     "state": {
      "_model_module": "@jupyter-widgets/base",
      "_model_module_version": "1.2.0",
      "_model_name": "LayoutModel",
      "_view_count": null,
      "_view_module": "@jupyter-widgets/base",
      "_view_module_version": "1.2.0",
      "_view_name": "LayoutView",
      "align_content": null,
      "align_items": null,
      "align_self": null,
      "border": null,
      "bottom": null,
      "display": null,
      "flex": null,
      "flex_flow": null,
      "grid_area": null,
      "grid_auto_columns": null,
      "grid_auto_flow": null,
      "grid_auto_rows": null,
      "grid_column": null,
      "grid_gap": null,
      "grid_row": null,
      "grid_template_areas": null,
      "grid_template_columns": null,
      "grid_template_rows": null,
      "height": null,
      "justify_content": null,
      "justify_items": null,
      "left": null,
      "margin": null,
      "max_height": null,
      "max_width": null,
      "min_height": null,
      "min_width": null,
      "object_fit": null,
      "object_position": null,
      "order": null,
      "overflow": null,
      "overflow_x": null,
      "overflow_y": null,
      "padding": null,
      "right": null,
      "top": null,
      "visibility": null,
      "width": null
     }
    },
    "acc95f5ffad24c1bbeceebfa6f1853d2": {
     "model_module": "@jupyter-widgets/controls",
     "model_module_version": "1.5.0",
     "model_name": "FloatProgressModel",
     "state": {
      "_dom_classes": [],
      "_model_module": "@jupyter-widgets/controls",
      "_model_module_version": "1.5.0",
      "_model_name": "FloatProgressModel",
      "_view_count": null,
      "_view_module": "@jupyter-widgets/controls",
      "_view_module_version": "1.5.0",
      "_view_name": "ProgressView",
      "bar_style": "success",
      "description": "",
      "description_tooltip": null,
      "layout": "IPY_MODEL_87c7fdb3310441d59d13fe8d397aef6b",
      "max": 227,
      "min": 0,
      "orientation": "horizontal",
      "style": "IPY_MODEL_7da74b3d1440473ca8ea78a38f0c2e8e",
      "value": 227
     }
    },
    "acd9def64d154414a624cb44d0cd8912": {
     "model_module": "@jupyter-widgets/controls",
     "model_module_version": "1.5.0",
     "model_name": "HTMLModel",
     "state": {
      "_dom_classes": [],
      "_model_module": "@jupyter-widgets/controls",
      "_model_module_version": "1.5.0",
      "_model_name": "HTMLModel",
      "_view_count": null,
      "_view_module": "@jupyter-widgets/controls",
      "_view_module_version": "1.5.0",
      "_view_name": "HTMLView",
      "description": "",
      "description_tooltip": null,
      "layout": "IPY_MODEL_d9c117eaa3e146b9a5b07496f1bcd9f6",
      "placeholder": "​",
      "style": "IPY_MODEL_87af9a7a125748029dfe593c96cf465f",
      "value": " 227/227 [01:37&lt;00:00,  2.20it/s]"
     }
    },
    "ad937f7ab3cd452e8fe1b007996eb34c": {
     "model_module": "@jupyter-widgets/controls",
     "model_module_version": "1.5.0",
     "model_name": "HBoxModel",
     "state": {
      "_dom_classes": [],
      "_model_module": "@jupyter-widgets/controls",
      "_model_module_version": "1.5.0",
      "_model_name": "HBoxModel",
      "_view_count": null,
      "_view_module": "@jupyter-widgets/controls",
      "_view_module_version": "1.5.0",
      "_view_name": "HBoxView",
      "box_style": "",
      "children": [
       "IPY_MODEL_4ceccd052d164ca6ab29904b30a1d8c8",
       "IPY_MODEL_69b303bd5d7347339cd3c93ba4ff6645",
       "IPY_MODEL_542aedc743e24123a0249faf0a362d0d"
      ],
      "layout": "IPY_MODEL_272fa8f6b49545d79112be86e48cc0c4"
     }
    },
    "af24b05a80e847a39a3635669d358934": {
     "model_module": "@jupyter-widgets/controls",
     "model_module_version": "1.5.0",
     "model_name": "FloatProgressModel",
     "state": {
      "_dom_classes": [],
      "_model_module": "@jupyter-widgets/controls",
      "_model_module_version": "1.5.0",
      "_model_name": "FloatProgressModel",
      "_view_count": null,
      "_view_module": "@jupyter-widgets/controls",
      "_view_module_version": "1.5.0",
      "_view_name": "ProgressView",
      "bar_style": "success",
      "description": "",
      "description_tooltip": null,
      "layout": "IPY_MODEL_1f08689d3b8b4a4089ffc6a0ce3f3941",
      "max": 227,
      "min": 0,
      "orientation": "horizontal",
      "style": "IPY_MODEL_c99982ddfda1403eab9def93315493bb",
      "value": 227
     }
    },
    "b08701e8041c497eaae9dc1bbda313aa": {
     "model_module": "@jupyter-widgets/controls",
     "model_module_version": "1.5.0",
     "model_name": "DescriptionStyleModel",
     "state": {
      "_model_module": "@jupyter-widgets/controls",
      "_model_module_version": "1.5.0",
      "_model_name": "DescriptionStyleModel",
      "_view_count": null,
      "_view_module": "@jupyter-widgets/base",
      "_view_module_version": "1.2.0",
      "_view_name": "StyleView",
      "description_width": ""
     }
    },
    "b2243a2b1dcf4b1b8e9be8b240c3436b": {
     "model_module": "@jupyter-widgets/base",
     "model_module_version": "1.2.0",
     "model_name": "LayoutModel",
     "state": {
      "_model_module": "@jupyter-widgets/base",
      "_model_module_version": "1.2.0",
      "_model_name": "LayoutModel",
      "_view_count": null,
      "_view_module": "@jupyter-widgets/base",
      "_view_module_version": "1.2.0",
      "_view_name": "LayoutView",
      "align_content": null,
      "align_items": null,
      "align_self": null,
      "border": null,
      "bottom": null,
      "display": null,
      "flex": null,
      "flex_flow": null,
      "grid_area": null,
      "grid_auto_columns": null,
      "grid_auto_flow": null,
      "grid_auto_rows": null,
      "grid_column": null,
      "grid_gap": null,
      "grid_row": null,
      "grid_template_areas": null,
      "grid_template_columns": null,
      "grid_template_rows": null,
      "height": null,
      "justify_content": null,
      "justify_items": null,
      "left": null,
      "margin": null,
      "max_height": null,
      "max_width": null,
      "min_height": null,
      "min_width": null,
      "object_fit": null,
      "object_position": null,
      "order": null,
      "overflow": null,
      "overflow_x": null,
      "overflow_y": null,
      "padding": null,
      "right": null,
      "top": null,
      "visibility": null,
      "width": null
     }
    },
    "b5c0e02fcb164d03a71bd6b73d3e2986": {
     "model_module": "@jupyter-widgets/base",
     "model_module_version": "1.2.0",
     "model_name": "LayoutModel",
     "state": {
      "_model_module": "@jupyter-widgets/base",
      "_model_module_version": "1.2.0",
      "_model_name": "LayoutModel",
      "_view_count": null,
      "_view_module": "@jupyter-widgets/base",
      "_view_module_version": "1.2.0",
      "_view_name": "LayoutView",
      "align_content": null,
      "align_items": null,
      "align_self": null,
      "border": null,
      "bottom": null,
      "display": null,
      "flex": null,
      "flex_flow": null,
      "grid_area": null,
      "grid_auto_columns": null,
      "grid_auto_flow": null,
      "grid_auto_rows": null,
      "grid_column": null,
      "grid_gap": null,
      "grid_row": null,
      "grid_template_areas": null,
      "grid_template_columns": null,
      "grid_template_rows": null,
      "height": null,
      "justify_content": null,
      "justify_items": null,
      "left": null,
      "margin": null,
      "max_height": null,
      "max_width": null,
      "min_height": null,
      "min_width": null,
      "object_fit": null,
      "object_position": null,
      "order": null,
      "overflow": null,
      "overflow_x": null,
      "overflow_y": null,
      "padding": null,
      "right": null,
      "top": null,
      "visibility": null,
      "width": null
     }
    },
    "b747536a69114cde8ffd72ef24d53fd7": {
     "model_module": "@jupyter-widgets/controls",
     "model_module_version": "1.5.0",
     "model_name": "DescriptionStyleModel",
     "state": {
      "_model_module": "@jupyter-widgets/controls",
      "_model_module_version": "1.5.0",
      "_model_name": "DescriptionStyleModel",
      "_view_count": null,
      "_view_module": "@jupyter-widgets/base",
      "_view_module_version": "1.2.0",
      "_view_name": "StyleView",
      "description_width": ""
     }
    },
    "baa75e8fbe474589af15d983d1438128": {
     "model_module": "@jupyter-widgets/base",
     "model_module_version": "1.2.0",
     "model_name": "LayoutModel",
     "state": {
      "_model_module": "@jupyter-widgets/base",
      "_model_module_version": "1.2.0",
      "_model_name": "LayoutModel",
      "_view_count": null,
      "_view_module": "@jupyter-widgets/base",
      "_view_module_version": "1.2.0",
      "_view_name": "LayoutView",
      "align_content": null,
      "align_items": null,
      "align_self": null,
      "border": null,
      "bottom": null,
      "display": null,
      "flex": null,
      "flex_flow": null,
      "grid_area": null,
      "grid_auto_columns": null,
      "grid_auto_flow": null,
      "grid_auto_rows": null,
      "grid_column": null,
      "grid_gap": null,
      "grid_row": null,
      "grid_template_areas": null,
      "grid_template_columns": null,
      "grid_template_rows": null,
      "height": null,
      "justify_content": null,
      "justify_items": null,
      "left": null,
      "margin": null,
      "max_height": null,
      "max_width": null,
      "min_height": null,
      "min_width": null,
      "object_fit": null,
      "object_position": null,
      "order": null,
      "overflow": null,
      "overflow_x": null,
      "overflow_y": null,
      "padding": null,
      "right": null,
      "top": null,
      "visibility": null,
      "width": null
     }
    },
    "c2438b9f2c724eae9e22e42da98197af": {
     "model_module": "@jupyter-widgets/controls",
     "model_module_version": "1.5.0",
     "model_name": "HBoxModel",
     "state": {
      "_dom_classes": [],
      "_model_module": "@jupyter-widgets/controls",
      "_model_module_version": "1.5.0",
      "_model_name": "HBoxModel",
      "_view_count": null,
      "_view_module": "@jupyter-widgets/controls",
      "_view_module_version": "1.5.0",
      "_view_name": "HBoxView",
      "box_style": "",
      "children": [
       "IPY_MODEL_061ea117d5574419af7332d6ba4369b1",
       "IPY_MODEL_af24b05a80e847a39a3635669d358934",
       "IPY_MODEL_96fcf2d810ac4cfb80ea921064c6e9a9"
      ],
      "layout": "IPY_MODEL_7c6fc5337a58430085e1c43f9be8a525"
     }
    },
    "c5aaaa6b886d471cb847e20d70f61403": {
     "model_module": "@jupyter-widgets/controls",
     "model_module_version": "1.5.0",
     "model_name": "HBoxModel",
     "state": {
      "_dom_classes": [],
      "_model_module": "@jupyter-widgets/controls",
      "_model_module_version": "1.5.0",
      "_model_name": "HBoxModel",
      "_view_count": null,
      "_view_module": "@jupyter-widgets/controls",
      "_view_module_version": "1.5.0",
      "_view_name": "HBoxView",
      "box_style": "",
      "children": [
       "IPY_MODEL_a7e6fb8c715340548e75e908c085e257",
       "IPY_MODEL_acc95f5ffad24c1bbeceebfa6f1853d2",
       "IPY_MODEL_2774b3c9a1bf4cd683ca0dd29a74ae8a"
      ],
      "layout": "IPY_MODEL_baa75e8fbe474589af15d983d1438128"
     }
    },
    "c75124d2502546088b7e922a087d9282": {
     "model_module": "@jupyter-widgets/controls",
     "model_module_version": "1.5.0",
     "model_name": "HTMLModel",
     "state": {
      "_dom_classes": [],
      "_model_module": "@jupyter-widgets/controls",
      "_model_module_version": "1.5.0",
      "_model_name": "HTMLModel",
      "_view_count": null,
      "_view_module": "@jupyter-widgets/controls",
      "_view_module_version": "1.5.0",
      "_view_name": "HTMLView",
      "description": "",
      "description_tooltip": null,
      "layout": "IPY_MODEL_6146a60355594d44bf6937bdaa443a36",
      "placeholder": "​",
      "style": "IPY_MODEL_5ceb45bd119b4d3484e2eb7d8868f05d",
      "value": " 227/227 [01:38&lt;00:00,  2.38it/s]"
     }
    },
    "c99982ddfda1403eab9def93315493bb": {
     "model_module": "@jupyter-widgets/controls",
     "model_module_version": "1.5.0",
     "model_name": "ProgressStyleModel",
     "state": {
      "_model_module": "@jupyter-widgets/controls",
      "_model_module_version": "1.5.0",
      "_model_name": "ProgressStyleModel",
      "_view_count": null,
      "_view_module": "@jupyter-widgets/base",
      "_view_module_version": "1.2.0",
      "_view_name": "StyleView",
      "bar_color": null,
      "description_width": ""
     }
    },
    "ca403e1ee22840ddac6dcf36e00f9302": {
     "model_module": "@jupyter-widgets/controls",
     "model_module_version": "1.5.0",
     "model_name": "HTMLModel",
     "state": {
      "_dom_classes": [],
      "_model_module": "@jupyter-widgets/controls",
      "_model_module_version": "1.5.0",
      "_model_name": "HTMLModel",
      "_view_count": null,
      "_view_module": "@jupyter-widgets/controls",
      "_view_module_version": "1.5.0",
      "_view_name": "HTMLView",
      "description": "",
      "description_tooltip": null,
      "layout": "IPY_MODEL_a2c0d741a3014301addb69c250130e9c",
      "placeholder": "​",
      "style": "IPY_MODEL_05ffc51bcf4244f4964e5fa31e2422fa",
      "value": " 227/227 [01:37&lt;00:00,  2.44it/s]"
     }
    },
    "cf11684bd11a45258166fb93059b6afa": {
     "model_module": "@jupyter-widgets/base",
     "model_module_version": "1.2.0",
     "model_name": "LayoutModel",
     "state": {
      "_model_module": "@jupyter-widgets/base",
      "_model_module_version": "1.2.0",
      "_model_name": "LayoutModel",
      "_view_count": null,
      "_view_module": "@jupyter-widgets/base",
      "_view_module_version": "1.2.0",
      "_view_name": "LayoutView",
      "align_content": null,
      "align_items": null,
      "align_self": null,
      "border": null,
      "bottom": null,
      "display": null,
      "flex": null,
      "flex_flow": null,
      "grid_area": null,
      "grid_auto_columns": null,
      "grid_auto_flow": null,
      "grid_auto_rows": null,
      "grid_column": null,
      "grid_gap": null,
      "grid_row": null,
      "grid_template_areas": null,
      "grid_template_columns": null,
      "grid_template_rows": null,
      "height": null,
      "justify_content": null,
      "justify_items": null,
      "left": null,
      "margin": null,
      "max_height": null,
      "max_width": null,
      "min_height": null,
      "min_width": null,
      "object_fit": null,
      "object_position": null,
      "order": null,
      "overflow": null,
      "overflow_x": null,
      "overflow_y": null,
      "padding": null,
      "right": null,
      "top": null,
      "visibility": null,
      "width": null
     }
    },
    "d4c953e526fe4ca4b5a474114d95e65f": {
     "model_module": "@jupyter-widgets/base",
     "model_module_version": "1.2.0",
     "model_name": "LayoutModel",
     "state": {
      "_model_module": "@jupyter-widgets/base",
      "_model_module_version": "1.2.0",
      "_model_name": "LayoutModel",
      "_view_count": null,
      "_view_module": "@jupyter-widgets/base",
      "_view_module_version": "1.2.0",
      "_view_name": "LayoutView",
      "align_content": null,
      "align_items": null,
      "align_self": null,
      "border": null,
      "bottom": null,
      "display": null,
      "flex": null,
      "flex_flow": null,
      "grid_area": null,
      "grid_auto_columns": null,
      "grid_auto_flow": null,
      "grid_auto_rows": null,
      "grid_column": null,
      "grid_gap": null,
      "grid_row": null,
      "grid_template_areas": null,
      "grid_template_columns": null,
      "grid_template_rows": null,
      "height": null,
      "justify_content": null,
      "justify_items": null,
      "left": null,
      "margin": null,
      "max_height": null,
      "max_width": null,
      "min_height": null,
      "min_width": null,
      "object_fit": null,
      "object_position": null,
      "order": null,
      "overflow": null,
      "overflow_x": null,
      "overflow_y": null,
      "padding": null,
      "right": null,
      "top": null,
      "visibility": null,
      "width": null
     }
    },
    "d9c117eaa3e146b9a5b07496f1bcd9f6": {
     "model_module": "@jupyter-widgets/base",
     "model_module_version": "1.2.0",
     "model_name": "LayoutModel",
     "state": {
      "_model_module": "@jupyter-widgets/base",
      "_model_module_version": "1.2.0",
      "_model_name": "LayoutModel",
      "_view_count": null,
      "_view_module": "@jupyter-widgets/base",
      "_view_module_version": "1.2.0",
      "_view_name": "LayoutView",
      "align_content": null,
      "align_items": null,
      "align_self": null,
      "border": null,
      "bottom": null,
      "display": null,
      "flex": null,
      "flex_flow": null,
      "grid_area": null,
      "grid_auto_columns": null,
      "grid_auto_flow": null,
      "grid_auto_rows": null,
      "grid_column": null,
      "grid_gap": null,
      "grid_row": null,
      "grid_template_areas": null,
      "grid_template_columns": null,
      "grid_template_rows": null,
      "height": null,
      "justify_content": null,
      "justify_items": null,
      "left": null,
      "margin": null,
      "max_height": null,
      "max_width": null,
      "min_height": null,
      "min_width": null,
      "object_fit": null,
      "object_position": null,
      "order": null,
      "overflow": null,
      "overflow_x": null,
      "overflow_y": null,
      "padding": null,
      "right": null,
      "top": null,
      "visibility": null,
      "width": null
     }
    },
    "da2a8751ae4d419e89363658b74cd725": {
     "model_module": "@jupyter-widgets/controls",
     "model_module_version": "1.5.0",
     "model_name": "FloatProgressModel",
     "state": {
      "_dom_classes": [],
      "_model_module": "@jupyter-widgets/controls",
      "_model_module_version": "1.5.0",
      "_model_name": "FloatProgressModel",
      "_view_count": null,
      "_view_module": "@jupyter-widgets/controls",
      "_view_module_version": "1.5.0",
      "_view_name": "ProgressView",
      "bar_style": "success",
      "description": "",
      "description_tooltip": null,
      "layout": "IPY_MODEL_44c4631aeb434404a199170df6c2f055",
      "max": 227,
      "min": 0,
      "orientation": "horizontal",
      "style": "IPY_MODEL_25fc168d516048adb3d3243ded188709",
      "value": 227
     }
    },
    "dcfeea26ca344082a8477512fd2086f1": {
     "model_module": "@jupyter-widgets/base",
     "model_module_version": "1.2.0",
     "model_name": "LayoutModel",
     "state": {
      "_model_module": "@jupyter-widgets/base",
      "_model_module_version": "1.2.0",
      "_model_name": "LayoutModel",
      "_view_count": null,
      "_view_module": "@jupyter-widgets/base",
      "_view_module_version": "1.2.0",
      "_view_name": "LayoutView",
      "align_content": null,
      "align_items": null,
      "align_self": null,
      "border": null,
      "bottom": null,
      "display": null,
      "flex": null,
      "flex_flow": null,
      "grid_area": null,
      "grid_auto_columns": null,
      "grid_auto_flow": null,
      "grid_auto_rows": null,
      "grid_column": null,
      "grid_gap": null,
      "grid_row": null,
      "grid_template_areas": null,
      "grid_template_columns": null,
      "grid_template_rows": null,
      "height": null,
      "justify_content": null,
      "justify_items": null,
      "left": null,
      "margin": null,
      "max_height": null,
      "max_width": null,
      "min_height": null,
      "min_width": null,
      "object_fit": null,
      "object_position": null,
      "order": null,
      "overflow": null,
      "overflow_x": null,
      "overflow_y": null,
      "padding": null,
      "right": null,
      "top": null,
      "visibility": null,
      "width": null
     }
    },
    "de4cdb9938744d62a94e4569c75dfc22": {
     "model_module": "@jupyter-widgets/controls",
     "model_module_version": "1.5.0",
     "model_name": "HBoxModel",
     "state": {
      "_dom_classes": [],
      "_model_module": "@jupyter-widgets/controls",
      "_model_module_version": "1.5.0",
      "_model_name": "HBoxModel",
      "_view_count": null,
      "_view_module": "@jupyter-widgets/controls",
      "_view_module_version": "1.5.0",
      "_view_name": "HBoxView",
      "box_style": "",
      "children": [
       "IPY_MODEL_622c59decf5544cdb40a28f71c7d6f2c",
       "IPY_MODEL_1b9451157d30415f9271ca940fc1b2c8",
       "IPY_MODEL_c75124d2502546088b7e922a087d9282"
      ],
      "layout": "IPY_MODEL_3d747d1c1a3e4470a805637218849530"
     }
    },
    "debc473c582746e0a12b1cae2ad43577": {
     "model_module": "@jupyter-widgets/controls",
     "model_module_version": "1.5.0",
     "model_name": "HTMLModel",
     "state": {
      "_dom_classes": [],
      "_model_module": "@jupyter-widgets/controls",
      "_model_module_version": "1.5.0",
      "_model_name": "HTMLModel",
      "_view_count": null,
      "_view_module": "@jupyter-widgets/controls",
      "_view_module_version": "1.5.0",
      "_view_name": "HTMLView",
      "description": "",
      "description_tooltip": null,
      "layout": "IPY_MODEL_f6866d7791f24c82a66cf39f3755e228",
      "placeholder": "​",
      "style": "IPY_MODEL_9e4d996a3bb748bfb0c00894efbe2df9",
      "value": " 227/227 [01:37&lt;00:00,  2.32it/s]"
     }
    },
    "e24ff3462452453ba594fec663951390": {
     "model_module": "@jupyter-widgets/controls",
     "model_module_version": "1.5.0",
     "model_name": "DescriptionStyleModel",
     "state": {
      "_model_module": "@jupyter-widgets/controls",
      "_model_module_version": "1.5.0",
      "_model_name": "DescriptionStyleModel",
      "_view_count": null,
      "_view_module": "@jupyter-widgets/base",
      "_view_module_version": "1.2.0",
      "_view_name": "StyleView",
      "description_width": ""
     }
    },
    "e2efc9bd7ae7402b9e9f0c96658951fb": {
     "model_module": "@jupyter-widgets/controls",
     "model_module_version": "1.5.0",
     "model_name": "ProgressStyleModel",
     "state": {
      "_model_module": "@jupyter-widgets/controls",
      "_model_module_version": "1.5.0",
      "_model_name": "ProgressStyleModel",
      "_view_count": null,
      "_view_module": "@jupyter-widgets/base",
      "_view_module_version": "1.2.0",
      "_view_name": "StyleView",
      "bar_color": null,
      "description_width": ""
     }
    },
    "e3363ed3f778412490e010a7e47ef055": {
     "model_module": "@jupyter-widgets/controls",
     "model_module_version": "1.5.0",
     "model_name": "HTMLModel",
     "state": {
      "_dom_classes": [],
      "_model_module": "@jupyter-widgets/controls",
      "_model_module_version": "1.5.0",
      "_model_name": "HTMLModel",
      "_view_count": null,
      "_view_module": "@jupyter-widgets/controls",
      "_view_module_version": "1.5.0",
      "_view_name": "HTMLView",
      "description": "",
      "description_tooltip": null,
      "layout": "IPY_MODEL_0e4eebf6c3444fd0872a232762061f75",
      "placeholder": "​",
      "style": "IPY_MODEL_4ad73db8a08f4b86af6f2b1a7e27be40",
      "value": "100%"
     }
    },
    "e867369a68134f33b62aa07333f6f41c": {
     "model_module": "@jupyter-widgets/controls",
     "model_module_version": "1.5.0",
     "model_name": "ProgressStyleModel",
     "state": {
      "_model_module": "@jupyter-widgets/controls",
      "_model_module_version": "1.5.0",
      "_model_name": "ProgressStyleModel",
      "_view_count": null,
      "_view_module": "@jupyter-widgets/base",
      "_view_module_version": "1.2.0",
      "_view_name": "StyleView",
      "bar_color": null,
      "description_width": ""
     }
    },
    "ead98ca9fcee4472b4705319cab24d28": {
     "model_module": "@jupyter-widgets/controls",
     "model_module_version": "1.5.0",
     "model_name": "DescriptionStyleModel",
     "state": {
      "_model_module": "@jupyter-widgets/controls",
      "_model_module_version": "1.5.0",
      "_model_name": "DescriptionStyleModel",
      "_view_count": null,
      "_view_module": "@jupyter-widgets/base",
      "_view_module_version": "1.2.0",
      "_view_name": "StyleView",
      "description_width": ""
     }
    },
    "f4b52a2813e644aba8e69d0875891a73": {
     "model_module": "@jupyter-widgets/controls",
     "model_module_version": "1.5.0",
     "model_name": "HTMLModel",
     "state": {
      "_dom_classes": [],
      "_model_module": "@jupyter-widgets/controls",
      "_model_module_version": "1.5.0",
      "_model_name": "HTMLModel",
      "_view_count": null,
      "_view_module": "@jupyter-widgets/controls",
      "_view_module_version": "1.5.0",
      "_view_name": "HTMLView",
      "description": "",
      "description_tooltip": null,
      "layout": "IPY_MODEL_70623dc4e9cf40bdb027fa24a03bd644",
      "placeholder": "​",
      "style": "IPY_MODEL_b08701e8041c497eaae9dc1bbda313aa",
      "value": " 227/227 [01:37&lt;00:00,  2.32it/s]"
     }
    },
    "f59d43a8f1a748488eb253ca9905b1e9": {
     "model_module": "@jupyter-widgets/base",
     "model_module_version": "1.2.0",
     "model_name": "LayoutModel",
     "state": {
      "_model_module": "@jupyter-widgets/base",
      "_model_module_version": "1.2.0",
      "_model_name": "LayoutModel",
      "_view_count": null,
      "_view_module": "@jupyter-widgets/base",
      "_view_module_version": "1.2.0",
      "_view_name": "LayoutView",
      "align_content": null,
      "align_items": null,
      "align_self": null,
      "border": null,
      "bottom": null,
      "display": null,
      "flex": null,
      "flex_flow": null,
      "grid_area": null,
      "grid_auto_columns": null,
      "grid_auto_flow": null,
      "grid_auto_rows": null,
      "grid_column": null,
      "grid_gap": null,
      "grid_row": null,
      "grid_template_areas": null,
      "grid_template_columns": null,
      "grid_template_rows": null,
      "height": null,
      "justify_content": null,
      "justify_items": null,
      "left": null,
      "margin": null,
      "max_height": null,
      "max_width": null,
      "min_height": null,
      "min_width": null,
      "object_fit": null,
      "object_position": null,
      "order": null,
      "overflow": null,
      "overflow_x": null,
      "overflow_y": null,
      "padding": null,
      "right": null,
      "top": null,
      "visibility": null,
      "width": null
     }
    },
    "f65e949515ae4d56bc79bf25e25c1620": {
     "model_module": "@jupyter-widgets/controls",
     "model_module_version": "1.5.0",
     "model_name": "DescriptionStyleModel",
     "state": {
      "_model_module": "@jupyter-widgets/controls",
      "_model_module_version": "1.5.0",
      "_model_name": "DescriptionStyleModel",
      "_view_count": null,
      "_view_module": "@jupyter-widgets/base",
      "_view_module_version": "1.2.0",
      "_view_name": "StyleView",
      "description_width": ""
     }
    },
    "f6866d7791f24c82a66cf39f3755e228": {
     "model_module": "@jupyter-widgets/base",
     "model_module_version": "1.2.0",
     "model_name": "LayoutModel",
     "state": {
      "_model_module": "@jupyter-widgets/base",
      "_model_module_version": "1.2.0",
      "_model_name": "LayoutModel",
      "_view_count": null,
      "_view_module": "@jupyter-widgets/base",
      "_view_module_version": "1.2.0",
      "_view_name": "LayoutView",
      "align_content": null,
      "align_items": null,
      "align_self": null,
      "border": null,
      "bottom": null,
      "display": null,
      "flex": null,
      "flex_flow": null,
      "grid_area": null,
      "grid_auto_columns": null,
      "grid_auto_flow": null,
      "grid_auto_rows": null,
      "grid_column": null,
      "grid_gap": null,
      "grid_row": null,
      "grid_template_areas": null,
      "grid_template_columns": null,
      "grid_template_rows": null,
      "height": null,
      "justify_content": null,
      "justify_items": null,
      "left": null,
      "margin": null,
      "max_height": null,
      "max_width": null,
      "min_height": null,
      "min_width": null,
      "object_fit": null,
      "object_position": null,
      "order": null,
      "overflow": null,
      "overflow_x": null,
      "overflow_y": null,
      "padding": null,
      "right": null,
      "top": null,
      "visibility": null,
      "width": null
     }
    },
    "f8ca9dd19d47430194664536210d8f89": {
     "model_module": "@jupyter-widgets/controls",
     "model_module_version": "1.5.0",
     "model_name": "DescriptionStyleModel",
     "state": {
      "_model_module": "@jupyter-widgets/controls",
      "_model_module_version": "1.5.0",
      "_model_name": "DescriptionStyleModel",
      "_view_count": null,
      "_view_module": "@jupyter-widgets/base",
      "_view_module_version": "1.2.0",
      "_view_name": "StyleView",
      "description_width": ""
     }
    },
    "fa1169be9a9942308e3c55e1009e2c27": {
     "model_module": "@jupyter-widgets/controls",
     "model_module_version": "1.5.0",
     "model_name": "DescriptionStyleModel",
     "state": {
      "_model_module": "@jupyter-widgets/controls",
      "_model_module_version": "1.5.0",
      "_model_name": "DescriptionStyleModel",
      "_view_count": null,
      "_view_module": "@jupyter-widgets/base",
      "_view_module_version": "1.2.0",
      "_view_name": "StyleView",
      "description_width": ""
     }
    },
    "fb565b2d0bbe473593eda6126354105a": {
     "model_module": "@jupyter-widgets/controls",
     "model_module_version": "1.5.0",
     "model_name": "HBoxModel",
     "state": {
      "_dom_classes": [],
      "_model_module": "@jupyter-widgets/controls",
      "_model_module_version": "1.5.0",
      "_model_name": "HBoxModel",
      "_view_count": null,
      "_view_module": "@jupyter-widgets/controls",
      "_view_module_version": "1.5.0",
      "_view_name": "HBoxView",
      "box_style": "",
      "children": [
       "IPY_MODEL_e3363ed3f778412490e010a7e47ef055",
       "IPY_MODEL_8af25da8e33c4bc99fec39edad5187e5",
       "IPY_MODEL_6e957c71ede44b899f051201b8a9055d"
      ],
      "layout": "IPY_MODEL_2c8c4a301e794986826832396d092a15"
     }
    },
    "fbc5678de09743f69b3b9832cf4b3048": {
     "model_module": "@jupyter-widgets/controls",
     "model_module_version": "1.5.0",
     "model_name": "HBoxModel",
     "state": {
      "_dom_classes": [],
      "_model_module": "@jupyter-widgets/controls",
      "_model_module_version": "1.5.0",
      "_model_name": "HBoxModel",
      "_view_count": null,
      "_view_module": "@jupyter-widgets/controls",
      "_view_module_version": "1.5.0",
      "_view_name": "HBoxView",
      "box_style": "",
      "children": [
       "IPY_MODEL_399c7e1f846644788068596faf774008",
       "IPY_MODEL_2cd6032423d84f8da80038611a3cb3e1",
       "IPY_MODEL_ca403e1ee22840ddac6dcf36e00f9302"
      ],
      "layout": "IPY_MODEL_31e5f42356a1468a9712149290593c87"
     }
    },
    "fd8d51ab693f46eba5b49dcbeedb3eb8": {
     "model_module": "@jupyter-widgets/base",
     "model_module_version": "1.2.0",
     "model_name": "LayoutModel",
     "state": {
      "_model_module": "@jupyter-widgets/base",
      "_model_module_version": "1.2.0",
      "_model_name": "LayoutModel",
      "_view_count": null,
      "_view_module": "@jupyter-widgets/base",
      "_view_module_version": "1.2.0",
      "_view_name": "LayoutView",
      "align_content": null,
      "align_items": null,
      "align_self": null,
      "border": null,
      "bottom": null,
      "display": null,
      "flex": null,
      "flex_flow": null,
      "grid_area": null,
      "grid_auto_columns": null,
      "grid_auto_flow": null,
      "grid_auto_rows": null,
      "grid_column": null,
      "grid_gap": null,
      "grid_row": null,
      "grid_template_areas": null,
      "grid_template_columns": null,
      "grid_template_rows": null,
      "height": null,
      "justify_content": null,
      "justify_items": null,
      "left": null,
      "margin": null,
      "max_height": null,
      "max_width": null,
      "min_height": null,
      "min_width": null,
      "object_fit": null,
      "object_position": null,
      "order": null,
      "overflow": null,
      "overflow_x": null,
      "overflow_y": null,
      "padding": null,
      "right": null,
      "top": null,
      "visibility": null,
      "width": null
     }
    }
   }
  }
 },
 "nbformat": 4,
 "nbformat_minor": 1
}
