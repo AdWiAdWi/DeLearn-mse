{
 "cells": [
  {
   "cell_type": "markdown",
   "id": "f845551b",
   "metadata": {},
   "source": [
    "# Exercise 1 - Group 4\n",
    "- Matthias Egli\n",
    "- Florian Bär\n",
    "- Manuel Vogel\n",
    "- Adrian Willi"
   ]
  },
  {
   "cell_type": "code",
   "execution_count": 66,
   "id": "0d5a3cc2",
   "metadata": {},
   "outputs": [],
   "source": [
    "import numpy as np\n",
    "import random\n",
    "import matplotlib.pyplot as plt\n",
    "import tensorflow as tf"
   ]
  },
  {
   "cell_type": "code",
   "execution_count": 67,
   "id": "07582ad0",
   "metadata": {},
   "outputs": [
    {
     "name": "stdout",
     "output_type": "stream",
     "text": [
      "Loaded a corpus of 2567986 characters\n"
     ]
    }
   ],
   "source": [
    "keras = tf.keras\n",
    "\n",
    "with open(\"companies.csv\" ,encoding='utf-8') as corpus_file:\n",
    "    corpus = corpus_file.read()\n",
    "    corpus_length = len(corpus)\n",
    "print(\"Loaded a corpus of {0} characters\".format(corpus_length))"
   ]
  },
  {
   "cell_type": "code",
   "execution_count": 110,
   "id": "0b5b9dde",
   "metadata": {},
   "outputs": [
    {
     "name": "stdout",
     "output_type": "stream",
     "text": [
      "Our corpus contains 150 unique characters.\n"
     ]
    }
   ],
   "source": [
    "# Get a unique identifier for each char in the corpus,\n",
    "# then make some dicts to ease encoding and decoding\n",
    "chars = sorted(list(set(corpus)))\n",
    "num_chars = len(chars)\n",
    "encoding = {c: i for i, c in enumerate(chars)}\n",
    "decoding = {i: c for i, c in enumerate(chars)}\n",
    "print(\"Our corpus contains {0} unique characters.\".format(num_chars))"
   ]
  },
  {
   "cell_type": "markdown",
   "id": "c331ec6a",
   "metadata": {},
   "source": [
    "## Many-to-one approach"
   ]
  },
  {
   "cell_type": "code",
   "execution_count": 98,
   "id": "863f5d9b",
   "metadata": {},
   "outputs": [
    {
     "name": "stdout",
     "output_type": "stream",
     "text": [
      "Sliced our corpus into 855992 sentences of length 10\n"
     ]
    }
   ],
   "source": [
    "# chop up our data into X and y, slice into roughly \n",
    "# (num_chars / skip) overlapping 'sentences' of length \n",
    "# sentence_length, and encode the chars\n",
    "sentence_length = 10\n",
    "skip = 3\n",
    "X_data = []\n",
    "y_data = []\n",
    "for i in range (0, len(corpus) - sentence_length, skip):\n",
    "    sentence = corpus[i:i + sentence_length]\n",
    "    next_char = corpus[i + sentence_length]\n",
    "    X_data.append([encoding[char] for char in sentence])\n",
    "    y_data.append(encoding[next_char])\n",
    "\n",
    "num_sentences = len(X_data)\n",
    "print(\"Sliced our corpus into {0} sentences of length {1}\"\n",
    "      .format(num_sentences, sentence_length))"
   ]
  },
  {
   "cell_type": "code",
   "execution_count": 99,
   "id": "623fe119",
   "metadata": {},
   "outputs": [
    {
     "name": "stdout",
     "output_type": "stream",
     "text": [
      "[39, 63, 81, 70, 78, 74, 63, 87, 1, 40]\n"
     ]
    }
   ],
   "source": [
    "print(X_data[0])"
   ]
  },
  {
   "cell_type": "code",
   "execution_count": 100,
   "id": "35277de7",
   "metadata": {},
   "outputs": [
    {
     "name": "stdout",
     "output_type": "stream",
     "text": [
      "['H', 'a', 's', 'h', 'p', 'l', 'a', 'y', ' ', 'I']\n",
      "n\n"
     ]
    }
   ],
   "source": [
    "# An example of x and y\n",
    "print([decoding[idx] for idx in X_data[0]])\n",
    "print(decoding[y_data[0]])"
   ]
  },
  {
   "cell_type": "code",
   "execution_count": 101,
   "id": "381b424e",
   "metadata": {},
   "outputs": [
    {
     "name": "stdout",
     "output_type": "stream",
     "text": [
      "Sanity check y. Dimension: (855992, 150) # Sentences: 855992 Characters in corpus: 150\n",
      "Sanity check X. Dimension: (855992, 10, 150) Sentence length: 10\n"
     ]
    }
   ],
   "source": [
    "# Vectorize our data and labels. We want everything in one-hot.\n",
    "X = np.zeros((num_sentences, sentence_length, num_chars), dtype=bool)\n",
    "y = np.zeros((num_sentences, num_chars), dtype=bool)\n",
    "for i, sentence in enumerate(X_data):\n",
    "    for t, encoded_char in enumerate(sentence):\n",
    "        X[i, t, encoded_char] = 1\n",
    "    y[i, y_data[i]] = 1\n",
    "\n",
    "# Double check our vectorized data before we sink hours into fitting a model\n",
    "print(\"Sanity check y. Dimension: {0} # Sentences: {1} Characters in corpus: {2}\"\n",
    "      .format(y.shape, num_sentences, len(chars)))\n",
    "print(\"Sanity check X. Dimension: {0} Sentence length: {1}\"\n",
    "      .format(X.shape, sentence_length))"
   ]
  },
  {
   "cell_type": "code",
   "execution_count": 74,
   "id": "9676621a",
   "metadata": {},
   "outputs": [
    {
     "name": "stdout",
     "output_type": "stream",
     "text": [
      "Model: \"sequential_5\"\n",
      "_________________________________________________________________\n",
      " Layer (type)                Output Shape              Param #   \n",
      "=================================================================\n",
      " simple_rnn_4 (SimpleRNN)    (None, 64)                13760     \n",
      "                                                                 \n",
      " dense_4 (Dense)             (None, 150)               9750      \n",
      "                                                                 \n",
      " activation (Activation)     (None, 150)               0         \n",
      "                                                                 \n",
      "=================================================================\n",
      "Total params: 23,510\n",
      "Trainable params: 23,510\n",
      "Non-trainable params: 0\n",
      "_________________________________________________________________\n"
     ]
    }
   ],
   "source": [
    "# Define our model\n",
    "model = keras.models.Sequential()\n",
    "model.add(keras.layers.SimpleRNN(64, input_shape=(sentence_length, num_chars), return_sequences=False))\n",
    "model.add(keras.layers.Dense(num_chars))\n",
    "model.add(keras.layers.Activation('softmax'))\n",
    "model.compile(loss='categorical_crossentropy', optimizer='adam', metrics=['accuracy'])\n",
    "model.summary()"
   ]
  },
  {
   "cell_type": "code",
   "execution_count": 75,
   "id": "d5223168",
   "metadata": {},
   "outputs": [
    {
     "name": "stdout",
     "output_type": "stream",
     "text": [
      "Epoch 1/10\n",
      "6688/6688 [==============================] - 63s 9ms/step - loss: 2.5995 - accuracy: 0.2776\n",
      "Epoch 2/10\n",
      "6688/6688 [==============================] - 57s 9ms/step - loss: 2.3103 - accuracy: 0.3440\n",
      "Epoch 3/10\n",
      "6688/6688 [==============================] - 57s 8ms/step - loss: 2.2391 - accuracy: 0.3639\n",
      "Epoch 4/10\n",
      "6688/6688 [==============================] - 57s 9ms/step - loss: 2.1987 - accuracy: 0.3748\n",
      "Epoch 5/10\n",
      "6688/6688 [==============================] - 58s 9ms/step - loss: 2.1728 - accuracy: 0.3817\n",
      "Epoch 6/10\n",
      "6688/6688 [==============================] - 59s 9ms/step - loss: 2.1544 - accuracy: 0.3872\n",
      "Epoch 7/10\n",
      "6688/6688 [==============================] - 59s 9ms/step - loss: 2.1411 - accuracy: 0.3910\n",
      "Epoch 8/10\n",
      "6688/6688 [==============================] - 58s 9ms/step - loss: 2.1300 - accuracy: 0.3941\n",
      "Epoch 9/10\n",
      "6688/6688 [==============================] - 58s 9ms/step - loss: 2.1217 - accuracy: 0.3961\n",
      "Epoch 10/10\n",
      "6688/6688 [==============================] - 61s 9ms/step - loss: 2.1150 - accuracy: 0.3977\n"
     ]
    },
    {
     "data": {
      "image/png": "[encoded data removed]",
      "text/plain": [
       "<Figure size 432x288 with 1 Axes>"
      ]
     },
     "metadata": {
      "needs_background": "light"
     },
     "output_type": "display_data"
    }
   ],
   "source": [
    "#training time\n",
    "log = model.fit(X, y, epochs=10, batch_size=128)\n",
    "plt.plot(log.history['loss'], label='Training')\n",
    "plt.legend()\n",
    "plt.grid()"
   ]
  },
  {
   "cell_type": "code",
   "execution_count": 93,
   "id": "8f9a2078",
   "metadata": {},
   "outputs": [
    {
     "name": "stdout",
     "output_type": "stream",
     "text": [
      "Management\n",
      "Himsis Senger\n",
      "Chanzen\n",
      "Treeruda\n",
      "Tustiad\n",
      "XLOHZT Phirmace Medical\n",
      "JoC Benet Mank\n",
      "Sampkle Networks\n",
      "Vilicatd Management\n",
      "Highteshay Blounftaternam + Solutions\n",
      "\n"
     ]
    }
   ],
   "source": [
    "def make_seed(seed_phrase=\"\"):\n",
    "        if seed_phrase:  # make sure the seed has the right length\n",
    "            phrase_length = len(seed_phrase)\n",
    "            pattern = \"\"\n",
    "            for i in range (0, sentence_length):\n",
    "                pattern += seed_phrase[i % phrase_length]\n",
    "        else:            # sample randomly the seed from corpus\n",
    "            seed = randint(0, corpus_length - sentence_length)\n",
    "            pattern = corpus[seed:seed + sentence_length]\n",
    "        return pattern\n",
    "\n",
    "seed_pattern = make_seed(\"Management Company\")\n",
    "\n",
    "X = np.zeros((1, sentence_length, num_chars), dtype=float)\n",
    "for i, character in enumerate(seed_pattern):\n",
    "    X[0, i, encoding[character]] = 1\n",
    "\n",
    "generated_text = \"\"\n",
    "\n",
    "names = 1\n",
    "\n",
    "while names <= 10:\n",
    "    output_prob = model.predict(X, verbose=0)[0]\n",
    "    # in previous line predict() gives a tensor of shape (1, 65) \n",
    "    # with 1 being the size of the batch, for that we use [0] to get a vector\n",
    "    prediction = np.random.choice(num_chars, p = output_prob)\n",
    "    generated_text += decoding[prediction]\n",
    "    activations = np.zeros((1, 1, num_chars), dtype=bool)\n",
    "    activations[0, 0, prediction] = 1\n",
    "    #now remove first char and glue the predicted one\n",
    "    X = np.concatenate((X[:, 1:, :], activations), axis=1)\n",
    "    \n",
    "    if generated_text[-1] == '\\n':\n",
    "        names += 1\n",
    "    \n",
    "print(seed_pattern + generated_text)"
   ]
  },
  {
   "cell_type": "markdown",
   "id": "88cad2a7",
   "metadata": {},
   "source": [
    "Most of the generated names are not really useful but small parts of it are still syntactically correct."
   ]
  },
  {
   "cell_type": "markdown",
   "id": "e4bab225",
   "metadata": {},
   "source": [
    "## OPTIONAL - Many-to-many approach"
   ]
  },
  {
   "cell_type": "code",
   "execution_count": 111,
   "id": "1fc323fd",
   "metadata": {},
   "outputs": [
    {
     "name": "stdout",
     "output_type": "stream",
     "text": [
      "Sliced our corpus into 2567976 sentences of length 10\n"
     ]
    }
   ],
   "source": [
    "# chop up our data into X and y, slice into roughly \n",
    "# (num_chars / skip) overlapping 'sentences' of length \n",
    "# sentence_length, and encode the chars\n",
    "sentence_length = 10\n",
    "skip = 1\n",
    "X_data = []\n",
    "y_data = []\n",
    "for i in range (0, len(corpus) - sentence_length, skip):\n",
    "    sentence = corpus[i:i + sentence_length]\n",
    "    next_char = corpus[i+1:i+1 + sentence_length]\n",
    "    X_data.append([encoding[char] for char in sentence])\n",
    "    y_data.append([encoding[char] for char in next_char])\n",
    "\n",
    "num_sentences = len(X_data)\n",
    "print(\"Sliced our corpus into {0} sentences of length {1}\"\n",
    "      .format(num_sentences, sentence_length))"
   ]
  },
  {
   "cell_type": "code",
   "execution_count": 112,
   "id": "13119f5a",
   "metadata": {},
   "outputs": [
    {
     "name": "stdout",
     "output_type": "stream",
     "text": [
      "[39, 63, 81, 70, 78, 74, 63, 87, 1, 40]\n"
     ]
    }
   ],
   "source": [
    "print(X_data[0])"
   ]
  },
  {
   "cell_type": "code",
   "execution_count": 113,
   "id": "5fff2f1b",
   "metadata": {},
   "outputs": [
    {
     "name": "stdout",
     "output_type": "stream",
     "text": [
      "['H', 'a', 's', 'h', 'p', 'l', 'a', 'y', ' ', 'I']\n",
      "['a', 's', 'h', 'p', 'l', 'a', 'y', ' ', 'I', 'n']\n"
     ]
    }
   ],
   "source": [
    "print([decoding[idx] for idx in X_data[0]])\n",
    "print([decoding[idx] for idx in y_data[0]])"
   ]
  },
  {
   "cell_type": "code",
   "execution_count": 114,
   "id": "77b224e6",
   "metadata": {},
   "outputs": [],
   "source": [
    "# Vectorize our data and labels. We want everything in one-hot.\n",
    "X = np.zeros((num_sentences, sentence_length, num_chars), dtype=bool)\n",
    "y = np.zeros((num_sentences, sentence_length, num_chars), dtype=bool)\n",
    "for i, sentence in enumerate(X_data):\n",
    "    for t, encoded_char in enumerate(sentence):\n",
    "        X[i, t, encoded_char] = 1\n",
    "for i, sentence in enumerate(y_data):\n",
    "    for t, encoded_char in enumerate(sentence):\n",
    "        y[i, t, encoded_char] = 1"
   ]
  },
  {
   "cell_type": "code",
   "execution_count": 88,
   "id": "ac4b32a1",
   "metadata": {},
   "outputs": [
    {
     "name": "stdout",
     "output_type": "stream",
     "text": [
      "Model: \"sequential_6\"\n",
      "_________________________________________________________________\n",
      " Layer (type)                Output Shape              Param #   \n",
      "=================================================================\n",
      " simple_rnn_5 (SimpleRNN)    (None, 10, 64)            13760     \n",
      "                                                                 \n",
      " time_distributed (TimeDistr  (None, 10, 150)          9750      \n",
      " ibuted)                                                         \n",
      "                                                                 \n",
      "=================================================================\n",
      "Total params: 23,510\n",
      "Trainable params: 23,510\n",
      "Non-trainable params: 0\n",
      "_________________________________________________________________\n"
     ]
    }
   ],
   "source": [
    "# Define our model\n",
    "model_m2m = keras.models.Sequential()\n",
    "model_m2m.add(keras.layers.SimpleRNN(64, input_shape=(sentence_length, num_chars), return_sequences=True))\n",
    "model_m2m.add(keras.layers.TimeDistributed(keras.layers.Dense(num_chars, activation='softmax')))\n",
    "model_m2m.compile(loss='categorical_crossentropy', optimizer='adam', metrics=['accuracy'])\n",
    "model_m2m.summary()"
   ]
  },
  {
   "cell_type": "code",
   "execution_count": 89,
   "id": "21ab646b",
   "metadata": {},
   "outputs": [
    {
     "name": "stdout",
     "output_type": "stream",
     "text": [
      "Epoch 1/10\n",
      "20063/20063 [==============================] - 347s 17ms/step - loss: 2.3767 - accuracy: 0.3275\n",
      "Epoch 2/10\n",
      "20063/20063 [==============================] - 355s 18ms/step - loss: 2.2422 - accuracy: 0.3611\n",
      "Epoch 3/10\n",
      "20063/20063 [==============================] - 339s 17ms/step - loss: 2.2195 - accuracy: 0.3666\n",
      "Epoch 4/10\n",
      "20063/20063 [==============================] - 343s 17ms/step - loss: 2.2087 - accuracy: 0.3697\n",
      "Epoch 5/10\n",
      "20063/20063 [==============================] - 352s 18ms/step - loss: 2.2022 - accuracy: 0.3716\n",
      "Epoch 6/10\n",
      "20063/20063 [==============================] - 355s 18ms/step - loss: 2.1980 - accuracy: 0.3727\n",
      "Epoch 7/10\n",
      "20063/20063 [==============================] - 342s 17ms/step - loss: 2.1951 - accuracy: 0.3735\n",
      "Epoch 8/10\n",
      "20063/20063 [==============================] - 342s 17ms/step - loss: 2.1928 - accuracy: 0.3740\n",
      "Epoch 9/10\n",
      "20063/20063 [==============================] - 355s 18ms/step - loss: 2.1909 - accuracy: 0.3744\n",
      "Epoch 10/10\n",
      "20063/20063 [==============================] - 354s 18ms/step - loss: 2.1893 - accuracy: 0.3748\n"
     ]
    },
    {
     "data": {
      "image/png": "[encoded data removed]",
      "text/plain": [
       "<Figure size 432x288 with 1 Axes>"
      ]
     },
     "metadata": {
      "needs_background": "light"
     },
     "output_type": "display_data"
    }
   ],
   "source": [
    "#training time\n",
    "log = model_m2m.fit(X, y, epochs=10, batch_size=128)\n",
    "plt.plot(log.history['loss'], label='Training')\n",
    "plt.legend()\n",
    "plt.grid()"
   ]
  },
  {
   "cell_type": "code",
   "execution_count": 94,
   "id": "295a480a",
   "metadata": {},
   "outputs": [
    {
     "name": "stdout",
     "output_type": "stream",
     "text": [
      "Management\n",
      "Alead-Mayicing Cations\n",
      "Reens Technologital\n",
      "Taggant\n",
      "Matecon Cenfory, Muster\n",
      "Bryser Communications\n",
      "Kainmalt & Capital Hokernational\n",
      "SOPE\n",
      "fuel-Energy Raguosigencess\n",
      "Gambobb\n",
      "\n"
     ]
    }
   ],
   "source": [
    "def make_seed(seed_phrase=\"\"):\n",
    "        if seed_phrase:  # make sure the seed has the right length\n",
    "            phrase_length = len(seed_phrase)\n",
    "            pattern = \"\"\n",
    "            for i in range (0, sentence_length):\n",
    "                pattern += seed_phrase[i % phrase_length]\n",
    "        else:            # sample randomly the seed from corpus\n",
    "            seed = randint(0, corpus_length - sentence_length)\n",
    "            pattern = corpus[seed:seed + sentence_length]\n",
    "        return pattern\n",
    "\n",
    "seed_pattern = make_seed(\"Management Company\")\n",
    "\n",
    "X = np.zeros((1, sentence_length, num_chars), dtype=float)\n",
    "for i, character in enumerate(seed_pattern):\n",
    "    X[0, i, encoding[character]] = 1\n",
    "\n",
    "generated_text = \"\"\n",
    "\n",
    "names = 1\n",
    "\n",
    "while names <= 10:\n",
    "    output_prob = model_m2m.predict(X, verbose=0)[0][-1]\n",
    "    # in previous line predict() gives a tensor of shape (1, 65) \n",
    "    # with 1 being the size of the batch, for that we use [0] to get a vector\n",
    "    prediction = np.random.choice(num_chars, p = output_prob)\n",
    "    generated_text += decoding[prediction]\n",
    "    activations = np.zeros((1, 1, num_chars), dtype=bool)\n",
    "    activations[0, 0, prediction] = 1\n",
    "    #now remove first char and glue the predicted one\n",
    "    X = np.concatenate((X[:, 1:, :], activations), axis=1)\n",
    "    \n",
    "    if generated_text[-1] == '\\n':\n",
    "        names += 1\n",
    "    \n",
    "print(seed_pattern + generated_text)"
   ]
  },
  {
   "cell_type": "markdown",
   "id": "1619c34b",
   "metadata": {},
   "source": [
    "The loss could not be decreased compared to the Many-to-One approach. But the found startup names seem to be improved and some of them even could be used like Bryser Communications."
   ]
  },
  {
   "cell_type": "markdown",
   "id": "eaa09533",
   "metadata": {},
   "source": [
    "### Increasing the number of units"
   ]
  },
  {
   "cell_type": "code",
   "execution_count": 108,
   "id": "81e16697",
   "metadata": {},
   "outputs": [
    {
     "name": "stdout",
     "output_type": "stream",
     "text": [
      "Model: \"sequential_9\"\n",
      "_________________________________________________________________\n",
      " Layer (type)                Output Shape              Param #   \n",
      "=================================================================\n",
      " simple_rnn_8 (SimpleRNN)    (None, 10, 256)           104192    \n",
      "                                                                 \n",
      " time_distributed_3 (TimeDis  (None, 10, 150)          38550     \n",
      " tributed)                                                       \n",
      "                                                                 \n",
      "=================================================================\n",
      "Total params: 142,742\n",
      "Trainable params: 142,742\n",
      "Non-trainable params: 0\n",
      "_________________________________________________________________\n"
     ]
    }
   ],
   "source": [
    "# Define our model\n",
    "model_m2m_big = keras.models.Sequential()\n",
    "model_m2m_big.add(keras.layers.SimpleRNN(256, input_shape=(sentence_length, num_chars), return_sequences=True))\n",
    "model_m2m_big.add(keras.layers.TimeDistributed(keras.layers.Dense(num_chars, activation='softmax')))\n",
    "model_m2m_big.compile(loss='categorical_crossentropy', optimizer='adam', metrics=['accuracy'])\n",
    "model_m2m_big.summary()"
   ]
  },
  {
   "cell_type": "code",
   "execution_count": 109,
   "id": "5f32e5b6",
   "metadata": {},
   "outputs": [
    {
     "name": "stdout",
     "output_type": "stream",
     "text": [
      "Epoch 1/10\n",
      "20063/20063 [==============================] - 580s 29ms/step - loss: 2.1875 - accuracy: 0.3774\n",
      "Epoch 2/10\n",
      "20063/20063 [==============================] - 559s 28ms/step - loss: 2.0361 - accuracy: 0.4146\n",
      "Epoch 3/10\n",
      "20063/20063 [==============================] - 571s 28ms/step - loss: 2.0102 - accuracy: 0.4206\n",
      "Epoch 4/10\n",
      "20063/20063 [==============================] - 585s 29ms/step - loss: 1.9971 - accuracy: 0.4238\n",
      "Epoch 5/10\n",
      "20063/20063 [==============================] - 601s 30ms/step - loss: 1.9887 - accuracy: 0.4258\n",
      "Epoch 6/10\n",
      "20063/20063 [==============================] - 604s 30ms/step - loss: 1.9828 - accuracy: 0.4274\n",
      "Epoch 7/10\n",
      "20063/20063 [==============================] - 616s 31ms/step - loss: 1.9784 - accuracy: 0.4283\n",
      "Epoch 8/10\n",
      "20063/20063 [==============================] - 629s 31ms/step - loss: 1.9751 - accuracy: 0.4292\n",
      "Epoch 9/10\n",
      "20063/20063 [==============================] - 654s 33ms/step - loss: 1.9724 - accuracy: 0.4298\n",
      "Epoch 10/10\n",
      "20063/20063 [==============================] - 648s 32ms/step - loss: 1.9701 - accuracy: 0.4303\n"
     ]
    },
    {
     "data": {
      "image/png": "[encoded data removed]",
      "text/plain": [
       "<Figure size 432x288 with 1 Axes>"
      ]
     },
     "metadata": {
      "needs_background": "light"
     },
     "output_type": "display_data"
    }
   ],
   "source": [
    "#training time\n",
    "log = model_m2m_big.fit(X, y, epochs=10, batch_size=128)\n",
    "plt.plot(log.history['loss'], label='Training')\n",
    "plt.legend()\n",
    "plt.grid()"
   ]
  },
  {
   "cell_type": "code",
   "execution_count": 127,
   "id": "22b71c24",
   "metadata": {},
   "outputs": [
    {
     "name": "stdout",
     "output_type": "stream",
     "text": [
      "Management\n",
      "WeMcAlari\n",
      "Leval Lab\n",
      "Brabile\n",
      "Emoveso\n",
      "GigNet One\n",
      "Avansup\n",
      "Workinia.com\n",
      "Emersacular\n",
      "YuMess\n",
      "\n"
     ]
    }
   ],
   "source": [
    "def make_seed(seed_phrase=\"\"):\n",
    "        if seed_phrase:  # make sure the seed has the right length\n",
    "            phrase_length = len(seed_phrase)\n",
    "            pattern = \"\"\n",
    "            for i in range (0, sentence_length):\n",
    "                pattern += seed_phrase[i % phrase_length]\n",
    "        else:            # sample randomly the seed from corpus\n",
    "            seed = randint(0, corpus_length - sentence_length)\n",
    "            pattern = corpus[seed:seed + sentence_length]\n",
    "        return pattern\n",
    "\n",
    "seed_pattern = make_seed(\"Management Company\")\n",
    "\n",
    "X = np.zeros((1, sentence_length, num_chars), dtype=float)\n",
    "for i, character in enumerate(seed_pattern):\n",
    "    X[0, i, encoding[character]] = 1\n",
    "\n",
    "generated_text = \"\"\n",
    "\n",
    "names = 1\n",
    "\n",
    "while names <= 10:\n",
    "    output_prob = model_m2m_big.predict(X, verbose=0)[0][-1]\n",
    "    # in previous line predict() gives a tensor of shape (1, 65) \n",
    "    # with 1 being the size of the batch, for that we use [0] to get a vector\n",
    "    prediction = np.random.choice(num_chars, p = output_prob)\n",
    "    generated_text += decoding[prediction]\n",
    "    activations = np.zeros((1, 1, num_chars), dtype=bool)\n",
    "    activations[0, 0, prediction] = 1\n",
    "    #now remove first char and glue the predicted one\n",
    "    X = np.concatenate((X[:, 1:, :], activations), axis=1)\n",
    "    \n",
    "    if generated_text[-1] == '\\n':\n",
    "        names += 1\n",
    "    \n",
    "print(seed_pattern + generated_text)"
   ]
  },
  {
   "cell_type": "markdown",
   "id": "fd8f58c5",
   "metadata": {},
   "source": [
    "Using more units helps to decrease the loss. The startup names are not really improved but a bit shorter. YuMess is my fav."
   ]
  },
  {
   "cell_type": "markdown",
   "id": "e4238b12",
   "metadata": {},
   "source": [
    "## OPTIONAL - Use GRU or LSTM"
   ]
  },
  {
   "cell_type": "code",
   "execution_count": 115,
   "id": "cfa741e3",
   "metadata": {},
   "outputs": [
    {
     "name": "stdout",
     "output_type": "stream",
     "text": [
      "Model: \"sequential_10\"\n",
      "_________________________________________________________________\n",
      " Layer (type)                Output Shape              Param #   \n",
      "=================================================================\n",
      " gru (GRU)                   (None, 10, 256)           313344    \n",
      "                                                                 \n",
      " time_distributed_4 (TimeDis  (None, 10, 150)          38550     \n",
      " tributed)                                                       \n",
      "                                                                 \n",
      "=================================================================\n",
      "Total params: 351,894\n",
      "Trainable params: 351,894\n",
      "Non-trainable params: 0\n",
      "_________________________________________________________________\n"
     ]
    }
   ],
   "source": [
    "# Define our model\n",
    "model_m2m_gru = keras.models.Sequential()\n",
    "model_m2m_gru.add(keras.layers.GRU(256, input_shape=(sentence_length, num_chars), return_sequences=True))\n",
    "model_m2m_gru.add(keras.layers.TimeDistributed(keras.layers.Dense(num_chars, activation='softmax')))\n",
    "model_m2m_gru.compile(loss='categorical_crossentropy', optimizer='adam', metrics=['accuracy'])\n",
    "model_m2m_gru.summary()"
   ]
  },
  {
   "cell_type": "code",
   "execution_count": 116,
   "id": "18a7b4b5",
   "metadata": {},
   "outputs": [
    {
     "name": "stdout",
     "output_type": "stream",
     "text": [
      "Epoch 1/10\n",
      "20063/20063 [==============================] - 1172s 58ms/step - loss: 2.0617 - accuracy: 0.4087\n",
      "Epoch 2/10\n",
      "20063/20063 [==============================] - 1192s 59ms/step - loss: 1.9218 - accuracy: 0.4425\n",
      "Epoch 3/10\n",
      "20063/20063 [==============================] - 1197s 60ms/step - loss: 1.8975 - accuracy: 0.4482\n",
      "Epoch 4/10\n",
      "20063/20063 [==============================] - 1226s 61ms/step - loss: 1.8847 - accuracy: 0.4512\n",
      "Epoch 5/10\n",
      "20063/20063 [==============================] - 1251s 62ms/step - loss: 1.8764 - accuracy: 0.4532\n",
      "Epoch 6/10\n",
      "20063/20063 [==============================] - 1270s 63ms/step - loss: 1.8705 - accuracy: 0.4546\n",
      "Epoch 7/10\n",
      "20063/20063 [==============================] - 1295s 65ms/step - loss: 1.8662 - accuracy: 0.4556\n",
      "Epoch 8/10\n",
      "20063/20063 [==============================] - 1305s 65ms/step - loss: 1.8626 - accuracy: 0.4565\n",
      "Epoch 9/10\n",
      "20063/20063 [==============================] - 1329s 66ms/step - loss: 1.8598 - accuracy: 0.4571\n",
      "Epoch 10/10\n",
      "20063/20063 [==============================] - 1351s 67ms/step - loss: 1.8575 - accuracy: 0.4576\n"
     ]
    },
    {
     "data": {
      "image/png": "[encoded data removed]",
      "text/plain": [
       "<Figure size 432x288 with 1 Axes>"
      ]
     },
     "metadata": {
      "needs_background": "light"
     },
     "output_type": "display_data"
    }
   ],
   "source": [
    "#training time\n",
    "log = model_m2m_gru.fit(X, y, epochs=10, batch_size=128)\n",
    "plt.plot(log.history['loss'], label='Training')\n",
    "plt.legend()\n",
    "plt.grid()"
   ]
  },
  {
   "cell_type": "code",
   "execution_count": 128,
   "id": "d7d55b39",
   "metadata": {},
   "outputs": [
    {
     "name": "stdout",
     "output_type": "stream",
     "text": [
      "Management Engineering\n",
      "MUITEC\n",
      "Chelo\n",
      "Immuloge it\n",
      "Strategies\n",
      "Fearchef Asset Facilitar Codefy\n",
      "tree.tk\n",
      "Puzzle Sara\n",
      "BMG Corp\n",
      "Goody Foods\n",
      "\n"
     ]
    }
   ],
   "source": [
    "def make_seed(seed_phrase=\"\"):\n",
    "        if seed_phrase:  # make sure the seed has the right length\n",
    "            phrase_length = len(seed_phrase)\n",
    "            pattern = \"\"\n",
    "            for i in range (0, sentence_length):\n",
    "                pattern += seed_phrase[i % phrase_length]\n",
    "        else:            # sample randomly the seed from corpus\n",
    "            seed = randint(0, corpus_length - sentence_length)\n",
    "            pattern = corpus[seed:seed + sentence_length]\n",
    "        return pattern\n",
    "\n",
    "seed_pattern = make_seed(\"Management Company\")\n",
    "\n",
    "X = np.zeros((1, sentence_length, num_chars), dtype=float)\n",
    "for i, character in enumerate(seed_pattern):\n",
    "    X[0, i, encoding[character]] = 1\n",
    "\n",
    "generated_text = \"\"\n",
    "\n",
    "names = 1\n",
    "\n",
    "while names <= 10:\n",
    "    output_prob = model_m2m_gru.predict(X, verbose=0)[0][-1]\n",
    "    # in previous line predict() gives a tensor of shape (1, 65) \n",
    "    # with 1 being the size of the batch, for that we use [0] to get a vector\n",
    "    prediction = np.random.choice(num_chars, p = output_prob)\n",
    "    generated_text += decoding[prediction]\n",
    "    activations = np.zeros((1, 1, num_chars), dtype=bool)\n",
    "    activations[0, 0, prediction] = 1\n",
    "    #now remove first char and glue the predicted one\n",
    "    X = np.concatenate((X[:, 1:, :], activations), axis=1)\n",
    "    \n",
    "    if generated_text[-1] == '\\n':\n",
    "        names += 1\n",
    "    \n",
    "print(seed_pattern + generated_text)"
   ]
  },
  {
   "cell_type": "markdown",
   "id": "a306fac7",
   "metadata": {},
   "source": [
    "Using GRU gives us already quite cool startup names. I mean tree.tk (tree dot tk) sounds like a fancy startup which is planting some trees to me ;)."
   ]
  }
 ],
 "metadata": {
  "kernelspec": {
   "display_name": "Python 3 (ipykernel)",
   "language": "python",
   "name": "python3"
  },
  "language_info": {
   "codemirror_mode": {
    "name": "ipython",
    "version": 3
   },
   "file_extension": ".py",
   "mimetype": "text/x-python",
   "name": "python",
   "nbconvert_exporter": "python",
   "pygments_lexer": "ipython3",
   "version": "3.9.7"
  }
 },
 "nbformat": 4,
 "nbformat_minor": 5
}
