{
 "cells": [
  {
   "cell_type": "markdown",
   "id": "f9353335",
   "metadata": {},
   "source": [
    "# Exercise 2 - Group 4\n",
    "- Matthias Egli\n",
    "- Florian Bär\n",
    "- Manuel Vogel\n",
    "- Adrian Willi"
   ]
  },
  {
   "cell_type": "code",
   "execution_count": 1,
   "id": "05017035",
   "metadata": {},
   "outputs": [],
   "source": [
    "import os \n",
    "import tensorflow as tf\n",
    "import numpy as np\n",
    "import matplotlib.pyplot as plt"
   ]
  },
  {
   "cell_type": "markdown",
   "id": "5e286bb5",
   "metadata": {},
   "source": [
    "### a) Read lexicons"
   ]
  },
  {
   "cell_type": "code",
   "execution_count": 3,
   "id": "0b504921",
   "metadata": {},
   "outputs": [],
   "source": [
    "def read_vocabulary_from_file(filename):\n",
    "    with open(filename , 'r', encoding=\"ISO-8859-1\") as f:\n",
    "        content = f.readlines() # content is a list of lines\n",
    "        content = [x.strip() for x in content] # removing newline chars\n",
    "        content = [x for x in content if x != \"\"] # remove empty words\n",
    "        content = [x for x in content if x[0] not in [';', '+']] # remove invalid words\n",
    "        content = [x for x in content if x[-1] not in [';', '+']] # remove invalid words\n",
    "\n",
    "        return content"
   ]
  },
  {
   "cell_type": "code",
   "execution_count": 10,
   "id": "8d2bce5d",
   "metadata": {},
   "outputs": [],
   "source": [
    "pos_words = read_vocabulary_from_file(\"opinion-lexicon-English/positive-words.txt\")\n",
    "neg_words = read_vocabulary_from_file(\"opinion-lexicon-English/negative-words.txt\")\n",
    "\n",
    "assert len(pos_words) == 2005\n",
    "assert len(neg_words) == 4783"
   ]
  },
  {
   "cell_type": "markdown",
   "id": "cd604831",
   "metadata": {},
   "source": [
    "### b) Convert words into vectors"
   ]
  },
  {
   "cell_type": "code",
   "execution_count": 11,
   "id": "6f9cd78b",
   "metadata": {},
   "outputs": [],
   "source": [
    "def load_glove_embeddings(path):\n",
    "    embeddings = {}\n",
    "    with open(path , 'r', encoding='utf-8') as f:\n",
    "        for line in f:\n",
    "            values = line.strip().split()\n",
    "            w = values[0]\n",
    "            vectors = np.asarray(values[1:], dtype='float32')\n",
    "            embeddings[w] = vectors\n",
    "    return embeddings"
   ]
  },
  {
   "cell_type": "code",
   "execution_count": 21,
   "id": "ee51bf06",
   "metadata": {},
   "outputs": [
    {
     "name": "stdout",
     "output_type": "stream",
     "text": [
      "Size of embedding:  400000\n",
      "Emedding for  happy :\n",
      " [ 0.092086  0.2571   -0.58693  -0.37029   1.0828   -0.55466  -0.78142\n",
      "  0.58696  -0.58714   0.46318  -0.11267   0.2606   -0.26928  -0.072466\n",
      "  1.247     0.30571   0.56731   0.30509  -0.050312 -0.64443  -0.54513\n",
      "  0.86429   0.20914   0.56334   1.1228   -1.0516   -0.78105   0.29656\n",
      "  0.7261   -0.61392   2.4225    1.0142   -0.17753   0.4147   -0.12966\n",
      " -0.47064   0.3807    0.16309  -0.323    -0.77899  -0.42473  -0.30826\n",
      " -0.42242   0.055069  0.38267   0.037415 -0.4302   -0.39442   0.10511\n",
      "  0.87286 ]\n"
     ]
    }
   ],
   "source": [
    "word_dict = load_glove_embeddings('glove.6B.50d.txt/glove.6B.50d.txt')\n",
    "print(\"Size of embedding: \", len(word_dict))\n",
    "word = 'happy'\n",
    "print(\"Emedding for \", word, \":\\n\", word_dict[word])"
   ]
  },
  {
   "cell_type": "markdown",
   "id": "192e19ec",
   "metadata": {},
   "source": [
    "### c) Prepare the training and testing sets"
   ]
  },
  {
   "cell_type": "code",
   "execution_count": 22,
   "id": "3a014a20",
   "metadata": {},
   "outputs": [
    {
     "name": "stdout",
     "output_type": "stream",
     "text": [
      "positive word embeddings:  (1893, 50)\n",
      "negative word embeddings:  (4345, 50)\n"
     ]
    }
   ],
   "source": [
    "pos_word_embeddings = np.array([word_dict[w] for w in pos_words if w in word_dict])\n",
    "neg_word_embeddings = np.array([word_dict[w] for w in neg_words if w in word_dict])\n",
    "\n",
    "print(\"positive word embeddings: \", pos_word_embeddings.shape)\n",
    "print(\"negative word embeddings: \", neg_word_embeddings.shape)"
   ]
  },
  {
   "cell_type": "code",
   "execution_count": 30,
   "id": "e85d7766",
   "metadata": {},
   "outputs": [
    {
     "name": "stdout",
     "output_type": "stream",
     "text": [
      "X_train: (3000, 50) y_train: (3000,)\n",
      "X_test: (3238, 50) y_test: (3238,)\n"
     ]
    }
   ],
   "source": [
    "n = 1500\n",
    "\n",
    "X_train = np.concatenate((pos_word_embeddings[:n], neg_word_embeddings[:n]), axis=0)\n",
    "X_test = np.concatenate((pos_word_embeddings[n:], neg_word_embeddings[n:]), axis=0)\n",
    "\n",
    "y_train = np.concatenate((np.ones(n), np.zeros(n)))\n",
    "y_test = np.concatenate((np.ones(pos_word_embeddings[n:].shape[0]),\n",
    "                         np.zeros(neg_word_embeddings[n:].shape[0])))\n",
    "\n",
    "train_indices = np.random.permutation(X_train.shape[0])\n",
    "test_indices = np.random.permutation(X_test.shape[0])\n",
    "\n",
    "X_train, y_train = X_train[train_indices], y_train[train_indices]\n",
    "X_test, y_test = X_test[test_indices], y_test[test_indices]\n",
    "\n",
    "print(\"X_train:\", X_train.shape, \"y_train:\", y_train.shape)\n",
    "print(\"X_test:\", X_test.shape, \"y_test:\", y_test.shape)"
   ]
  },
  {
   "cell_type": "markdown",
   "id": "9e923610",
   "metadata": {},
   "source": [
    "### d) Train and evaluate a classifier"
   ]
  },
  {
   "cell_type": "code",
   "execution_count": 31,
   "id": "8f295f44",
   "metadata": {},
   "outputs": [],
   "source": [
    "keras = tf.keras\n",
    "\n",
    "model = keras.models.Sequential([\n",
    "    keras.layers.Dense(100, activation=\"relu\", kernel_initializer=\"he_normal\"),\n",
    "    keras.layers.Dense(50, activation=\"relu\", kernel_initializer=\"he_normal\"),\n",
    "    keras.layers.Dense(1, activation=\"sigmoid\")\n",
    "])\n",
    "\n",
    "model.compile(loss=\"binary_crossentropy\", metrics=[\"accuracy\"], optimizer=keras.optimizers.Adam(lr=0.001))"
   ]
  },
  {
   "cell_type": "code",
   "execution_count": 32,
   "id": "a26957da",
   "metadata": {},
   "outputs": [
    {
     "data": {
      "image/png": "[encoded data removed]",
      "text/plain": [
       "<Figure size 432x288 with 1 Axes>"
      ]
     },
     "metadata": {
      "needs_background": "light"
     },
     "output_type": "display_data"
    }
   ],
   "source": [
    "log = model.fit(X_train, y_train, batch_size=32, epochs=100, verbose=0, validation_data=(X_test, y_test))\n",
    "\n",
    "plt.plot(log.history[\"accuracy\"])\n",
    "plt.plot(log.history[\"val_accuracy\"])\n",
    "plt.title(f\"max test accuracy: {round(max(log.history['val_accuracy']), 3)}\")\n",
    "plt.show()"
   ]
  },
  {
   "cell_type": "markdown",
   "id": "e55235ae",
   "metadata": {},
   "source": [
    "### e) Analysis of results and discussions."
   ]
  },
  {
   "cell_type": "code",
   "execution_count": 34,
   "id": "19229627",
   "metadata": {},
   "outputs": [
    {
     "name": "stdout",
     "output_type": "stream",
     "text": [
      "positive test words: 393 negative test words: 2845\n",
      "total test words: 3238\n"
     ]
    }
   ],
   "source": [
    "pos_words_test = [w for w in pos_words if w in word_dict]\n",
    "neg_words_test = [w for w in neg_words if w in word_dict]\n",
    "pos_words_test = [w for w in pos_words_test if pos_words_test.index(w) >= n]\n",
    "neg_words_test = [w for w in neg_words_test if neg_words_test.index(w) >= n]\n",
    "\n",
    "print(\"positive test words:\", len(pos_words_test), \"negative test words:\", len(neg_words_test))\n",
    "\n",
    "test_words = pos_words_test + neg_words_test\n",
    "print(\"total test words:\", len(test_words))"
   ]
  },
  {
   "cell_type": "code",
   "execution_count": 35,
   "id": "52f98c4e",
   "metadata": {},
   "outputs": [],
   "source": [
    "test_pred = model.predict(X_test)\n",
    "test_word_predictions = [(test_words[i], y_test[i], test_pred[i][0]) for i in range(X_test.shape[0])]"
   ]
  },
  {
   "cell_type": "code",
   "execution_count": 36,
   "id": "ff9c23e9",
   "metadata": {},
   "outputs": [
    {
     "name": "stdout",
     "output_type": "stream",
     "text": [
      "serene\n",
      "( positive , prob= 1.0 )\n",
      "\n",
      "simpler\n",
      "( positive , prob= 1.0 )\n",
      "\n",
      "sociable\n",
      "( positive , prob= 1.0 )\n",
      "\n",
      "spectacularly\n",
      "( positive , prob= 1.0 )\n",
      "\n",
      "strong\n",
      "( positive , prob= 1.0 )\n",
      "\n",
      "overdue\n",
      "( negative , prob= 0.0 )\n",
      "\n",
      "shrill\n",
      "( negative , prob= 0.0 )\n",
      "\n",
      "zaps\n",
      "( negative , prob= 0.0 )\n",
      "\n",
      "tortures\n",
      "( negative , prob= 0.0 )\n",
      "\n",
      "misaligned\n",
      "( negative , prob= 0.0 )\n",
      "\n"
     ]
    }
   ],
   "source": [
    "pos_sorted = sorted(test_word_predictions, key=lambda x: x[-1], reverse=True)[:5]\n",
    "neg_sorted = sorted(test_word_predictions, key=lambda x: x[-1], reverse=False)[:5]\n",
    "\n",
    "for w, l, p in pos_sorted + neg_sorted:\n",
    "    print(w)\n",
    "    print(\"(\", \"positive\" if l == 1 else \"negative\", \", prob=\", round(p, 3), \")\")\n",
    "    print()"
   ]
  },
  {
   "cell_type": "markdown",
   "id": "3095e3e7",
   "metadata": {},
   "source": [
    "Both the negative and positive words are reasonable."
   ]
  },
  {
   "cell_type": "code",
   "execution_count": 37,
   "id": "34a0b3f7",
   "metadata": {},
   "outputs": [
    {
     "name": "stdout",
     "output_type": "stream",
     "text": [
      "misuse\n",
      "( negative , prob= 0.5 )\n",
      "\n",
      "veritable\n",
      "( positive , prob= 0.501 )\n",
      "\n",
      "pervert\n",
      "( negative , prob= 0.496 )\n",
      "\n",
      "upset\n",
      "( negative , prob= 0.492 )\n",
      "\n",
      "miscreant\n",
      "( negative , prob= 0.491 )\n",
      "\n"
     ]
    }
   ],
   "source": [
    "unsure = sorted(test_word_predictions, key=lambda x: abs(0.5 - x[-1]), reverse=False)[:5]\n",
    "\n",
    "for w, l, p in unsure:\n",
    "    print(w)\n",
    "    print(\"(\", \"positive\" if l == 1 else \"negative\", \", prob=\", round(p, 3), \")\")\n",
    "    print()"
   ]
  },
  {
   "cell_type": "markdown",
   "id": "1a77e502",
   "metadata": {},
   "source": [
    "While some of the words have a clear negative meaning to me like misuse or upset have others like veritable a less clear meaning."
   ]
  }
 ],
 "metadata": {
  "kernelspec": {
   "display_name": "Python 3 (ipykernel)",
   "language": "python",
   "name": "python3"
  },
  "language_info": {
   "codemirror_mode": {
    "name": "ipython",
    "version": 3
   },
   "file_extension": ".py",
   "mimetype": "text/x-python",
   "name": "python",
   "nbconvert_exporter": "python",
   "pygments_lexer": "ipython3",
   "version": "3.9.7"
  }
 },
 "nbformat": 4,
 "nbformat_minor": 5
}
